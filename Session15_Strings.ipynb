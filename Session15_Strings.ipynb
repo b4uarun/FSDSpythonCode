{
 "cells": [
  {
   "cell_type": "markdown",
   "id": "e0ac2bf3-496e-4606-8cc9-1a40651d855a",
   "metadata": {},
   "source": [
    "## Basic python\n",
    "- Variables\n",
    "\n",
    "- functions\n",
    "- \n",
    "\n",
    "## Intermidiate python\n",
    "- strings\n",
    "- lists\n",
    "- List comrehension\n",
    "- tuples\n",
    "- sets\n",
    "- Dictonary\n",
    "- Lamda function\n",
    "- file handling\n",
    "\n",
    "- opps concepts"
   ]
  },
  {
   "cell_type": "markdown",
   "id": "d869f3c2-54bd-4bc1-9a03-9f6637621608",
   "metadata": {},
   "source": [
    "- Basic representations\n",
    "- Some inbuilt functions to be used, \n",
    "    - print\n",
    "    - type\n",
    "    - len\n",
    "    - sum\n",
    "    - max\n",
    "    - min\n",
    "    - sorted\n",
    "    - reversed\n",
    "- concatination\n",
    "- index\n",
    "- mutable/immutable concepts\n",
    "- slicing\n",
    "- methods"
   ]
  },
  {
   "cell_type": "markdown",
   "id": "04e81ff1-5bb8-4cf7-98d0-3ea2595f1131",
   "metadata": {},
   "source": [
    "**strings**"
   ]
  },
  {
   "cell_type": "markdown",
   "id": "4c3665ec-c3e0-4a28-9cd4-d4280e34bdad",
   "metadata": {},
   "source": [
    "- python will give output in single quotes\n",
    "- when we print output we will get without qouts"
   ]
  },
  {
   "cell_type": "code",
   "execution_count": 8,
   "id": "feb8fd21-985d-4648-bd69-7885001f4c26",
   "metadata": {},
   "outputs": [
    {
     "name": "stdout",
     "output_type": "stream",
     "text": [
      "I love 'Python'\n"
     ]
    }
   ],
   "source": [
    "str1=\"I love 'Python'\"\n",
    "print(str1)"
   ]
  },
  {
   "cell_type": "markdown",
   "id": "02507055-0fea-4f13-9be2-012b8947a939",
   "metadata": {},
   "source": [
    "**Doc string**\n",
    "- triple qoute means a doc string\n",
    "- it means user is conveying some information"
   ]
  },
  {
   "cell_type": "markdown",
   "id": "02dde10e-63af-4046-96cd-045a5218c4af",
   "metadata": {},
   "source": [
    "\"\"\"I love python\"\"\""
   ]
  },
  {
   "cell_type": "code",
   "execution_count": 11,
   "id": "85c38039-a04a-4e0f-ac0f-84006e490994",
   "metadata": {},
   "outputs": [
    {
     "data": {
      "text/plain": [
       "str"
      ]
     },
     "execution_count": 11,
     "metadata": {},
     "output_type": "execute_result"
    }
   ],
   "source": [
    "name=\"Python\"\n",
    "type(name)"
   ]
  },
  {
   "cell_type": "code",
   "execution_count": 14,
   "id": "b2807beb-4f04-4f1c-8715-b3f2bbc9db64",
   "metadata": {},
   "outputs": [
    {
     "data": {
      "text/plain": [
       "6"
      ]
     },
     "execution_count": 14,
     "metadata": {},
     "output_type": "execute_result"
    }
   ],
   "source": [
    "len(name)"
   ]
  },
  {
   "cell_type": "code",
   "execution_count": 16,
   "id": "c8de70ce-81e4-466e-b278-91c8ce4faf55",
   "metadata": {},
   "outputs": [
    {
     "data": {
      "text/plain": [
       "'y'"
      ]
     },
     "execution_count": 16,
     "metadata": {},
     "output_type": "execute_result"
    }
   ],
   "source": [
    "max(name)"
   ]
  },
  {
   "cell_type": "code",
   "execution_count": 18,
   "id": "7fc94f69-edc0-44c0-a7da-e3a91273c2ee",
   "metadata": {},
   "outputs": [
    {
     "data": {
      "text/plain": [
       "'P'"
      ]
     },
     "execution_count": 18,
     "metadata": {},
     "output_type": "execute_result"
    }
   ],
   "source": [
    "min(name)"
   ]
  },
  {
   "cell_type": "code",
   "execution_count": 20,
   "id": "d26216f7-9243-4e47-a282-f7694f6f5beb",
   "metadata": {},
   "outputs": [
    {
     "data": {
      "text/plain": [
       "['P', 'h', 'n', 'o', 't', 'y']"
      ]
     },
     "execution_count": 20,
     "metadata": {},
     "output_type": "execute_result"
    }
   ],
   "source": [
    "sorted(name)"
   ]
  },
  {
   "cell_type": "code",
   "execution_count": 30,
   "id": "c3a24f22-f999-4623-82de-54278ef5da72",
   "metadata": {},
   "outputs": [
    {
     "data": {
      "text/plain": [
       "<reversed at 0x25777a3b460>"
      ]
     },
     "execution_count": 30,
     "metadata": {},
     "output_type": "execute_result"
    }
   ],
   "source": [
    "reversed(name)"
   ]
  },
  {
   "cell_type": "code",
   "execution_count": 34,
   "id": "79b38105-2b86-446a-aac3-3dc35e0c002a",
   "metadata": {},
   "outputs": [
    {
     "name": "stdin",
     "output_type": "stream",
     "text": [
      "Enter string you want to play with: arun\n"
     ]
    },
    {
     "name": "stdout",
     "output_type": "stream",
     "text": [
      "Type of the str1 variable: <class 'str'>\n",
      "Length of the string that you entered: 4\n",
      "Max ASCI value of letters in your string that you entered: u\n",
      "Min ASCI value of letters in your of string that you entered: a\n",
      "Sorted order of string that you entered: ['a', 'n', 'r', 'u']\n",
      "Reversed of string that you entered: <reversed object at 0x00000257775B82E0>\n"
     ]
    }
   ],
   "source": [
    "str1=input(\"Enter string you want to play with:\")\n",
    "print(\"Type of the str1 variable:\", type(str1))\n",
    "print(\"Length of the string that you entered:\", len(str1))\n",
    "print(\"Max ASCI value of letters in your string that you entered:\", max(str1))\n",
    "print(\"Min ASCI value of letters in your of string that you entered:\", min(str1))\n",
    "print(\"Sorted order of string that you entered:\", sorted(str1))\n",
    "print(\"Reversed of string that you entered:\", reversed(str1))"
   ]
  },
  {
   "cell_type": "code",
   "execution_count": 36,
   "id": "e4ef3eac-dcde-4411-bd32-55ad65e1f4c0",
   "metadata": {},
   "outputs": [
    {
     "ename": "TypeError",
     "evalue": "add() got some positional-only arguments passed as keyword arguments: 'a'",
     "output_type": "error",
     "traceback": [
      "\u001b[1;31m---------------------------------------------------------------------------\u001b[0m",
      "\u001b[1;31mTypeError\u001b[0m                                 Traceback (most recent call last)",
      "Cell \u001b[1;32mIn[36], line 3\u001b[0m\n\u001b[0;32m      1\u001b[0m \u001b[38;5;28;01mdef\u001b[39;00m \u001b[38;5;21madd\u001b[39m(a,\u001b[38;5;241m/\u001b[39m,b):\n\u001b[0;32m      2\u001b[0m     \u001b[38;5;28mprint\u001b[39m(a\u001b[38;5;241m+\u001b[39mb)\n\u001b[1;32m----> 3\u001b[0m add(a\u001b[38;5;241m=\u001b[39m\u001b[38;5;241m20\u001b[39m,b\u001b[38;5;241m=\u001b[39m\u001b[38;5;241m30\u001b[39m)\n",
      "\u001b[1;31mTypeError\u001b[0m: add() got some positional-only arguments passed as keyword arguments: 'a'"
     ]
    }
   ],
   "source": [
    "def add(a,/,b):\n",
    "    print(a+b)\n",
    "add(a=20,b=30)"
   ]
  },
  {
   "cell_type": "code",
   "execution_count": 38,
   "id": "c7add784-d51a-4f15-85a2-e26cd7e4e538",
   "metadata": {},
   "outputs": [
    {
     "name": "stdout",
     "output_type": "stream",
     "text": [
      "50\n"
     ]
    }
   ],
   "source": [
    "def add(a,/,b):\n",
    "    print(a+b)\n",
    "add(20,b=30)"
   ]
  },
  {
   "cell_type": "code",
   "execution_count": 40,
   "id": "0c8b8957-ea14-4fbe-8c64-f1bd7a5ea535",
   "metadata": {},
   "outputs": [
    {
     "ename": "SyntaxError",
     "evalue": "positional argument follows keyword argument (328008280.py, line 3)",
     "output_type": "error",
     "traceback": [
      "\u001b[1;36m  Cell \u001b[1;32mIn[40], line 3\u001b[1;36m\u001b[0m\n\u001b[1;33m    add(a=20,30)\u001b[0m\n\u001b[1;37m               ^\u001b[0m\n\u001b[1;31mSyntaxError\u001b[0m\u001b[1;31m:\u001b[0m positional argument follows keyword argument\n"
     ]
    }
   ],
   "source": [
    "def add(a,/,b):\n",
    "    print(a+b)\n",
    "add(a=20,30)"
   ]
  },
  {
   "cell_type": "code",
   "execution_count": 42,
   "id": "403c8ec6-897c-43f5-9f18-8fa0720c2976",
   "metadata": {},
   "outputs": [
    {
     "name": "stdout",
     "output_type": "stream",
     "text": [
      "50\n"
     ]
    }
   ],
   "source": [
    "def add(a,/,b):\n",
    "    print(a+b)\n",
    "add(20,30)"
   ]
  },
  {
   "cell_type": "code",
   "execution_count": 52,
   "id": "43b78277-5f6f-4d64-be2f-cada3a13098a",
   "metadata": {},
   "outputs": [
    {
     "name": "stdout",
     "output_type": "stream",
     "text": [
      "30\n"
     ]
    }
   ],
   "source": [
    "def add(a,/,b):\n",
    "    print(a+b)\n",
    "add(0,b=30)"
   ]
  },
  {
   "cell_type": "markdown",
   "id": "415c45ce-d754-437c-a89a-3985c3648a9f",
   "metadata": {},
   "source": [
    "- / means no arg to be passed before slash\n",
    "- / means no arg can pass after slash\n",
    "- '*' means no need to fallow order of args"
   ]
  },
  {
   "cell_type": "markdown",
   "id": "71689408-71a9-440b-8898-8f90879095b1",
   "metadata": {},
   "source": [
    "- \"*\" indicates provide the argment name after start"
   ]
  },
  {
   "cell_type": "code",
   "execution_count": 57,
   "id": "467b7b3c-6ee4-42b5-9276-b341aceb45e7",
   "metadata": {},
   "outputs": [
    {
     "name": "stdout",
     "output_type": "stream",
     "text": [
      "90\n"
     ]
    }
   ],
   "source": [
    "def add(a,/,*,b,c):\n",
    "    print(a+b+c)\n",
    "add(20,b=30,c=40)"
   ]
  },
  {
   "cell_type": "code",
   "execution_count": 59,
   "id": "6f893b9e-58d2-4d4b-915e-82b423d0f052",
   "metadata": {},
   "outputs": [
    {
     "ename": "TypeError",
     "evalue": "add() takes 1 positional argument but 2 positional arguments (and 1 keyword-only argument) were given",
     "output_type": "error",
     "traceback": [
      "\u001b[1;31m---------------------------------------------------------------------------\u001b[0m",
      "\u001b[1;31mTypeError\u001b[0m                                 Traceback (most recent call last)",
      "Cell \u001b[1;32mIn[59], line 3\u001b[0m\n\u001b[0;32m      1\u001b[0m \u001b[38;5;28;01mdef\u001b[39;00m \u001b[38;5;21madd\u001b[39m(a,\u001b[38;5;241m/\u001b[39m,\u001b[38;5;241m*\u001b[39m,b,c):\n\u001b[0;32m      2\u001b[0m     \u001b[38;5;28mprint\u001b[39m(a\u001b[38;5;241m+\u001b[39mb\u001b[38;5;241m+\u001b[39mc)\n\u001b[1;32m----> 3\u001b[0m add(\u001b[38;5;241m20\u001b[39m,\u001b[38;5;241m30\u001b[39m,c\u001b[38;5;241m=\u001b[39m\u001b[38;5;241m40\u001b[39m)\n",
      "\u001b[1;31mTypeError\u001b[0m: add() takes 1 positional argument but 2 positional arguments (and 1 keyword-only argument) were given"
     ]
    }
   ],
   "source": [
    "def add(a,/,*,b,c):\n",
    "    print(a+b+c)\n",
    "add(20,30,c=40)"
   ]
  },
  {
   "cell_type": "code",
   "execution_count": 61,
   "id": "43dfe118-28f3-4142-90fa-d5624e39257a",
   "metadata": {},
   "outputs": [
    {
     "ename": "TypeError",
     "evalue": "add() takes 1 positional argument but 3 were given",
     "output_type": "error",
     "traceback": [
      "\u001b[1;31m---------------------------------------------------------------------------\u001b[0m",
      "\u001b[1;31mTypeError\u001b[0m                                 Traceback (most recent call last)",
      "Cell \u001b[1;32mIn[61], line 3\u001b[0m\n\u001b[0;32m      1\u001b[0m \u001b[38;5;28;01mdef\u001b[39;00m \u001b[38;5;21madd\u001b[39m(a,\u001b[38;5;241m/\u001b[39m,\u001b[38;5;241m*\u001b[39m,b,c):\n\u001b[0;32m      2\u001b[0m     \u001b[38;5;28mprint\u001b[39m(a\u001b[38;5;241m+\u001b[39mb\u001b[38;5;241m+\u001b[39mc)\n\u001b[1;32m----> 3\u001b[0m add(\u001b[38;5;241m20\u001b[39m,\u001b[38;5;241m30\u001b[39m,\u001b[38;5;241m40\u001b[39m)\n",
      "\u001b[1;31mTypeError\u001b[0m: add() takes 1 positional argument but 3 were given"
     ]
    }
   ],
   "source": [
    "def add(a,/,*,b,c):\n",
    "    print(a+b+c)\n",
    "add(20,30,40)"
   ]
  },
  {
   "cell_type": "code",
   "execution_count": 63,
   "id": "4797ccb9-2c86-4a91-b5ca-f4966a37f0b2",
   "metadata": {},
   "outputs": [
    {
     "data": {
      "text/plain": [
       "['y', 't', 'p', 'o', 'n', 'h']"
      ]
     },
     "execution_count": 63,
     "metadata": {},
     "output_type": "execute_result"
    }
   ],
   "source": [
    "sorted('python', reverse=True)"
   ]
  },
  {
   "cell_type": "code",
   "execution_count": 65,
   "id": "be762ed3-71ba-4540-be22-6147d4f04a04",
   "metadata": {},
   "outputs": [
    {
     "data": {
      "text/plain": [
       "['h', 'n', 'o', 'p', 't', 'y']"
      ]
     },
     "execution_count": 65,
     "metadata": {},
     "output_type": "execute_result"
    }
   ],
   "source": [
    "sorted(\"python\")"
   ]
  },
  {
   "cell_type": "code",
   "execution_count": 71,
   "id": "cbf318bf-2f07-4fdd-9f5d-e61dbd80bfcf",
   "metadata": {},
   "outputs": [
    {
     "ename": "TypeError",
     "evalue": "sorted expected 1 argument, got 0",
     "output_type": "error",
     "traceback": [
      "\u001b[1;31m---------------------------------------------------------------------------\u001b[0m",
      "\u001b[1;31mTypeError\u001b[0m                                 Traceback (most recent call last)",
      "Cell \u001b[1;32mIn[71], line 1\u001b[0m\n\u001b[1;32m----> 1\u001b[0m \u001b[38;5;28msorted\u001b[39m(iterable\u001b[38;5;241m=\u001b[39m\u001b[38;5;124m\"\u001b[39m\u001b[38;5;124mpython\u001b[39m\u001b[38;5;124m\"\u001b[39m,reverse\u001b[38;5;241m=\u001b[39m\u001b[38;5;28;01mTrue\u001b[39;00m)\n",
      "\u001b[1;31mTypeError\u001b[0m: sorted expected 1 argument, got 0"
     ]
    }
   ],
   "source": [
    "sorted(iterable=\"python\",reverse=True) # / before no argumnets expected"
   ]
  },
  {
   "cell_type": "code",
   "execution_count": 73,
   "id": "e5b6b7a1-6411-44b4-b3d5-0b435f4deffe",
   "metadata": {},
   "outputs": [
    {
     "data": {
      "text/plain": [
       "['y', 't', 'p', 'o', 'n', 'h']"
      ]
     },
     "execution_count": 73,
     "metadata": {},
     "output_type": "execute_result"
    }
   ],
   "source": [
    "sorted(\"python\",reverse=True)"
   ]
  },
  {
   "cell_type": "code",
   "execution_count": 75,
   "id": "8be420e5-3c00-4515-9e6f-4ad824d213e0",
   "metadata": {},
   "outputs": [
    {
     "ename": "TypeError",
     "evalue": "sorted expected 1 argument, got 2",
     "output_type": "error",
     "traceback": [
      "\u001b[1;31m---------------------------------------------------------------------------\u001b[0m",
      "\u001b[1;31mTypeError\u001b[0m                                 Traceback (most recent call last)",
      "Cell \u001b[1;32mIn[75], line 1\u001b[0m\n\u001b[1;32m----> 1\u001b[0m \u001b[38;5;28msorted\u001b[39m(\u001b[38;5;124m\"\u001b[39m\u001b[38;5;124mpython\u001b[39m\u001b[38;5;124m\"\u001b[39m,\u001b[38;5;28;01mTrue\u001b[39;00m)\n",
      "\u001b[1;31mTypeError\u001b[0m: sorted expected 1 argument, got 2"
     ]
    }
   ],
   "source": [
    "sorted(\"python\",True) # * AFTER ARGUMNETS EXPECTED"
   ]
  },
  {
   "cell_type": "code",
   "execution_count": 77,
   "id": "c3b612f6-31c4-4f57-a7bb-19d480ca5e7b",
   "metadata": {},
   "outputs": [
    {
     "data": {
      "text/plain": [
       "<reversed at 0x25778edeec0>"
      ]
     },
     "execution_count": 77,
     "metadata": {},
     "output_type": "execute_result"
    }
   ],
   "source": [
    "reversed(\"Arun\")"
   ]
  },
  {
   "cell_type": "code",
   "execution_count": 79,
   "id": "e1359fac-407f-4d80-90a4-8a09b8f98873",
   "metadata": {},
   "outputs": [
    {
     "ename": "TypeError",
     "evalue": "reversed() takes no keyword arguments",
     "output_type": "error",
     "traceback": [
      "\u001b[1;31m---------------------------------------------------------------------------\u001b[0m",
      "\u001b[1;31mTypeError\u001b[0m                                 Traceback (most recent call last)",
      "Cell \u001b[1;32mIn[79], line 1\u001b[0m\n\u001b[1;32m----> 1\u001b[0m \u001b[38;5;28mreversed\u001b[39m(iterable\u001b[38;5;241m=\u001b[39m\u001b[38;5;124m\"\u001b[39m\u001b[38;5;124mArun\u001b[39m\u001b[38;5;124m\"\u001b[39m)\n",
      "\u001b[1;31mTypeError\u001b[0m: reversed() takes no keyword arguments"
     ]
    }
   ],
   "source": [
    "reversed(iterable=\"Arun\")"
   ]
  },
  {
   "cell_type": "code",
   "execution_count": 81,
   "id": "3f191d96-96c3-4b80-8dcb-98d9610ffe0a",
   "metadata": {},
   "outputs": [
    {
     "name": "stdout",
     "output_type": "stream",
     "text": [
      "n\n",
      "u\n",
      "r\n",
      "A\n"
     ]
    }
   ],
   "source": [
    "addr=reversed(\"Arun\")\n",
    "for i in addr:\n",
    "    print(i)"
   ]
  },
  {
   "cell_type": "code",
   "execution_count": 83,
   "id": "e970e473-80b3-4405-9fe7-d976b4cbd99c",
   "metadata": {},
   "outputs": [
    {
     "data": {
      "text/plain": [
       "['n', 'u', 'r', 'A']"
      ]
     },
     "execution_count": 83,
     "metadata": {},
     "output_type": "execute_result"
    }
   ],
   "source": [
    "addr=reversed(\"Arun\")\n",
    "list(addr)"
   ]
  },
  {
   "cell_type": "markdown",
   "id": "bc421fcb-fc09-4629-99ff-bdf11f75c22a",
   "metadata": {},
   "source": [
    "**concatination**"
   ]
  },
  {
   "cell_type": "code",
   "execution_count": 88,
   "id": "05b18fbb-fc84-427b-9378-6f7a68e12fe9",
   "metadata": {},
   "outputs": [
    {
     "data": {
      "text/plain": [
       "'HelloPython'"
      ]
     },
     "execution_count": 88,
     "metadata": {},
     "output_type": "execute_result"
    }
   ],
   "source": [
    "str1=\"Hello\"\n",
    "str2=\"Python\"\n",
    "str1+str2"
   ]
  },
  {
   "cell_type": "code",
   "execution_count": 90,
   "id": "4f2be00a-27b6-40ab-87b0-707120ad42d8",
   "metadata": {},
   "outputs": [
    {
     "ename": "TypeError",
     "evalue": "unsupported operand type(s) for -: 'str' and 'str'",
     "output_type": "error",
     "traceback": [
      "\u001b[1;31m---------------------------------------------------------------------------\u001b[0m",
      "\u001b[1;31mTypeError\u001b[0m                                 Traceback (most recent call last)",
      "Cell \u001b[1;32mIn[90], line 3\u001b[0m\n\u001b[0;32m      1\u001b[0m str1\u001b[38;5;241m=\u001b[39m\u001b[38;5;124m\"\u001b[39m\u001b[38;5;124mHello\u001b[39m\u001b[38;5;124m\"\u001b[39m\n\u001b[0;32m      2\u001b[0m str2\u001b[38;5;241m=\u001b[39m\u001b[38;5;124m\"\u001b[39m\u001b[38;5;124mPython\u001b[39m\u001b[38;5;124m\"\u001b[39m\n\u001b[1;32m----> 3\u001b[0m str1\u001b[38;5;241m-\u001b[39mstr2\n",
      "\u001b[1;31mTypeError\u001b[0m: unsupported operand type(s) for -: 'str' and 'str'"
     ]
    }
   ],
   "source": [
    "str1=\"Hello\"\n",
    "str2=\"Python\"\n",
    "str1-str2"
   ]
  },
  {
   "cell_type": "code",
   "execution_count": 92,
   "id": "0ab79ff9-7ac6-4b1e-be52-f6871b367869",
   "metadata": {},
   "outputs": [
    {
     "ename": "TypeError",
     "evalue": "can't multiply sequence by non-int of type 'str'",
     "output_type": "error",
     "traceback": [
      "\u001b[1;31m---------------------------------------------------------------------------\u001b[0m",
      "\u001b[1;31mTypeError\u001b[0m                                 Traceback (most recent call last)",
      "Cell \u001b[1;32mIn[92], line 3\u001b[0m\n\u001b[0;32m      1\u001b[0m str1\u001b[38;5;241m=\u001b[39m\u001b[38;5;124m\"\u001b[39m\u001b[38;5;124mHello\u001b[39m\u001b[38;5;124m\"\u001b[39m\n\u001b[0;32m      2\u001b[0m str2\u001b[38;5;241m=\u001b[39m\u001b[38;5;124m\"\u001b[39m\u001b[38;5;124mPython\u001b[39m\u001b[38;5;124m\"\u001b[39m\n\u001b[1;32m----> 3\u001b[0m str1\u001b[38;5;241m*\u001b[39mstr2\n",
      "\u001b[1;31mTypeError\u001b[0m: can't multiply sequence by non-int of type 'str'"
     ]
    }
   ],
   "source": [
    "str1=\"Hello\"\n",
    "str2=\"Python\"\n",
    "str1*str2"
   ]
  },
  {
   "cell_type": "code",
   "execution_count": 94,
   "id": "576fcdff-e312-4518-aeac-fa02f11c42bd",
   "metadata": {},
   "outputs": [
    {
     "ename": "TypeError",
     "evalue": "unsupported operand type(s) for /: 'str' and 'str'",
     "output_type": "error",
     "traceback": [
      "\u001b[1;31m---------------------------------------------------------------------------\u001b[0m",
      "\u001b[1;31mTypeError\u001b[0m                                 Traceback (most recent call last)",
      "Cell \u001b[1;32mIn[94], line 3\u001b[0m\n\u001b[0;32m      1\u001b[0m str1\u001b[38;5;241m=\u001b[39m\u001b[38;5;124m\"\u001b[39m\u001b[38;5;124mHello\u001b[39m\u001b[38;5;124m\"\u001b[39m\n\u001b[0;32m      2\u001b[0m str2\u001b[38;5;241m=\u001b[39m\u001b[38;5;124m\"\u001b[39m\u001b[38;5;124mPython\u001b[39m\u001b[38;5;124m\"\u001b[39m\n\u001b[1;32m----> 3\u001b[0m str1\u001b[38;5;241m/\u001b[39mstr2\n",
      "\u001b[1;31mTypeError\u001b[0m: unsupported operand type(s) for /: 'str' and 'str'"
     ]
    }
   ],
   "source": [
    "str1=\"Hello\"\n",
    "str2=\"Python\"\n",
    "str1/str2"
   ]
  },
  {
   "cell_type": "code",
   "execution_count": 98,
   "id": "b717e128-41be-41b5-aee5-06f5ca7b3d14",
   "metadata": {},
   "outputs": [
    {
     "data": {
      "text/plain": [
       "'HelloHello'"
      ]
     },
     "execution_count": 98,
     "metadata": {},
     "output_type": "execute_result"
    }
   ],
   "source": [
    "str1=\"Hello\"\n",
    "str1*2"
   ]
  },
  {
   "cell_type": "code",
   "execution_count": 100,
   "id": "5f5766b8-769d-4e6e-9c31-0b5323d65382",
   "metadata": {},
   "outputs": [
    {
     "data": {
      "text/plain": [
       "'Hello Python'"
      ]
     },
     "execution_count": 100,
     "metadata": {},
     "output_type": "execute_result"
    }
   ],
   "source": [
    "str1=\"Hello\"\n",
    "str2=\"Python\"\n",
    "str1+' '+str2"
   ]
  },
  {
   "cell_type": "code",
   "execution_count": 7,
   "id": "a2a7998c-58a7-4f2d-a604-9a5408888091",
   "metadata": {},
   "outputs": [
    {
     "name": "stdout",
     "output_type": "stream",
     "text": [
      "p = 0\n",
      "y = 1\n",
      "t = 2\n",
      "h = 3\n",
      "o = 4\n",
      "n = 5\n"
     ]
    }
   ],
   "source": [
    "str1='python'\n",
    "for i in range(len(str1)):\n",
    "    print(f\"{str1[i]} = {i}\")"
   ]
  },
  {
   "cell_type": "code",
   "execution_count": 15,
   "id": "5edead88-2c45-43ec-9de3-11382652222a",
   "metadata": {},
   "outputs": [
    {
     "name": "stdout",
     "output_type": "stream",
     "text": [
      "n = -6\n",
      "o = -5\n",
      "h = -4\n",
      "t = -3\n",
      "y = -2\n",
      "p = -1\n"
     ]
    }
   ],
   "source": [
    "str1='python'\n",
    "i=len(str1)\n",
    "while i>0:\n",
    "    print(f\"{str1[i-1]} = {-i}\")\n",
    "    i=i-1"
   ]
  },
  {
   "cell_type": "code",
   "execution_count": 17,
   "id": "9144a645-8555-48e7-83a8-5ab8c4ba873b",
   "metadata": {},
   "outputs": [
    {
     "name": "stdout",
     "output_type": "stream",
     "text": [
      "The positive index of p is 0\n",
      "The positive index of y is 1\n",
      "The positive index of t is 2\n",
      "The positive index of h is 3\n",
      "The positive index of o is 4\n",
      "The positive index of n is 5\n"
     ]
    }
   ],
   "source": [
    "str1='python'\n",
    "for i in range(len(str1)):\n",
    "    print(f\"The positive index of {str1[i]} is {i}\")"
   ]
  },
  {
   "cell_type": "code",
   "execution_count": 29,
   "id": "b9134a24-9dc9-4707-979b-83748473bad7",
   "metadata": {},
   "outputs": [
    {
     "name": "stdout",
     "output_type": "stream",
     "text": [
      "The negative index of p = -6\n",
      "The negative index of y = -5\n",
      "The negative index of t = -4\n",
      "The negative index of h = -3\n",
      "The negative index of o = -2\n",
      "The negative index of n = -1\n"
     ]
    }
   ],
   "source": [
    "str1='python'\n",
    "i=0\n",
    "while i<len(str1):\n",
    "    print(f\"The negative index of {str1[i]} = {i-len(str1)}\")\n",
    "    i=i+1"
   ]
  },
  {
   "cell_type": "code",
   "execution_count": 31,
   "id": "82b1a76d-05dd-4bb2-9d13-7653ef9aa0bc",
   "metadata": {},
   "outputs": [
    {
     "name": "stdout",
     "output_type": "stream",
     "text": [
      "The positive index of p is 0 and negative index is -6\n",
      "The positive index of y is 1 and negative index is -5\n",
      "The positive index of t is 2 and negative index is -4\n",
      "The positive index of h is 3 and negative index is -3\n",
      "The positive index of o is 4 and negative index is -2\n",
      "The positive index of n is 5 and negative index is -1\n"
     ]
    }
   ],
   "source": [
    "str1='python'\n",
    "for i in range(len(str1)):\n",
    "    print(f\"The positive index of {str1[i]} is {i} and negative index is {i-len(str1)}\")"
   ]
  },
  {
   "cell_type": "markdown",
   "id": "83bec711-5d7f-4ad5-b447-0fbb6859739c",
   "metadata": {},
   "source": [
    "**in operator vs range operator**"
   ]
  },
  {
   "cell_type": "code",
   "execution_count": null,
   "id": "30e89b15-3cc9-47b1-a9fb-3040653596b7",
   "metadata": {},
   "outputs": [],
   "source": [
    "- in operator directly access the element\n",
    "- range opeartor access the element using index or number"
   ]
  },
  {
   "cell_type": "code",
   "execution_count": 35,
   "id": "ce68cd16-8250-473a-8f58-a57eb35294a3",
   "metadata": {},
   "outputs": [
    {
     "name": "stdout",
     "output_type": "stream",
     "text": [
      "p\n",
      "y\n",
      "t\n",
      "h\n",
      "o\n",
      "n\n"
     ]
    }
   ],
   "source": [
    "for i in 'python':\n",
    "    print(i)"
   ]
  },
  {
   "cell_type": "code",
   "execution_count": 39,
   "id": "840725fa-89e6-493e-a145-c2b8c6d077c4",
   "metadata": {},
   "outputs": [
    {
     "name": "stdout",
     "output_type": "stream",
     "text": [
      "p\n",
      "y\n",
      "t\n",
      "h\n",
      "o\n",
      "n\n"
     ]
    }
   ],
   "source": [
    "str1='python'\n",
    "for i in range(len(str1)):\n",
    "    print(str1[i])"
   ]
  },
  {
   "cell_type": "code",
   "execution_count": 41,
   "id": "d53e7266-5a57-4b39-9437-c0aea8238021",
   "metadata": {},
   "outputs": [
    {
     "name": "stdout",
     "output_type": "stream",
     "text": [
      "p\n",
      "y\n",
      "t\n",
      "h\n",
      "o\n",
      "n\n"
     ]
    }
   ],
   "source": [
    "str1='python'\n",
    "for i in str1:\n",
    "    print(i)"
   ]
  },
  {
   "cell_type": "code",
   "execution_count": 43,
   "id": "9488a96a-5be5-4726-a88c-64e0a6c6e609",
   "metadata": {},
   "outputs": [
    {
     "name": "stdout",
     "output_type": "stream",
     "text": [
      "Index of 'a' is 2\n",
      "Index of 'a' is 6\n",
      "Index of 'a' is 10\n"
     ]
    }
   ],
   "source": [
    "str1='ola ola ola'\n",
    "for i in range(len(str1)):\n",
    "    if str1[i] == 'a':\n",
    "        print(f\"Index of 'a' is {i}\")"
   ]
  },
  {
   "cell_type": "code",
   "execution_count": 45,
   "id": "cc264b80-2522-4ec9-b654-b4236624e1e2",
   "metadata": {},
   "outputs": [
    {
     "name": "stdout",
     "output_type": "stream",
     "text": [
      "Sum of all 'a' index is 18\n"
     ]
    }
   ],
   "source": [
    "str1='ola ola ola'\n",
    "summ=0\n",
    "for i in range(len(str1)):\n",
    "    if str1[i] == 'a':\n",
    "        summ=summ+i\n",
    "print(f\"Sum of all 'a' index is {summ}\")"
   ]
  },
  {
   "cell_type": "code",
   "execution_count": 47,
   "id": "553d50d9-711b-43fc-b07a-855538dfb35d",
   "metadata": {},
   "outputs": [
    {
     "name": "stdout",
     "output_type": "stream",
     "text": [
      "Count of all 'a' in given string: 3\n"
     ]
    }
   ],
   "source": [
    "str1='ola ola ola'\n",
    "count=0\n",
    "for i in range(len(str1)):\n",
    "    if str1[i] == 'a':\n",
    "        count=count+1\n",
    "print(f\"Count of all 'a' in given string: {count}\")"
   ]
  },
  {
   "cell_type": "code",
   "execution_count": 49,
   "id": "2013f6fc-8a93-44bb-849d-cb7540436edc",
   "metadata": {},
   "outputs": [
    {
     "name": "stdout",
     "output_type": "stream",
     "text": [
      "Count of all 'a' in given string: 1\n",
      "Count of all 'e' in given string: 1\n",
      "Count of all 'i' in given string: 1\n",
      "Count of all 'o' in given string: 2\n",
      "Count of all 'u' in given string: 1\n"
     ]
    }
   ],
   "source": [
    "str1='hi how are you'\n",
    "acount=0\n",
    "ecount=0\n",
    "icount=0\n",
    "ocount=0\n",
    "ucount=0\n",
    "for i in range(len(str1)):\n",
    "    if str1[i] == 'a':\n",
    "        acount=acount+1\n",
    "    elif str1[i] == 'e':\n",
    "        ecount=ecount+1\n",
    "    elif str1[i] == 'i':\n",
    "        icount=icount+1\n",
    "    elif str1[i] == 'o':\n",
    "        ocount=ocount+1\n",
    "    elif str1[i] == 'u':\n",
    "        ucount=ucount+1\n",
    "print(f\"Count of all 'a' in given string: {acount}\")\n",
    "print(f\"Count of all 'e' in given string: {ecount}\")\n",
    "print(f\"Count of all 'i' in given string: {icount}\")\n",
    "print(f\"Count of all 'o' in given string: {ocount}\")\n",
    "print(f\"Count of all 'u' in given string: {ucount}\")"
   ]
  },
  {
   "cell_type": "code",
   "execution_count": 51,
   "id": "39fad166-deec-4c59-92c4-42dd797c4a0d",
   "metadata": {},
   "outputs": [
    {
     "name": "stdout",
     "output_type": "stream",
     "text": [
      "New string: hello\n"
     ]
    }
   ],
   "source": [
    "str1='helleo'\n",
    "str2=''\n",
    "acount=0\n",
    "ecount=0\n",
    "icount=0\n",
    "ocount=0\n",
    "ucount=0\n",
    "for i in range(len(str1)):\n",
    "    if str1[i] == 'a':\n",
    "        acount=acount+1\n",
    "        if acount<2:\n",
    "            str2=str2+str1[i]\n",
    "    elif str1[i] == 'e':\n",
    "        ecount=ecount+1\n",
    "        if ecount<2:\n",
    "            str2=str2+str1[i]\n",
    "    elif str1[i] == 'i':\n",
    "        icount=icount+1\n",
    "        if icount<2:\n",
    "            str2=str2+str1[i]\n",
    "    elif str1[i] == 'o':\n",
    "        ocount=ocount+1\n",
    "        if ocount<2:\n",
    "            str2=str2+str1[i]\n",
    "    elif str1[i] == 'u':\n",
    "        ucount=ucount+1\n",
    "        if acount<2:\n",
    "            str2=str2+str1[i]\n",
    "    else:\n",
    "        str2=str2+str1[i]\n",
    "print(f\"New string: {str2}\")"
   ]
  },
  {
   "cell_type": "code",
   "execution_count": 55,
   "id": "a96f8483-f302-4633-bd51-1d870afa75cc",
   "metadata": {},
   "outputs": [
    {
     "name": "stdout",
     "output_type": "stream",
     "text": [
      "New string: hello\n"
     ]
    }
   ],
   "source": [
    "str1='helleo'\n",
    "stro='aeiou'\n",
    "str2=''\n",
    "ocount=0\n",
    "for i in range(len(str1)):\n",
    "    if str1[i] in stro :\n",
    "        if str1[i] in str2:\n",
    "            str2=str2\n",
    "        else:\n",
    "            str2=str2+str1[i]\n",
    "    else:\n",
    "        str2=str2+str1[i]\n",
    "print(f\"New string: {str2}\")"
   ]
  },
  {
   "cell_type": "markdown",
   "id": "6e6d941d-b905-45d3-bb06-61147c7eef5b",
   "metadata": {},
   "source": [
    "**mutable/immutable**"
   ]
  },
  {
   "cell_type": "markdown",
   "id": "2abe04e3-8189-4af4-9eb4-6e28b8c53cc6",
   "metadata": {},
   "source": [
    "- mutable means change. immutable means we can change\n",
    "- Strings are immutable\n",
    "- we can't change elements using index operation"
   ]
  },
  {
   "cell_type": "code",
   "execution_count": 59,
   "id": "74b84bd9-1e3b-4c68-a0c4-b193f72bd0b4",
   "metadata": {},
   "outputs": [
    {
     "ename": "TypeError",
     "evalue": "'str' object does not support item assignment",
     "output_type": "error",
     "traceback": [
      "\u001b[1;31m---------------------------------------------------------------------------\u001b[0m",
      "\u001b[1;31mTypeError\u001b[0m                                 Traceback (most recent call last)",
      "Cell \u001b[1;32mIn[59], line 2\u001b[0m\n\u001b[0;32m      1\u001b[0m \u001b[38;5;28mstr\u001b[39m\u001b[38;5;241m=\u001b[39m\u001b[38;5;124m'\u001b[39m\u001b[38;5;124mhello\u001b[39m\u001b[38;5;124m'\u001b[39m\n\u001b[1;32m----> 2\u001b[0m \u001b[38;5;28mstr\u001b[39m[\u001b[38;5;241m2\u001b[39m]\u001b[38;5;241m=\u001b[39m\u001b[38;5;124m'\u001b[39m\u001b[38;5;124mL\u001b[39m\u001b[38;5;124m'\u001b[39m\n",
      "\u001b[1;31mTypeError\u001b[0m: 'str' object does not support item assignment"
     ]
    }
   ],
   "source": [
    "str='hello'\n",
    "str[2]='L'"
   ]
  },
  {
   "cell_type": "code",
   "execution_count": 61,
   "id": "944bad7c-ba8e-44d3-97e4-c810212d2315",
   "metadata": {},
   "outputs": [
    {
     "data": {
      "text/plain": [
       "[20, 39, 200, 50]"
      ]
     },
     "execution_count": 61,
     "metadata": {},
     "output_type": "execute_result"
    }
   ],
   "source": [
    "LIST=[20,39,40,50]\n",
    "LIST[2]=200\n",
    "LIST"
   ]
  },
  {
   "cell_type": "markdown",
   "id": "0f44dc53-e2c5-4769-a28e-f12860784a08",
   "metadata": {},
   "source": [
    "- List are mutable , means elements of list can change using index operation"
   ]
  },
  {
   "cell_type": "markdown",
   "id": "b7735ea7-40eb-415c-8a27-9463f4ffd02d",
   "metadata": {},
   "source": [
    "**slice**"
   ]
  },
  {
   "cell_type": "markdown",
   "id": "30d322f2-27dc-4527-b7eb-d9272f3b2aaf",
   "metadata": {},
   "source": [
    "- it is similar anaology as for loop\n",
    "- in for loop range has start stop and step similarly slice also have same                        \n",
    "- str[start:stop:step]"
   ]
  },
  {
   "cell_type": "code",
   "execution_count": null,
   "id": "f972c0ec-1399-49dd-bc05-2a56548db44b",
   "metadata": {},
   "outputs": [],
   "source": [
    "-17 -16 -15 -14 -13 -12 -11 -10 -9 -8 -7 -6 -5 -4 -3 -2 -1 \n",
    " h    e   l  l   o       h    o  w     a  r  e     y  o  u\n",
    " 0    1   2  3   4    5  6    7  8  9  10 11 12 13 14 15 16"
   ]
  },
  {
   "cell_type": "markdown",
   "id": "b6a2bddf-6e2f-4638-b7c7-644c6ef46d19",
   "metadata": {},
   "source": [
    "- case-1 str[:stop]\n",
    "- default start=0\n",
    "- default step is positive 1\n",
    "- default last= stop-1"
   ]
  },
  {
   "cell_type": "code",
   "execution_count": 4,
   "id": "1c4886c6-f5fb-420f-9781-7f64b8a71a85",
   "metadata": {},
   "outputs": [
    {
     "data": {
      "text/plain": [
       "'hello'"
      ]
     },
     "execution_count": 4,
     "metadata": {},
     "output_type": "execute_result"
    }
   ],
   "source": [
    "str='hello how are you'\n",
    "str[:5]"
   ]
  },
  {
   "cell_type": "markdown",
   "id": "661b1821-c165-4e68-9832-469094d96df2",
   "metadata": {},
   "source": [
    "- case-2 str[stat:]\n",
    "- default start=start value\n",
    "- default step is positive 1\n",
    "- default last= till last"
   ]
  },
  {
   "cell_type": "code",
   "execution_count": 9,
   "id": "da288daf-4b20-4773-826a-3d5b73895c9e",
   "metadata": {},
   "outputs": [
    {
     "data": {
      "text/plain": [
       "' how are you'"
      ]
     },
     "execution_count": 9,
     "metadata": {},
     "output_type": "execute_result"
    }
   ],
   "source": [
    "str[5:]"
   ]
  },
  {
   "cell_type": "code",
   "execution_count": 14,
   "id": "37615bcb-4623-4b1b-b5e3-4a54280918fb",
   "metadata": {},
   "outputs": [
    {
     "data": {
      "text/plain": [
       "'you'"
      ]
     },
     "execution_count": 14,
     "metadata": {},
     "output_type": "execute_result"
    }
   ],
   "source": [
    "str[-3:]"
   ]
  },
  {
   "cell_type": "markdown",
   "id": "55d3f7f7-35d2-4313-ad52-1d1f0287095e",
   "metadata": {},
   "source": [
    "- case-3 str[stat:stop]\n",
    "- default start=start value\n",
    "- default step is positive 1\n",
    "- default last= stop-1"
   ]
  },
  {
   "cell_type": "code",
   "execution_count": 12,
   "id": "c3184685-5099-45b9-8ea7-c7a5fb4e0790",
   "metadata": {},
   "outputs": [
    {
     "data": {
      "text/plain": [
       "'ello'"
      ]
     },
     "execution_count": 12,
     "metadata": {},
     "output_type": "execute_result"
    }
   ],
   "source": [
    "str[1:5]"
   ]
  },
  {
   "cell_type": "code",
   "execution_count": 16,
   "id": "7988f3d0-ee08-42e2-9b69-7df3cfbe49cf",
   "metadata": {},
   "outputs": [
    {
     "data": {
      "text/plain": [
       "''"
      ]
     },
     "execution_count": 16,
     "metadata": {},
     "output_type": "execute_result"
    }
   ],
   "source": [
    "str[-1:5] "
   ]
  },
  {
   "cell_type": "code",
   "execution_count": 18,
   "id": "a1375c92-ac8e-4db6-b734-6ecb358539ec",
   "metadata": {},
   "outputs": [
    {
     "data": {
      "text/plain": [
       "''"
      ]
     },
     "execution_count": 18,
     "metadata": {},
     "output_type": "execute_result"
    }
   ],
   "source": [
    "str[-2:2]"
   ]
  },
  {
   "cell_type": "markdown",
   "id": "899ac889-a9ea-4d95-b752-febdb79e6c61",
   "metadata": {},
   "source": [
    "- case-4 str[stat:stop:step]\n",
    "- default start=start value\n",
    "- step is positive side then last= stop-1\n",
    "- step is negetive side then last= stop+1"
   ]
  },
  {
   "cell_type": "code",
   "execution_count": 21,
   "id": "f6f5c18e-0373-4a00-8ad8-ea0f2e2b38f1",
   "metadata": {},
   "outputs": [
    {
     "data": {
      "text/plain": [
       "''"
      ]
     },
     "execution_count": 21,
     "metadata": {},
     "output_type": "execute_result"
    }
   ],
   "source": [
    "#-17 -16 -15 -14 -13 -12 -11 -10 -9 -8 -7 -6 -5 -4 -3 -2 -1 \n",
    "# h    e   l  l   o       h    o  w     a  r  e     y  o  u\n",
    "# 0    1   2  3   4    5  6    7  8  9  10 11 12 13 14 15 16\n",
    "\n",
    "str[-15:15:-1]"
   ]
  },
  {
   "cell_type": "code",
   "execution_count": 23,
   "id": "612a84ea-2f14-42d0-9466-a2ce41762af5",
   "metadata": {},
   "outputs": [
    {
     "data": {
      "text/plain": [
       "'oy era woh ol'"
      ]
     },
     "execution_count": 23,
     "metadata": {},
     "output_type": "execute_result"
    }
   ],
   "source": [
    "str[15:-15:-1]"
   ]
  },
  {
   "cell_type": "code",
   "execution_count": 25,
   "id": "e83e0ca6-74d4-47bd-b570-ab14f26311d1",
   "metadata": {},
   "outputs": [
    {
     "data": {
      "text/plain": [
       "'o r o l'"
      ]
     },
     "execution_count": 25,
     "metadata": {},
     "output_type": "execute_result"
    }
   ],
   "source": [
    "str[15:-15:-2]"
   ]
  },
  {
   "cell_type": "code",
   "execution_count": 29,
   "id": "88085b13-57c9-4fdf-b968-df0c198b6d3c",
   "metadata": {},
   "outputs": [
    {
     "ename": "TypeError",
     "evalue": "'str' object is not callable",
     "output_type": "error",
     "traceback": [
      "\u001b[1;31m---------------------------------------------------------------------------\u001b[0m",
      "\u001b[1;31mTypeError\u001b[0m                                 Traceback (most recent call last)",
      "Cell \u001b[1;32mIn[29], line 2\u001b[0m\n\u001b[0;32m      1\u001b[0m num\u001b[38;5;241m=\u001b[39m\u001b[38;5;241m12345\u001b[39m\n\u001b[1;32m----> 2\u001b[0m \u001b[38;5;28mstr\u001b[39m(num)\n",
      "\u001b[1;31mTypeError\u001b[0m: 'str' object is not callable"
     ]
    }
   ],
   "source": [
    "num=12345\n",
    "str(num)"
   ]
  },
  {
   "cell_type": "markdown",
   "id": "05fa3f98-2c53-4561-868c-178f43c273bf",
   "metadata": {},
   "source": [
    "**methods**"
   ]
  },
  {
   "cell_type": "code",
   "execution_count": null,
   "id": "7711d24a-fba3-46df-af0f-4c566e0d72f5",
   "metadata": {},
   "outputs": [],
   "source": [
    "- til now in strings"
   ]
  },
  {
   "cell_type": "code",
   "execution_count": 34,
   "id": "6641c775-8601-4920-ab20-e71d8a584d0b",
   "metadata": {},
   "outputs": [
    {
     "data": {
      "text/plain": [
       "['__add__',\n",
       " '__class__',\n",
       " '__contains__',\n",
       " '__delattr__',\n",
       " '__dir__',\n",
       " '__doc__',\n",
       " '__eq__',\n",
       " '__format__',\n",
       " '__ge__',\n",
       " '__getattribute__',\n",
       " '__getitem__',\n",
       " '__getnewargs__',\n",
       " '__getstate__',\n",
       " '__gt__',\n",
       " '__hash__',\n",
       " '__init__',\n",
       " '__init_subclass__',\n",
       " '__iter__',\n",
       " '__le__',\n",
       " '__len__',\n",
       " '__lt__',\n",
       " '__mod__',\n",
       " '__mul__',\n",
       " '__ne__',\n",
       " '__new__',\n",
       " '__reduce__',\n",
       " '__reduce_ex__',\n",
       " '__repr__',\n",
       " '__rmod__',\n",
       " '__rmul__',\n",
       " '__setattr__',\n",
       " '__sizeof__',\n",
       " '__str__',\n",
       " '__subclasshook__',\n",
       " 'capitalize',\n",
       " 'casefold',\n",
       " 'center',\n",
       " 'count',\n",
       " 'encode',\n",
       " 'endswith',\n",
       " 'expandtabs',\n",
       " 'find',\n",
       " 'format',\n",
       " 'format_map',\n",
       " 'index',\n",
       " 'isalnum',\n",
       " 'isalpha',\n",
       " 'isascii',\n",
       " 'isdecimal',\n",
       " 'isdigit',\n",
       " 'isidentifier',\n",
       " 'islower',\n",
       " 'isnumeric',\n",
       " 'isprintable',\n",
       " 'isspace',\n",
       " 'istitle',\n",
       " 'isupper',\n",
       " 'join',\n",
       " 'ljust',\n",
       " 'lower',\n",
       " 'lstrip',\n",
       " 'maketrans',\n",
       " 'partition',\n",
       " 'removeprefix',\n",
       " 'removesuffix',\n",
       " 'replace',\n",
       " 'rfind',\n",
       " 'rindex',\n",
       " 'rjust',\n",
       " 'rpartition',\n",
       " 'rsplit',\n",
       " 'rstrip',\n",
       " 'split',\n",
       " 'splitlines',\n",
       " 'startswith',\n",
       " 'strip',\n",
       " 'swapcase',\n",
       " 'title',\n",
       " 'translate',\n",
       " 'upper',\n",
       " 'zfill']"
      ]
     },
     "execution_count": 34,
     "metadata": {},
     "output_type": "execute_result"
    }
   ],
   "source": [
    "dir('') # String methods can retrive like this. We can give like dir('anyname') also"
   ]
  },
  {
   "cell_type": "code",
   "execution_count": 52,
   "id": "9ea6faeb-126d-4d1d-99ca-b8bb6522e82b",
   "metadata": {},
   "outputs": [
    {
     "data": {
      "text/plain": [
       "'PYTHON'"
      ]
     },
     "execution_count": 52,
     "metadata": {},
     "output_type": "execute_result"
    }
   ],
   "source": [
    "str1='python'\n",
    "str1.upper()"
   ]
  },
  {
   "cell_type": "code",
   "execution_count": 54,
   "id": "ca94bccd-17a3-4ae2-9acc-bd26479ff60c",
   "metadata": {},
   "outputs": [
    {
     "data": {
      "text/plain": [
       "'python'"
      ]
     },
     "execution_count": 54,
     "metadata": {},
     "output_type": "execute_result"
    }
   ],
   "source": [
    "str1='PYTHON'\n",
    "str1.lower()"
   ]
  },
  {
   "cell_type": "code",
   "execution_count": 86,
   "id": "90f3a9f6-ad28-4e4c-9944-51f9ae014dbb",
   "metadata": {},
   "outputs": [
    {
     "data": {
      "text/plain": [
       "'Python Is My Passion'"
      ]
     },
     "execution_count": 86,
     "metadata": {},
     "output_type": "execute_result"
    }
   ],
   "source": [
    "str1='PYThOn is my Passion'\n",
    "str1.title()"
   ]
  },
  {
   "cell_type": "code",
   "execution_count": 84,
   "id": "0d2a6b58-ab4a-416a-89e9-b608659cc7eb",
   "metadata": {},
   "outputs": [
    {
     "data": {
      "text/plain": [
       "'Python is my passion'"
      ]
     },
     "execution_count": 84,
     "metadata": {},
     "output_type": "execute_result"
    }
   ],
   "source": [
    "str1='PYThOn is my Passion'\n",
    "str1.capitalize()"
   ]
  },
  {
   "cell_type": "code",
   "execution_count": 82,
   "id": "cf0f860b-bd7b-4603-9862-85006a5bcc34",
   "metadata": {},
   "outputs": [
    {
     "data": {
      "text/plain": [
       "'python is my passion'"
      ]
     },
     "execution_count": 82,
     "metadata": {},
     "output_type": "execute_result"
    }
   ],
   "source": [
    "str1='PYThOn is my Passion'\n",
    "str1.casefold()"
   ]
  },
  {
   "cell_type": "markdown",
   "id": "70d4ed62-2515-4f32-bb3e-3a4ea8861239",
   "metadata": {},
   "source": [
    "**difference between inbuilt functions and methods**"
   ]
  },
  {
   "cell_type": "code",
   "execution_count": null,
   "id": "f807923c-6984-4605-b7b2-59aa8ed37d65",
   "metadata": {},
   "outputs": [],
   "source": [
    "len()\n",
    "max()\n",
    "min()\n",
    "type()\n",
    "sum()"
   ]
  },
  {
   "cell_type": "code",
   "execution_count": 91,
   "id": "2ed31667-6c89-41cc-95d3-3daa06ecffb4",
   "metadata": {},
   "outputs": [
    {
     "data": {
      "text/plain": [
       "'         python         '"
      ]
     },
     "execution_count": 91,
     "metadata": {},
     "output_type": "execute_result"
    }
   ],
   "source": [
    "str1='python'\n",
    "str1.center(24)"
   ]
  },
  {
   "cell_type": "code",
   "execution_count": 95,
   "id": "a3e5a980-4581-4111-a1cf-7cf68af32825",
   "metadata": {},
   "outputs": [
    {
     "data": {
      "text/plain": [
       "'*********python*********'"
      ]
     },
     "execution_count": 95,
     "metadata": {},
     "output_type": "execute_result"
    }
   ],
   "source": [
    "str1='python'\n",
    "str1.center(24,'*')"
   ]
  },
  {
   "cell_type": "code",
   "execution_count": 97,
   "id": "73cfe63c-636a-4de8-ad5b-41e965f78540",
   "metadata": {},
   "outputs": [
    {
     "data": {
      "text/plain": [
       "'python'"
      ]
     },
     "execution_count": 97,
     "metadata": {},
     "output_type": "execute_result"
    }
   ],
   "source": [
    "str1='python'\n",
    "str1.center(2,'*')"
   ]
  },
  {
   "cell_type": "code",
   "execution_count": 99,
   "id": "bab15fa1-a05f-4f6e-8c23-52d6bbe51a1a",
   "metadata": {},
   "outputs": [
    {
     "data": {
      "text/plain": [
       "'python'"
      ]
     },
     "execution_count": 99,
     "metadata": {},
     "output_type": "execute_result"
    }
   ],
   "source": [
    "str1='python'\n",
    "str1.center(6,'*')"
   ]
  },
  {
   "cell_type": "code",
   "execution_count": 101,
   "id": "d82d59b4-ba78-4830-be35-0a814bb9783a",
   "metadata": {},
   "outputs": [
    {
     "data": {
      "text/plain": [
       "'*python'"
      ]
     },
     "execution_count": 101,
     "metadata": {},
     "output_type": "execute_result"
    }
   ],
   "source": [
    "str1='python'\n",
    "str1.center(7,'*')"
   ]
  },
  {
   "cell_type": "code",
   "execution_count": 105,
   "id": "d1efffce-a53c-46df-83ac-217212eafe5a",
   "metadata": {},
   "outputs": [
    {
     "data": {
      "text/plain": [
       "'*python*'"
      ]
     },
     "execution_count": 105,
     "metadata": {},
     "output_type": "execute_result"
    }
   ],
   "source": [
    "str1='python'\n",
    "str1.center(8,'*')"
   ]
  },
  {
   "cell_type": "markdown",
   "id": "87ba4b87-677d-4c6d-9550-7e04e310b6e5",
   "metadata": {},
   "source": [
    "**strip, lstrip, rstrip**\n"
   ]
  },
  {
   "cell_type": "markdown",
   "id": "e8b87053-cd30-46a4-ae81-d0d54e784e36",
   "metadata": {},
   "source": [
    "- strip will remove charector from both left\n",
    "- lstrip removes fromleft\n",
    "- rstrip removes from right"
   ]
  },
  {
   "cell_type": "code",
   "execution_count": 110,
   "id": "7a543b3b-a41a-4d2e-ac7f-03746521d6cd",
   "metadata": {},
   "outputs": [
    {
     "data": {
      "text/plain": [
       "'python'"
      ]
     },
     "execution_count": 110,
     "metadata": {},
     "output_type": "execute_result"
    }
   ],
   "source": [
    "str1='python  '\n",
    "str1.strip()"
   ]
  },
  {
   "cell_type": "code",
   "execution_count": 112,
   "id": "f8aac2ee-8751-4a72-87da-0966fe374668",
   "metadata": {},
   "outputs": [
    {
     "data": {
      "text/plain": [
       "'python  '"
      ]
     },
     "execution_count": 112,
     "metadata": {},
     "output_type": "execute_result"
    }
   ],
   "source": [
    "str1='   python  '\n",
    "str1.lstrip()"
   ]
  },
  {
   "cell_type": "code",
   "execution_count": 114,
   "id": "d5ce34b5-c9ec-4d61-b02a-3ddd2725e960",
   "metadata": {},
   "outputs": [
    {
     "data": {
      "text/plain": [
       "'   python'"
      ]
     },
     "execution_count": 114,
     "metadata": {},
     "output_type": "execute_result"
    }
   ],
   "source": [
    "str1='   python  '\n",
    "str1.rstrip()"
   ]
  },
  {
   "cell_type": "code",
   "execution_count": 118,
   "id": "d6a5409e-21ef-4549-b10b-3b8c6f6698ea",
   "metadata": {},
   "outputs": [
    {
     "data": {
      "text/plain": [
       "'****python'"
      ]
     },
     "execution_count": 118,
     "metadata": {},
     "output_type": "execute_result"
    }
   ],
   "source": [
    "str1='****python****'\n",
    "str1.rstrip('*')"
   ]
  },
  {
   "cell_type": "code",
   "execution_count": 120,
   "id": "090f0b70-1957-4fd5-a0b7-2ac8f6d96c78",
   "metadata": {},
   "outputs": [
    {
     "data": {
      "text/plain": [
       "'**   **  python****'"
      ]
     },
     "execution_count": 120,
     "metadata": {},
     "output_type": "execute_result"
    }
   ],
   "source": [
    "str1='**   **  python****'\n",
    "str1.strip()"
   ]
  },
  {
   "cell_type": "code",
   "execution_count": 122,
   "id": "a4f5e52d-7444-407f-bf46-b0deb3f60682",
   "metadata": {},
   "outputs": [
    {
     "data": {
      "text/plain": [
       "'   **  python'"
      ]
     },
     "execution_count": 122,
     "metadata": {},
     "output_type": "execute_result"
    }
   ],
   "source": [
    "str1='**   **  python****'\n",
    "str1.strip('*')"
   ]
  },
  {
   "cell_type": "code",
   "execution_count": 124,
   "id": "483f895f-3c2a-49ff-a12c-1e1651a73719",
   "metadata": {},
   "outputs": [
    {
     "data": {
      "text/plain": [
       "'**  python'"
      ]
     },
     "execution_count": 124,
     "metadata": {},
     "output_type": "execute_result"
    }
   ],
   "source": [
    "str1='**   **  python****'\n",
    "str1.strip('*').strip()"
   ]
  },
  {
   "cell_type": "code",
   "execution_count": 1,
   "id": "55de4f25-56fc-4279-aec7-93d671c9c8e2",
   "metadata": {},
   "outputs": [
    {
     "name": "stdout",
     "output_type": "stream",
     "text": [
      "h\n",
      "e\n",
      "l\n",
      "l\n",
      "o\n",
      " \n",
      "h\n",
      "o\n",
      "w\n",
      " \n",
      "a\n",
      "r\n",
      "e\n",
      " \n",
      "y\n",
      "o\n",
      "u\n"
     ]
    }
   ],
   "source": [
    "str1='hello how are you'\n",
    "n=len(str1)\n",
    "for i in range(0,n):\n",
    "    print(str1[i])"
   ]
  },
  {
   "cell_type": "code",
   "execution_count": 3,
   "id": "c3b392ca-3ac5-4e08-8e3f-7f10fe556b9a",
   "metadata": {},
   "outputs": [
    {
     "name": "stdout",
     "output_type": "stream",
     "text": [
      "h\n",
      "e\n",
      "l\n",
      "l\n",
      "o\n",
      " \n",
      "h\n",
      "o\n",
      "w\n",
      " \n",
      "a\n",
      "r\n",
      "e\n",
      " \n",
      "y\n",
      "o\n",
      "u\n"
     ]
    }
   ],
   "source": [
    "str1='hello how are you'\n",
    "for i in str1:\n",
    "    print(i)"
   ]
  },
  {
   "cell_type": "code",
   "execution_count": 5,
   "id": "70f4bc02-0547-4fc1-8d1f-8d44120596b2",
   "metadata": {},
   "outputs": [
    {
     "name": "stdout",
     "output_type": "stream",
     "text": [
      "h\n",
      "h\n"
     ]
    }
   ],
   "source": [
    "str1='hello how are you'\n",
    "print(str1[0])\n",
    "for i in str1:\n",
    "    print(i)\n",
    "    break"
   ]
  },
  {
   "cell_type": "code",
   "execution_count": 7,
   "id": "69b26540-6f9d-444a-a2b2-bc11a781b0d4",
   "metadata": {},
   "outputs": [
    {
     "data": {
      "text/plain": [
       "'llo how are y'"
      ]
     },
     "execution_count": 7,
     "metadata": {},
     "output_type": "execute_result"
    }
   ],
   "source": [
    "str1='hello how are you'\n",
    "str1[2:-2]"
   ]
  },
  {
   "cell_type": "code",
   "execution_count": 11,
   "id": "331745e1-b427-49d9-98e4-35cfaaa38830",
   "metadata": {},
   "outputs": [
    {
     "data": {
      "text/plain": [
       "'hello how are you'"
      ]
     },
     "execution_count": 11,
     "metadata": {},
     "output_type": "execute_result"
    }
   ],
   "source": [
    "str1='Hello how are you'\n",
    "str1.casefold()"
   ]
  },
  {
   "cell_type": "code",
   "execution_count": 21,
   "id": "621ac5be-1d39-4e26-a985-6068c9de5779",
   "metadata": {},
   "outputs": [
    {
     "data": {
      "text/plain": [
       "True"
      ]
     },
     "execution_count": 21,
     "metadata": {},
     "output_type": "execute_result"
    }
   ],
   "source": [
    "str1='Hello how are you'\n",
    "str1.casefold().startswith('h')"
   ]
  },
  {
   "cell_type": "code",
   "execution_count": 25,
   "id": "b196fa08-66c5-4ffa-85d9-b296d2a5345c",
   "metadata": {},
   "outputs": [
    {
     "data": {
      "text/plain": [
       "True"
      ]
     },
     "execution_count": 25,
     "metadata": {},
     "output_type": "execute_result"
    }
   ],
   "source": [
    "str1='Hello how are you/'\n",
    "str1.endswith('/')"
   ]
  },
  {
   "cell_type": "code",
   "execution_count": 27,
   "id": "d10db130-5364-4a41-a403-b3e75fdaaae7",
   "metadata": {},
   "outputs": [
    {
     "data": {
      "text/plain": [
       "True"
      ]
     },
     "execution_count": 27,
     "metadata": {},
     "output_type": "execute_result"
    }
   ],
   "source": [
    "str1='Hello how are you/'\n",
    "str1.endswith(str1)"
   ]
  },
  {
   "cell_type": "code",
   "execution_count": 39,
   "id": "dbc334c9-3369-4cfb-9a19-bcd501e3cb2e",
   "metadata": {},
   "outputs": [
    {
     "data": {
      "text/plain": [
       "1"
      ]
     },
     "execution_count": 39,
     "metadata": {},
     "output_type": "execute_result"
    }
   ],
   "source": [
    "str1='ola ola ola'\n",
    "str1.count('a',-5,-1)"
   ]
  },
  {
   "cell_type": "code",
   "execution_count": 45,
   "id": "e4119afc-a937-4f0a-9c1d-ab79fb64a62b",
   "metadata": {},
   "outputs": [
    {
     "name": "stdout",
     "output_type": "stream",
     "text": [
      "3\n"
     ]
    }
   ],
   "source": [
    "str1='ola ola ola'\n",
    "count=0;\n",
    "for i in range(len(str1)):\n",
    "    if str1[i:i+3] == 'ola':\n",
    "        count=count+1\n",
    "print(count)"
   ]
  },
  {
   "cell_type": "code",
   "execution_count": 57,
   "id": "ba335b78-915b-4ba4-95c7-5cf43e541b57",
   "metadata": {},
   "outputs": [
    {
     "name": "stdout",
     "output_type": "stream",
     "text": [
      "ola ola ola\n",
      "oLa oLa oLa\n"
     ]
    }
   ],
   "source": [
    "str1='ola ola ola'\n",
    "str2=str1.replace('l','L')\n",
    "print(str1)\n",
    "print(str2)"
   ]
  },
  {
   "cell_type": "code",
   "execution_count": 59,
   "id": "b3bdc94a-d8c5-4495-aeb5-283a9b204d7e",
   "metadata": {},
   "outputs": [
    {
     "data": {
      "text/plain": [
       "'ola ola ola'"
      ]
     },
     "execution_count": 59,
     "metadata": {},
     "output_type": "execute_result"
    }
   ],
   "source": [
    "str1.replace('Z','L')"
   ]
  },
  {
   "cell_type": "code",
   "execution_count": 61,
   "id": "0fdc5632-3981-42ae-96f7-4760bdabc60f",
   "metadata": {},
   "outputs": [
    {
     "name": "stdout",
     "output_type": "stream",
     "text": [
      "0 5 8 13\n"
     ]
    }
   ],
   "source": [
    "str1='restart restart'\n",
    "i1=str1.index('r') # 0\n",
    "i2=str1.index('r',i1+1) # 1= 0+1\n",
    "i3=str1.index('r',i2+1) # 6=5+1\n",
    "i4=str1.index('r',i3+1) # 9=8+1\n",
    "print(i1,i2,i3,i4)"
   ]
  },
  {
   "cell_type": "code",
   "execution_count": 73,
   "id": "4149b174-6e3f-436e-b15c-25de426ff723",
   "metadata": {},
   "outputs": [
    {
     "name": "stdout",
     "output_type": "stream",
     "text": [
      "9177252500\n"
     ]
    }
   ],
   "source": [
    "str1='My mobile number is 9177252500'\n",
    "strd=''\n",
    "for i in range(len(str1)):\n",
    "    if str1[i].isdigit():\n",
    "        strd=strd+str1[i]\n",
    "print(int(strd))"
   ]
  },
  {
   "cell_type": "code",
   "execution_count": null,
   "id": "3a8c5a26-5840-486a-8814-c7820992a544",
   "metadata": {},
   "outputs": [],
   "source": []
  }
 ],
 "metadata": {
  "kernelspec": {
   "display_name": "Python [conda env:base] *",
   "language": "python",
   "name": "conda-base-py"
  },
  "language_info": {
   "codemirror_mode": {
    "name": "ipython",
    "version": 3
   },
   "file_extension": ".py",
   "mimetype": "text/x-python",
   "name": "python",
   "nbconvert_exporter": "python",
   "pygments_lexer": "ipython3",
   "version": "3.12.7"
  }
 },
 "nbformat": 4,
 "nbformat_minor": 5
}
