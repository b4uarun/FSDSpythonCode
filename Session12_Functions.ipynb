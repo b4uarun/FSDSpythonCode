{
 "cells": [
  {
   "cell_type": "markdown",
   "id": "69f88b7e-1df9-45b3-ba3a-8bece9512e69",
   "metadata": {},
   "source": [
    "**Functions**"
   ]
  },
  {
   "cell_type": "markdown",
   "id": "215d61d5-47d3-45a8-a5c7-41541e7c4bb6",
   "metadata": {},
   "source": [
    "- Reuse of code block\n",
    "- Function also called as method\n",
    "- Function without argumnet :\n",
    "- Function with argumnet:\n",
    "- Function with default arg:\n",
    "- Function with keyword argumants (kwargs)\n",
    "- Function with global and loacal variable concept\n",
    "- Function with retun concept\n",
    "- Function in function"
   ]
  },
  {
   "cell_type": "markdown",
   "id": "e4937590-2d01-4383-92dd-8fd98ed15f9d",
   "metadata": {},
   "source": [
    "**Functions without arguments**"
   ]
  },
  {
   "cell_type": "code",
   "execution_count": null,
   "id": "936d9a26-ac72-47ad-a260-048b2628c733",
   "metadata": {},
   "outputs": [],
   "source": [
    "#syntax\n",
    "def <function name> ():\n",
    "    <Code>"
   ]
  },
  {
   "cell_type": "code",
   "execution_count": 8,
   "id": "8dd73b03-8bce-4ab2-90d0-1228b7b904e2",
   "metadata": {},
   "outputs": [
    {
     "name": "stdin",
     "output_type": "stream",
     "text": [
      "Enter num1: 100\n",
      "Enter num2: 200\n"
     ]
    },
    {
     "name": "stdout",
     "output_type": "stream",
     "text": [
      "Addition of two numbers: 300\n"
     ]
    }
   ],
   "source": [
    "num1=eval(input(\"Enter num1:\"))\n",
    "num2=eval(input(\"Enter num2:\"))\n",
    "add=num1+num2\n",
    "print(\"Addition of two numbers:\", add)"
   ]
  },
  {
   "cell_type": "code",
   "execution_count": 10,
   "id": "71a91b67-c331-4ce9-bd86-6593dc13a4f8",
   "metadata": {},
   "outputs": [],
   "source": [
    "def addition():\n",
    "    num1=eval(input(\"Enter num1:\"))\n",
    "    num2=eval(input(\"Enter num2:\"))\n",
    "    add=num1+num2\n",
    "    print(\"Addition of two numbers:\", add)"
   ]
  },
  {
   "cell_type": "markdown",
   "id": "1d0ce93b-51fb-4ba2-915a-e4ba5f20273a",
   "metadata": {},
   "source": [
    "**Calling function**"
   ]
  },
  {
   "cell_type": "code",
   "execution_count": 15,
   "id": "91b78e2e-ec42-4fd8-965a-2c134c0d21ae",
   "metadata": {},
   "outputs": [
    {
     "name": "stdin",
     "output_type": "stream",
     "text": [
      "Enter num1: 100\n",
      "Enter num2: 200\n"
     ]
    },
    {
     "name": "stdout",
     "output_type": "stream",
     "text": [
      "Addition of two numbers: 300\n"
     ]
    }
   ],
   "source": [
    "addition()"
   ]
  },
  {
   "cell_type": "code",
   "execution_count": 19,
   "id": "c79be34d-3baa-4210-846b-b45070eafc2a",
   "metadata": {},
   "outputs": [
    {
     "name": "stdin",
     "output_type": "stream",
     "text": [
      "Enter num1: 10\n",
      "Enter num2: 20\n"
     ]
    },
    {
     "name": "stdout",
     "output_type": "stream",
     "text": [
      "Multiplication of two numbers: 200\n"
     ]
    }
   ],
   "source": [
    "def mult():\n",
    "    num1=eval(input(\"Enter num1:\"))\n",
    "    num2=eval(input(\"Enter num2:\"))\n",
    "    mul=num1*num2\n",
    "    print(\"Multiplication of two numbers:\", mul)\n",
    "mult()"
   ]
  },
  {
   "cell_type": "markdown",
   "id": "e221a5a8-12e9-42ae-8247-583e2f15e2bc",
   "metadata": {},
   "source": [
    "**Funtion rules**\n",
    "- Function name rules same as variable names\n",
    "- No special charectors\n",
    "- No numbers before\n",
    "- No space bw words"
   ]
  },
  {
   "cell_type": "markdown",
   "id": "257fe7c7-9992-4797-afeb-722bdedba7c2",
   "metadata": {},
   "source": [
    "- Function name should not be any key words\n",
    "- Function name should not be any package name\n",
    "- Function name should not be your file or note book name\n",
    "- Function name should not be variable name that you are using inside the code"
   ]
  },
  {
   "cell_type": "markdown",
   "id": "34a794d3-b98b-470c-b9c8-ae51f8893a3d",
   "metadata": {},
   "source": [
    "- Defining function will not give any error if there exist any error, but when we call the function at that time it will give error"
   ]
  },
  {
   "cell_type": "code",
   "execution_count": 26,
   "id": "b3135dab-0585-448a-b107-71cc0fd7da32",
   "metadata": {},
   "outputs": [],
   "source": [
    "def subt():\n",
    "    num1=eval(input(\"Enter num1:\"))\n",
    "    num2=eval(input(\"Enter num2:\"))\n",
    "    sub=num1-num2222\n",
    "    print(\"Sub of two numbers:\", sub)"
   ]
  },
  {
   "cell_type": "code",
   "execution_count": 28,
   "id": "88d6fd14-3c30-43af-8316-85bf7aa94326",
   "metadata": {},
   "outputs": [
    {
     "name": "stdin",
     "output_type": "stream",
     "text": [
      "Enter num1: 200\n",
      "Enter num2: 100\n"
     ]
    },
    {
     "ename": "NameError",
     "evalue": "name 'num2222' is not defined",
     "output_type": "error",
     "traceback": [
      "\u001b[1;31m---------------------------------------------------------------------------\u001b[0m",
      "\u001b[1;31mNameError\u001b[0m                                 Traceback (most recent call last)",
      "Cell \u001b[1;32mIn[28], line 1\u001b[0m\n\u001b[1;32m----> 1\u001b[0m subt()\n",
      "Cell \u001b[1;32mIn[26], line 4\u001b[0m, in \u001b[0;36msubt\u001b[1;34m()\u001b[0m\n\u001b[0;32m      2\u001b[0m num1\u001b[38;5;241m=\u001b[39m\u001b[38;5;28meval\u001b[39m(\u001b[38;5;28minput\u001b[39m(\u001b[38;5;124m\"\u001b[39m\u001b[38;5;124mEnter num1:\u001b[39m\u001b[38;5;124m\"\u001b[39m))\n\u001b[0;32m      3\u001b[0m num2\u001b[38;5;241m=\u001b[39m\u001b[38;5;28meval\u001b[39m(\u001b[38;5;28minput\u001b[39m(\u001b[38;5;124m\"\u001b[39m\u001b[38;5;124mEnter num2:\u001b[39m\u001b[38;5;124m\"\u001b[39m))\n\u001b[1;32m----> 4\u001b[0m sub\u001b[38;5;241m=\u001b[39mnum1\u001b[38;5;241m-\u001b[39mnum2222\n\u001b[0;32m      5\u001b[0m \u001b[38;5;28mprint\u001b[39m(\u001b[38;5;124m\"\u001b[39m\u001b[38;5;124mSub of two numbers:\u001b[39m\u001b[38;5;124m\"\u001b[39m, sub)\n",
      "\u001b[1;31mNameError\u001b[0m: name 'num2222' is not defined"
     ]
    }
   ],
   "source": [
    "subt()"
   ]
  },
  {
   "cell_type": "code",
   "execution_count": 40,
   "id": "69ad5e5f-0d60-47aa-8f69-48fed264476c",
   "metadata": {},
   "outputs": [
    {
     "name": "stdin",
     "output_type": "stream",
     "text": [
      "Enter num1: 100\n",
      "Enter num2: 50\n"
     ]
    },
    {
     "ename": "NameError",
     "evalue": "name 'num2222' is not defined",
     "output_type": "error",
     "traceback": [
      "\u001b[1;31m---------------------------------------------------------------------------\u001b[0m",
      "\u001b[1;31mNameError\u001b[0m                                 Traceback (most recent call last)",
      "Cell \u001b[1;32mIn[40], line 9\u001b[0m\n\u001b[0;32m      7\u001b[0m \u001b[38;5;28;01mexcept\u001b[39;00m \u001b[38;5;167;01mException\u001b[39;00m \u001b[38;5;28;01mas\u001b[39;00m e:\n\u001b[0;32m      8\u001b[0m     \u001b[38;5;28mprint\u001b[39m(e)\n\u001b[1;32m----> 9\u001b[0m subt1()\n",
      "Cell \u001b[1;32mIn[40], line 5\u001b[0m, in \u001b[0;36msubt1\u001b[1;34m()\u001b[0m\n\u001b[0;32m      3\u001b[0m num1\u001b[38;5;241m=\u001b[39m\u001b[38;5;28meval\u001b[39m(\u001b[38;5;28minput\u001b[39m(\u001b[38;5;124m\"\u001b[39m\u001b[38;5;124mEnter num1:\u001b[39m\u001b[38;5;124m\"\u001b[39m))\n\u001b[0;32m      4\u001b[0m num2\u001b[38;5;241m=\u001b[39m\u001b[38;5;28meval\u001b[39m(\u001b[38;5;28minput\u001b[39m(\u001b[38;5;124m\"\u001b[39m\u001b[38;5;124mEnter num2:\u001b[39m\u001b[38;5;124m\"\u001b[39m))\n\u001b[1;32m----> 5\u001b[0m sub\u001b[38;5;241m=\u001b[39mnum1\u001b[38;5;241m-\u001b[39mnum2222\n\u001b[0;32m      6\u001b[0m \u001b[38;5;28mprint\u001b[39m(\u001b[38;5;124m\"\u001b[39m\u001b[38;5;124mSub of two numbers:\u001b[39m\u001b[38;5;124m\"\u001b[39m, sub)\n",
      "\u001b[1;31mNameError\u001b[0m: name 'num2222' is not defined"
     ]
    }
   ],
   "source": [
    "try:\n",
    "    def subt1():\n",
    "        num1=eval(input(\"Enter num1:\"))\n",
    "        num2=eval(input(\"Enter num2:\"))\n",
    "        sub=num1-num2222\n",
    "        print(\"Sub of two numbers:\", sub)\n",
    "except Exception as e:\n",
    "    print(e)\n",
    "subt1()"
   ]
  },
  {
   "cell_type": "code",
   "execution_count": 42,
   "id": "d06129e8-7d48-4878-b19b-9263aa373829",
   "metadata": {},
   "outputs": [
    {
     "name": "stdin",
     "output_type": "stream",
     "text": [
      "Enter num1: 100\n",
      "Enter num2: 50\n"
     ]
    },
    {
     "name": "stdout",
     "output_type": "stream",
     "text": [
      "name 'num2222' is not defined\n"
     ]
    }
   ],
   "source": [
    "def subt2():\n",
    "    try:\n",
    "        num1=eval(input(\"Enter num1:\"))\n",
    "        num2=eval(input(\"Enter num2:\"))\n",
    "        sub=num1-num2222\n",
    "        print(\"Sub of two numbers:\", sub)\n",
    "    except Exception as e:\n",
    "        print(e)\n",
    "subt2()"
   ]
  },
  {
   "cell_type": "markdown",
   "id": "ff0d710c-0531-43c0-8435-64b9476f3eb0",
   "metadata": {},
   "source": [
    "**Function with variables**"
   ]
  },
  {
   "cell_type": "code",
   "execution_count": 2,
   "id": "e818ae32-5fa4-4bed-ab94-807fc752fb22",
   "metadata": {},
   "outputs": [],
   "source": [
    "# In the below function 2 input variables and 1 output variables exist\n",
    "# \n",
    "def addition():\n",
    "    num1=eval(input(\"Enter num1:\"))\n",
    "    num2=eval(input(\"Enter num2:\"))\n",
    "    add=num1+num2\n",
    "    print(\"Addition of two numbers:\", add)"
   ]
  },
  {
   "cell_type": "code",
   "execution_count": 6,
   "id": "27e272f3-4a0a-4538-899d-395d6baa60d1",
   "metadata": {},
   "outputs": [
    {
     "name": "stdout",
     "output_type": "stream",
     "text": [
      "Addition of two numbers: 399\n"
     ]
    }
   ],
   "source": [
    "def addition1(num1,num2):\n",
    "    add=num1+num2\n",
    "    print(\"Addition of two numbers:\", add)\n",
    "addition1(199,200)"
   ]
  },
  {
   "cell_type": "code",
   "execution_count": 8,
   "id": "552567e9-638d-46e2-b151-3abf6e1f604e",
   "metadata": {},
   "outputs": [
    {
     "name": "stdin",
     "output_type": "stream",
     "text": [
      "Enter num2: 300\n"
     ]
    },
    {
     "name": "stdout",
     "output_type": "stream",
     "text": [
      "Addition of two numbers: 500\n"
     ]
    }
   ],
   "source": [
    "def addition2(num1):\n",
    "    num2=eval(input(\"Enter num2:\"))\n",
    "    add=num1+num2\n",
    "    print(\"Addition of two numbers:\", add)\n",
    "addition2(200)"
   ]
  },
  {
   "cell_type": "markdown",
   "id": "524418f3-3a42-4c75-9a3b-a65ad2bf1835",
   "metadata": {},
   "source": [
    "**Default arguments in function**"
   ]
  },
  {
   "cell_type": "code",
   "execution_count": 13,
   "id": "3d3e4a0c-daeb-4ca3-ae0c-e1ccda8802c9",
   "metadata": {},
   "outputs": [
    {
     "name": "stdout",
     "output_type": "stream",
     "text": [
      "Total bill with bill 1000 and tip percentage 2: 1020\n"
     ]
    }
   ],
   "source": [
    "import math\n",
    "def TBILLT1(bill,tip=2):\n",
    "    try:\n",
    "        tbill=math.ceil(bill+(bill*tip/100))\n",
    "        print(f\"Total bill with bill {bill} and tip percentage {tip}: {tbill}\")\n",
    "    except Exception as e:\n",
    "        print(e)\n",
    "TBILLT1(1000)"
   ]
  },
  {
   "cell_type": "code",
   "execution_count": 16,
   "id": "cb47285a-4986-4b83-92c4-bc7825bc5983",
   "metadata": {},
   "outputs": [
    {
     "name": "stdout",
     "output_type": "stream",
     "text": [
      "Total bill with bill 1000 and tip percentage 5: 1050\n"
     ]
    }
   ],
   "source": [
    "def TBILLT1(bill,tip=2):\n",
    "    try:\n",
    "        tbill=math.ceil(bill+(bill*tip/100))\n",
    "        print(f\"Total bill with bill {bill} and tip percentage {tip}: {tbill}\")\n",
    "    except Exception as e:\n",
    "        print(e)\n",
    "TBILLT1(1000,5)"
   ]
  },
  {
   "cell_type": "code",
   "execution_count": 18,
   "id": "c76f63e9-ba63-46a8-b420-f10f729028df",
   "metadata": {},
   "outputs": [
    {
     "name": "stdout",
     "output_type": "stream",
     "text": [
      "Average of 3 random numbers 100, 200 and 200: 200\n"
     ]
    }
   ],
   "source": [
    "def AVG1(num1,num2,num3=300):\n",
    "    try:\n",
    "        avg=(num1+num2+num3)/3\n",
    "        avg=math.ceil(avg)\n",
    "        print(f\"Average of 3 random numbers {num1}, {num2} and {num2}: {avg}\")\n",
    "    except Exception as e:\n",
    "        print(e)\n",
    "AVG1(100,200)"
   ]
  },
  {
   "cell_type": "code",
   "execution_count": null,
   "id": "b0788a58-2029-4905-a236-61a23d4aed5f",
   "metadata": {},
   "outputs": [],
   "source": [
    "num1,num2,num3=300 #works\n",
    "num1,num2=300,num3 # Fail : Default args to be at end\n",
    "num1,num2=300,num3=200 # Works\n",
    "num1=100,num2=300,num3=200 # Works"
   ]
  }
 ],
 "metadata": {
  "kernelspec": {
   "display_name": "Python [conda env:base] *",
   "language": "python",
   "name": "conda-base-py"
  },
  "language_info": {
   "codemirror_mode": {
    "name": "ipython",
    "version": 3
   },
   "file_extension": ".py",
   "mimetype": "text/x-python",
   "name": "python",
   "nbconvert_exporter": "python",
   "pygments_lexer": "ipython3",
   "version": "3.12.7"
  }
 },
 "nbformat": 4,
 "nbformat_minor": 5
}
