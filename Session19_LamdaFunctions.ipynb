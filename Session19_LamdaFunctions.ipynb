{
 "cells": [
  {
   "cell_type": "markdown",
   "id": "f9bcd67b-ab24-4004-a180-d13ff7b89c35",
   "metadata": {},
   "source": [
    "## Lamda functions"
   ]
  },
  {
   "cell_type": "markdown",
   "id": "a7211187-b122-4ac8-a745-c478286314a5",
   "metadata": {},
   "source": [
    "- Lamda functions represents functions in a single line\n",
    "- It is similar anology to list comprehension to reduce the time complexity , will go for lamda functions"
   ]
  },
  {
   "cell_type": "markdown",
   "id": "99228df8-831c-47d6-bb95-8c032d88c7e8",
   "metadata": {},
   "source": [
    "**PATTERN-1: Function with one argument**"
   ]
  },
  {
   "cell_type": "code",
   "execution_count": null,
   "id": "fefd6362-78ad-4298-a9e7-5e5d8cfb9684",
   "metadata": {},
   "outputs": [],
   "source": [
    "# funtion_name= lamda <arg> : <return o/p>"
   ]
  },
  {
   "cell_type": "code",
   "execution_count": 4,
   "id": "141f54a1-1f49-42d1-9cc8-cfcb05122bfa",
   "metadata": {},
   "outputs": [
    {
     "data": {
      "text/plain": [
       "100"
      ]
     },
     "execution_count": 4,
     "metadata": {},
     "output_type": "execute_result"
    }
   ],
   "source": [
    "def mult(a):\n",
    "    return(a*a)\n",
    "ans=mult(10)\n",
    "ans   "
   ]
  },
  {
   "cell_type": "code",
   "execution_count": 14,
   "id": "02942697-6a6d-45f9-8f27-51b5b5187a59",
   "metadata": {},
   "outputs": [
    {
     "data": {
      "text/plain": [
       "100"
      ]
     },
     "execution_count": 14,
     "metadata": {},
     "output_type": "execute_result"
    }
   ],
   "source": [
    "mult=lambda a:(a*a)\n",
    "ans=mult(10)\n",
    "ans "
   ]
  },
  {
   "cell_type": "code",
   "execution_count": 18,
   "id": "316f050e-ec37-4615-909f-ae9c36c1667f",
   "metadata": {},
   "outputs": [
    {
     "data": {
      "text/plain": [
       "27"
      ]
     },
     "execution_count": 18,
     "metadata": {},
     "output_type": "execute_result"
    }
   ],
   "source": [
    "cube=lambda a : a*a*a\n",
    "cube(3)"
   ]
  },
  {
   "cell_type": "markdown",
   "id": "cb13552c-6e0e-4d5e-b9c6-b076b247c634",
   "metadata": {},
   "source": [
    "**PATTERN-2: Function with two argument**"
   ]
  },
  {
   "cell_type": "code",
   "execution_count": 23,
   "id": "a5669832-49aa-4b3b-9c6b-daa575cffec8",
   "metadata": {},
   "outputs": [
    {
     "data": {
      "text/plain": [
       "30"
      ]
     },
     "execution_count": 23,
     "metadata": {},
     "output_type": "execute_result"
    }
   ],
   "source": [
    "def add(a,b):\n",
    "    return(a+b)\n",
    "ans=add(10,20)\n",
    "ans"
   ]
  },
  {
   "cell_type": "code",
   "execution_count": 29,
   "id": "4b85a1c9-6c26-4e73-a86d-1689bbe2b05c",
   "metadata": {},
   "outputs": [
    {
     "data": {
      "text/plain": [
       "30"
      ]
     },
     "execution_count": 29,
     "metadata": {},
     "output_type": "execute_result"
    }
   ],
   "source": [
    "cube=lambda a : a*a*a\n",
    "cube(3)"
   ]
  },
  {
   "cell_type": "markdown",
   "id": "ca956650-9ae6-49e8-82fb-60b8a7ea113c",
   "metadata": {},
   "source": [
    "**PATTERN-3: Function with 3 argument**"
   ]
  },
  {
   "cell_type": "code",
   "execution_count": 33,
   "id": "9333ad28-966f-41c6-8c84-c8638874fedf",
   "metadata": {},
   "outputs": [
    {
     "data": {
      "text/plain": [
       "20.0"
      ]
     },
     "execution_count": 33,
     "metadata": {},
     "output_type": "execute_result"
    }
   ],
   "source": [
    "AVG=lambda a,b,c : round((a+b+c)/3,2)\n",
    "AVG(10,20,30)"
   ]
  },
  {
   "cell_type": "markdown",
   "id": "f9f34783-5338-417b-b366-c9bf1faa9ff1",
   "metadata": {},
   "source": [
    "**PATTERN-4: Function with default argument**"
   ]
  },
  {
   "cell_type": "code",
   "execution_count": 35,
   "id": "5e9eb689-489e-43ca-b2f7-69885ad6bc21",
   "metadata": {},
   "outputs": [
    {
     "data": {
      "text/plain": [
       "23.33"
      ]
     },
     "execution_count": 35,
     "metadata": {},
     "output_type": "execute_result"
    }
   ],
   "source": [
    "AVG=lambda a,b,c=40 : round((a+b+c)/3,2)\n",
    "AVG(10,20)"
   ]
  },
  {
   "cell_type": "code",
   "execution_count": 42,
   "id": "b79cffef-1882-41af-8516-7b8653011dca",
   "metadata": {},
   "outputs": [
    {
     "name": "stdout",
     "output_type": "stream",
     "text": [
      "100\n",
      "30\n",
      "20.0\n",
      "23.33\n"
     ]
    }
   ],
   "source": [
    "mult=lambda a:(a*a)\n",
    "add=lambda a,b: (a+b)\n",
    "AVG=lambda a,b,c : round((a+b+c)/3,2)\n",
    "AVGD=lambda a,b,c=40 : round((a+b+c)/3,2)\n",
    "print( mult(10))\n",
    "print( add(10,20))\n",
    "print( AVG(10,20,30))\n",
    "print( AVGD(10,20))"
   ]
  },
  {
   "cell_type": "markdown",
   "id": "1f3ebf14-41d4-4d26-b541-84a2d72039f5",
   "metadata": {},
   "source": [
    "**PATTERN-5: list cases**"
   ]
  },
  {
   "cell_type": "code",
   "execution_count": 47,
   "id": "5ddcfbdc-a9b4-45da-aa6d-a072ea5de6ad",
   "metadata": {},
   "outputs": [
    {
     "data": {
      "text/plain": [
       "['Hyd', 'Mum', 'Chn', 'Pun']"
      ]
     },
     "execution_count": 47,
     "metadata": {},
     "output_type": "execute_result"
    }
   ],
   "source": [
    "inp=['hyd','mum','chn','pun']\n",
    "inc=[]\n",
    "for i in inp:\n",
    "    inc.append((i.capitalize()))\n",
    "inc"
   ]
  },
  {
   "cell_type": "code",
   "execution_count": 49,
   "id": "69e7af08-e747-4e3a-963b-decc50175f19",
   "metadata": {},
   "outputs": [],
   "source": [
    "#Step-1: lambda <variable> : <output>\n",
    "#step-2: lambda <variable> : <output>, iterator\n",
    "#step-3: map(lambda <variable> : <output>, iterator)\n",
    "#step-4: list(map(lambda <variable> : <output>, iterator))"
   ]
  },
  {
   "cell_type": "code",
   "execution_count": 51,
   "id": "0a4b0955-43ea-4dde-bf68-ee8dae11727e",
   "metadata": {},
   "outputs": [
    {
     "data": {
      "text/plain": [
       "<function __main__.<lambda>(i)>"
      ]
     },
     "execution_count": 51,
     "metadata": {},
     "output_type": "execute_result"
    }
   ],
   "source": [
    "#Step-1: lambda <variable> : <output>\n",
    "lambda i : i.capitalize()"
   ]
  },
  {
   "cell_type": "code",
   "execution_count": 53,
   "id": "6cd62b4f-7e9a-4dfa-a1ca-98382c03d87a",
   "metadata": {},
   "outputs": [
    {
     "data": {
      "text/plain": [
       "(<function __main__.<lambda>(i)>, ['hyd', 'mum', 'chn', 'pun'])"
      ]
     },
     "execution_count": 53,
     "metadata": {},
     "output_type": "execute_result"
    }
   ],
   "source": [
    "#step-2: lambda <variable> : <output>, iterator\n",
    "lambda i : i.capitalize(), inp"
   ]
  },
  {
   "cell_type": "code",
   "execution_count": 55,
   "id": "c9896112-bb98-45d8-a3ca-c25d699d3148",
   "metadata": {},
   "outputs": [
    {
     "data": {
      "text/plain": [
       "<map at 0x21c82799000>"
      ]
     },
     "execution_count": 55,
     "metadata": {},
     "output_type": "execute_result"
    }
   ],
   "source": [
    "#step-3: map(lambda <variable> : <output>, iterator)\n",
    "map(lambda i : i.capitalize(), inp)"
   ]
  },
  {
   "cell_type": "code",
   "execution_count": 57,
   "id": "5f6ad013-a532-46df-bad5-985cf3b1c7b5",
   "metadata": {},
   "outputs": [
    {
     "data": {
      "text/plain": [
       "['Hyd', 'Mum', 'Chn', 'Pun']"
      ]
     },
     "execution_count": 57,
     "metadata": {},
     "output_type": "execute_result"
    }
   ],
   "source": [
    "#step-4: list(map(lambda <variable> : <output>, iterator))\n",
    "list(map(lambda i : i.capitalize(), inp))"
   ]
  },
  {
   "cell_type": "code",
   "execution_count": 59,
   "id": "aeb4b80d-06d8-4c00-9024-1a36ecb9da0c",
   "metadata": {},
   "outputs": [
    {
     "data": {
      "text/plain": [
       "['HYD', 'MUM', 'CHN', 'PUN']"
      ]
     },
     "execution_count": 59,
     "metadata": {},
     "output_type": "execute_result"
    }
   ],
   "source": [
    "inp=['hyd','mum','chn','pun']\n",
    "list(map(lambda i : i.upper(), inp))"
   ]
  },
  {
   "cell_type": "code",
   "execution_count": 71,
   "id": "e658d15e-b3b5-4486-9c86-70d597f958ee",
   "metadata": {},
   "outputs": [
    {
     "data": {
      "text/plain": [
       "[0, 1, 2, 3]"
      ]
     },
     "execution_count": 71,
     "metadata": {},
     "output_type": "execute_result"
    }
   ],
   "source": [
    "inp=['hyd','mum','chn','pun']\n",
    "list(map(lambda i : inp.index(i), inp))"
   ]
  },
  {
   "cell_type": "code",
   "execution_count": 77,
   "id": "1fb320b6-d70f-4d43-b679-ef71f3c1de86",
   "metadata": {},
   "outputs": [
    {
     "data": {
      "text/plain": [
       "['hellow', 'how', 'are', 'you']"
      ]
     },
     "execution_count": 77,
     "metadata": {},
     "output_type": "execute_result"
    }
   ],
   "source": [
    "inp='hellow how are you'\n",
    "list(map(lambda i : i, inp.split()))"
   ]
  },
  {
   "cell_type": "code",
   "execution_count": 83,
   "id": "4f719ca4-8cff-4d95-ac55-3d4b0c092c5a",
   "metadata": {},
   "outputs": [
    {
     "data": {
      "text/plain": [
       "[False, True, False, True]"
      ]
     },
     "execution_count": 83,
     "metadata": {},
     "output_type": "execute_result"
    }
   ],
   "source": [
    "inp=['hyd','mu#m','chn','p#un']\n",
    "list(map(lambda i : '#' in i, inp))"
   ]
  },
  {
   "cell_type": "markdown",
   "id": "3c98febd-c728-4cbe-a8c8-8269ac31a244",
   "metadata": {},
   "source": [
    "**filter**"
   ]
  },
  {
   "cell_type": "code",
   "execution_count": null,
   "id": "6d1b3bc7-8842-463f-b6a5-9cd0cb6f64f7",
   "metadata": {},
   "outputs": [],
   "source": [
    "- filter is applied in lambda function to iterate true option\n",
    "- when we apply  conditon with map will get true or false"
   ]
  },
  {
   "cell_type": "code",
   "execution_count": 86,
   "id": "bf15a3f2-c18c-46d1-922f-0c7384625b26",
   "metadata": {},
   "outputs": [
    {
     "data": {
      "text/plain": [
       "['mu#m', 'p#un']"
      ]
     },
     "execution_count": 86,
     "metadata": {},
     "output_type": "execute_result"
    }
   ],
   "source": [
    "inp=['hyd','mu#m','chn','p#un']\n",
    "list(filter(lambda i : '#' in i, inp))"
   ]
  },
  {
   "cell_type": "code",
   "execution_count": 88,
   "id": "1cc81b14-3f6a-4274-b587-5fb81d56c199",
   "metadata": {},
   "outputs": [
    {
     "data": {
      "text/plain": [
       "['hyd', 'chn']"
      ]
     },
     "execution_count": 88,
     "metadata": {},
     "output_type": "execute_result"
    }
   ],
   "source": [
    "inp=['hyd','mu#m','chn','p#un']\n",
    "list(filter(lambda i : '#' not in i, inp))"
   ]
  },
  {
   "cell_type": "markdown",
   "id": "08e6f343-e03a-4fce-b744-2c3269b73cc5",
   "metadata": {},
   "source": [
    "**reduce**"
   ]
  },
  {
   "cell_type": "markdown",
   "id": "90e1c92d-9a42-49e2-96d8-a996434c0dad",
   "metadata": {},
   "source": [
    "- helpful to use math operations using lambda "
   ]
  },
  {
   "cell_type": "code",
   "execution_count": 92,
   "id": "0e1c2cdb-5320-4954-b99a-58bad65d9a32",
   "metadata": {},
   "outputs": [],
   "source": [
    "import functools"
   ]
  },
  {
   "cell_type": "code",
   "execution_count": 96,
   "id": "f68b70d2-4352-434d-8d53-491763636f4c",
   "metadata": {},
   "outputs": [
    {
     "data": {
      "text/plain": [
       "['GenericAlias',\n",
       " 'RLock',\n",
       " 'WRAPPER_ASSIGNMENTS',\n",
       " 'WRAPPER_UPDATES',\n",
       " '_CacheInfo',\n",
       " '_HashedSeq',\n",
       " '_NOT_FOUND',\n",
       " '__all__',\n",
       " '__builtins__',\n",
       " '__cached__',\n",
       " '__doc__',\n",
       " '__file__',\n",
       " '__loader__',\n",
       " '__name__',\n",
       " '__package__',\n",
       " '__spec__',\n",
       " '_c3_merge',\n",
       " '_c3_mro',\n",
       " '_compose_mro',\n",
       " '_convert',\n",
       " '_find_impl',\n",
       " '_ge_from_gt',\n",
       " '_ge_from_le',\n",
       " '_ge_from_lt',\n",
       " '_gt_from_ge',\n",
       " '_gt_from_le',\n",
       " '_gt_from_lt',\n",
       " '_initial_missing',\n",
       " '_le_from_ge',\n",
       " '_le_from_gt',\n",
       " '_le_from_lt',\n",
       " '_lru_cache_wrapper',\n",
       " '_lt_from_ge',\n",
       " '_lt_from_gt',\n",
       " '_lt_from_le',\n",
       " '_make_key',\n",
       " '_unwrap_partial',\n",
       " 'cache',\n",
       " 'cached_property',\n",
       " 'cmp_to_key',\n",
       " 'get_cache_token',\n",
       " 'lru_cache',\n",
       " 'namedtuple',\n",
       " 'partial',\n",
       " 'partialmethod',\n",
       " 'recursive_repr',\n",
       " 'reduce',\n",
       " 'singledispatch',\n",
       " 'singledispatchmethod',\n",
       " 'total_ordering',\n",
       " 'update_wrapper',\n",
       " 'wraps']"
      ]
     },
     "execution_count": 96,
     "metadata": {},
     "output_type": "execute_result"
    }
   ],
   "source": [
    "dir(functools)"
   ]
  },
  {
   "cell_type": "code",
   "execution_count": 98,
   "id": "f2e74186-0589-4a32-aa5e-601d54c61f03",
   "metadata": {},
   "outputs": [
    {
     "ename": "TypeError",
     "evalue": "reduce expected at least 2 arguments, got 0",
     "output_type": "error",
     "traceback": [
      "\u001b[1;31m---------------------------------------------------------------------------\u001b[0m",
      "\u001b[1;31mTypeError\u001b[0m                                 Traceback (most recent call last)",
      "Cell \u001b[1;32mIn[98], line 1\u001b[0m\n\u001b[1;32m----> 1\u001b[0m functools\u001b[38;5;241m.\u001b[39mreduce()\n",
      "\u001b[1;31mTypeError\u001b[0m: reduce expected at least 2 arguments, got 0"
     ]
    }
   ],
   "source": [
    "functools.reduce()"
   ]
  },
  {
   "cell_type": "code",
   "execution_count": 100,
   "id": "756fb9b1-d7c7-4e57-afd2-c95959989e2a",
   "metadata": {},
   "outputs": [
    {
     "data": {
      "text/plain": [
       "10"
      ]
     },
     "execution_count": 100,
     "metadata": {},
     "output_type": "execute_result"
    }
   ],
   "source": [
    "from functools import reduce\n",
    "l1=[1,2,3,4]\n",
    "reduce(lambda summ,i : summ+i, l1)"
   ]
  },
  {
   "cell_type": "code",
   "execution_count": 104,
   "id": "0e7e646c-c426-41b9-bd3d-31428897a2cf",
   "metadata": {},
   "outputs": [
    {
     "data": {
      "text/plain": [
       "210"
      ]
     },
     "execution_count": 104,
     "metadata": {},
     "output_type": "execute_result"
    }
   ],
   "source": [
    "## passing default value\n",
    "from functools import reduce\n",
    "l1=[1,2,3,4]\n",
    "reduce(lambda summ,i : summ+i, l1,200)"
   ]
  },
  {
   "cell_type": "code",
   "execution_count": null,
   "id": "ba10cb5b-83a9-41d5-9a30-e947674eb060",
   "metadata": {},
   "outputs": [],
   "source": []
  }
 ],
 "metadata": {
  "kernelspec": {
   "display_name": "Python [conda env:base] *",
   "language": "python",
   "name": "conda-base-py"
  },
  "language_info": {
   "codemirror_mode": {
    "name": "ipython",
    "version": 3
   },
   "file_extension": ".py",
   "mimetype": "text/x-python",
   "name": "python",
   "nbconvert_exporter": "python",
   "pygments_lexer": "ipython3",
   "version": "3.12.7"
  }
 },
 "nbformat": 4,
 "nbformat_minor": 5
}
