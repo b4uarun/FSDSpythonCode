{
 "cells": [
  {
   "cell_type": "markdown",
   "id": "72c2da3d-c18b-4eff-aa44-3ea703644e68",
   "metadata": {},
   "source": [
    "## Data types"
   ]
  },
  {
   "cell_type": "markdown",
   "id": "251b32bd-6e0b-455b-83ab-8597a0b75a70",
   "metadata": {},
   "source": [
    "- Integer\n",
    "- Float\n",
    "- String\n",
    "- List\n",
    "- Tuple\n",
    "- Set\n",
    "- Frozenset\n",
    "- Dictionary\n",
    "- Bool\n",
    "- Complex\n",
    "- Range\n",
    "- Byte\n",
    "- Bytearry\n",
    "- memoryview\n",
    "- nonetype"
   ]
  },
  {
   "cell_type": "code",
   "execution_count": 11,
   "id": "e536b5d4-c5fc-48ac-b384-7f6185981e17",
   "metadata": {},
   "outputs": [
    {
     "data": {
      "text/plain": [
       "100"
      ]
     },
     "execution_count": 11,
     "metadata": {},
     "output_type": "execute_result"
    }
   ],
   "source": [
    "num=100\n",
    "num"
   ]
  },
  {
   "cell_type": "code",
   "execution_count": 13,
   "id": "593b449b-f942-4f78-942d-7d1ff3a9d6ee",
   "metadata": {},
   "outputs": [
    {
     "data": {
      "text/plain": [
       "int"
      ]
     },
     "execution_count": 13,
     "metadata": {},
     "output_type": "execute_result"
    }
   ],
   "source": [
    "type(num)"
   ]
  },
  {
   "cell_type": "markdown",
   "id": "53dc2e25-cbc1-4a64-9207-dceb49b04323",
   "metadata": {},
   "source": [
    "**Number system**\n",
    "- Bynary\n",
    "- Decimal\n",
    "- Octa\n",
    "- Hexa"
   ]
  },
  {
   "cell_type": "markdown",
   "id": "9c03857f-c7c8-4052-81fc-a1600811d83a",
   "metadata": {},
   "source": [
    "**Binary number system**\n",
    "- It is denoted with **0b** and **0B*\n",
    "- Denoted with 0 or 1"
   ]
  },
  {
   "cell_type": "code",
   "execution_count": 18,
   "id": "9c899494-e5b2-48d4-be5a-a87ff898bec7",
   "metadata": {},
   "outputs": [
    {
     "data": {
      "text/plain": [
       "5"
      ]
     },
     "execution_count": 18,
     "metadata": {},
     "output_type": "execute_result"
    }
   ],
   "source": [
    "0b101"
   ]
  },
  {
   "cell_type": "markdown",
   "id": "dbcf015c-a6fa-432e-aca2-7049f0494f3b",
   "metadata": {},
   "source": [
    "**0b101 means 2^2x1+2^1x0+2^0x1=5**"
   ]
  },
  {
   "cell_type": "code",
   "execution_count": 22,
   "id": "24f98dfe-4497-4b38-977c-7c8046ffbe3b",
   "metadata": {},
   "outputs": [
    {
     "data": {
      "text/plain": [
       "5"
      ]
     },
     "execution_count": 22,
     "metadata": {},
     "output_type": "execute_result"
    }
   ],
   "source": [
    "0B101"
   ]
  },
  {
   "cell_type": "code",
   "execution_count": 24,
   "id": "cd4cad77-cdda-43f2-b0ed-2c41acf261b9",
   "metadata": {},
   "outputs": [
    {
     "data": {
      "text/plain": [
       "29"
      ]
     },
     "execution_count": 24,
     "metadata": {},
     "output_type": "execute_result"
    }
   ],
   "source": [
    "0b11101"
   ]
  },
  {
   "cell_type": "code",
   "execution_count": 26,
   "id": "ebfb3ce7-e140-427f-8e8a-1aa834b8060d",
   "metadata": {},
   "outputs": [
    {
     "data": {
      "text/plain": [
       "29"
      ]
     },
     "execution_count": 26,
     "metadata": {},
     "output_type": "execute_result"
    }
   ],
   "source": [
    "0B11101"
   ]
  },
  {
   "cell_type": "markdown",
   "id": "ea66f9da-f1e5-49ef-9d33-4edd2a8f9f5a",
   "metadata": {},
   "source": [
    "**OCTA number system**\n",
    "\n",
    "- It is denoted with **0O** and **0o**\n",
    "- Denoted with 0 or 7"
   ]
  },
  {
   "cell_type": "code",
   "execution_count": 31,
   "id": "ea54271d-be8f-4387-877d-c954dd8d6fd9",
   "metadata": {},
   "outputs": [
    {
     "data": {
      "text/plain": [
       "254"
      ]
     },
     "execution_count": 31,
     "metadata": {},
     "output_type": "execute_result"
    }
   ],
   "source": [
    "0o376"
   ]
  },
  {
   "cell_type": "code",
   "execution_count": 33,
   "id": "d0928a48-5dbe-478d-9c88-9a41909cfcb6",
   "metadata": {},
   "outputs": [
    {
     "data": {
      "text/plain": [
       "375"
      ]
     },
     "execution_count": 33,
     "metadata": {},
     "output_type": "execute_result"
    }
   ],
   "source": [
    "0o567"
   ]
  },
  {
   "cell_type": "code",
   "execution_count": 35,
   "id": "6016df2f-d2b3-4579-8977-6e12ad74b334",
   "metadata": {},
   "outputs": [
    {
     "ename": "SyntaxError",
     "evalue": "invalid digit '8' in octal literal (1985291049.py, line 1)",
     "output_type": "error",
     "traceback": [
      "\u001b[1;36m  Cell \u001b[1;32mIn[35], line 1\u001b[1;36m\u001b[0m\n\u001b[1;33m    0o678\u001b[0m\n\u001b[1;37m        ^\u001b[0m\n\u001b[1;31mSyntaxError\u001b[0m\u001b[1;31m:\u001b[0m invalid digit '8' in octal literal\n"
     ]
    }
   ],
   "source": [
    "0o678"
   ]
  },
  {
   "cell_type": "markdown",
   "id": "c268c614-9f37-4445-8195-db75372e6ceb",
   "metadata": {},
   "source": [
    "**Hexa number system**\n",
    "\n",
    "- It is denoted with **0x** and **0X**\n",
    "- Denoted with 0 to 9 & A TO F"
   ]
  },
  {
   "cell_type": "code",
   "execution_count": 38,
   "id": "88983126-81ed-4d72-9027-746cd7ebefea",
   "metadata": {},
   "outputs": [
    {
     "data": {
      "text/plain": [
       "2745"
      ]
     },
     "execution_count": 38,
     "metadata": {},
     "output_type": "execute_result"
    }
   ],
   "source": [
    "0XAB9"
   ]
  },
  {
   "cell_type": "code",
   "execution_count": 40,
   "id": "bcd1b4dc-670e-4cee-9502-d37f8dd699d7",
   "metadata": {},
   "outputs": [
    {
     "data": {
      "text/plain": [
       "161"
      ]
     },
     "execution_count": 40,
     "metadata": {},
     "output_type": "execute_result"
    }
   ],
   "source": [
    "0xa1"
   ]
  },
  {
   "cell_type": "code",
   "execution_count": null,
   "id": "04b06032-bdb1-4a5b-880d-5a9d8bccc372",
   "metadata": {},
   "outputs": [],
   "source": []
  }
 ],
 "metadata": {
  "kernelspec": {
   "display_name": "Python [conda env:base] *",
   "language": "python",
   "name": "conda-base-py"
  },
  "language_info": {
   "codemirror_mode": {
    "name": "ipython",
    "version": 3
   },
   "file_extension": ".py",
   "mimetype": "text/x-python",
   "name": "python",
   "nbconvert_exporter": "python",
   "pygments_lexer": "ipython3",
   "version": "3.12.7"
  }
 },
 "nbformat": 4,
 "nbformat_minor": 5
}
