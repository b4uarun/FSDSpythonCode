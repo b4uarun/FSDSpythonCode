{
 "cells": [
  {
   "cell_type": "markdown",
   "id": "d4fdbc47-3d5e-4406-b1eb-b4af3cf60f5d",
   "metadata": {},
   "source": [
    "## Variables"
   ]
  },
  {
   "cell_type": "markdown",
   "id": "48b96c63-f0f3-4644-a4b0-9d5ad667632d",
   "metadata": {},
   "source": [
    "**This note book is for sample code to learn variables**"
   ]
  },
  {
   "cell_type": "code",
   "execution_count": 4,
   "id": "fb8bb78d-dbd5-4fe4-8516-6fa72e81e78e",
   "metadata": {},
   "outputs": [],
   "source": [
    "num=100\n",
    "NUM=200\n",
    "Num=300"
   ]
  },
  {
   "cell_type": "code",
   "execution_count": 8,
   "id": "b6606dd9-1764-4b48-8c2c-34970c18f7ea",
   "metadata": {},
   "outputs": [
    {
     "data": {
      "text/plain": [
       "(100, 200, 300)"
      ]
     },
     "execution_count": 8,
     "metadata": {},
     "output_type": "execute_result"
    }
   ],
   "source": [
    "num,NUM,Num"
   ]
  },
  {
   "cell_type": "code",
   "execution_count": 10,
   "id": "e35f7905-3d33-4a6a-b557-ab9f910aa1bf",
   "metadata": {},
   "outputs": [],
   "source": [
    "num123=400"
   ]
  },
  {
   "cell_type": "code",
   "execution_count": 12,
   "id": "2c7c8db5-614f-41b4-840e-a85c8bf35793",
   "metadata": {},
   "outputs": [
    {
     "ename": "SyntaxError",
     "evalue": "invalid decimal literal (2321108376.py, line 1)",
     "output_type": "error",
     "traceback": [
      "\u001b[1;36m  Cell \u001b[1;32mIn[12], line 1\u001b[1;36m\u001b[0m\n\u001b[1;33m    123num=500\u001b[0m\n\u001b[1;37m      ^\u001b[0m\n\u001b[1;31mSyntaxError\u001b[0m\u001b[1;31m:\u001b[0m invalid decimal literal\n"
     ]
    }
   ],
   "source": [
    "123num=500"
   ]
  },
  {
   "cell_type": "code",
   "execution_count": 14,
   "id": "ecb6854b-e22e-4fc2-b80f-2869426ded47",
   "metadata": {},
   "outputs": [
    {
     "ename": "SyntaxError",
     "evalue": "invalid syntax (1241689843.py, line 1)",
     "output_type": "error",
     "traceback": [
      "\u001b[1;36m  Cell \u001b[1;32mIn[14], line 1\u001b[1;36m\u001b[0m\n\u001b[1;33m    num$=700\u001b[0m\n\u001b[1;37m       ^\u001b[0m\n\u001b[1;31mSyntaxError\u001b[0m\u001b[1;31m:\u001b[0m invalid syntax\n"
     ]
    }
   ],
   "source": [
    "num$=700"
   ]
  },
  {
   "cell_type": "code",
   "execution_count": 16,
   "id": "b1e6a5b0-86f2-4f30-aa5f-dd85b16c57bf",
   "metadata": {},
   "outputs": [],
   "source": [
    "num =800"
   ]
  },
  {
   "cell_type": "code",
   "execution_count": 18,
   "id": "a06df632-e6ea-443a-a245-f0ffc9a20891",
   "metadata": {},
   "outputs": [
    {
     "ename": "SyntaxError",
     "evalue": "invalid syntax (3622848024.py, line 1)",
     "output_type": "error",
     "traceback": [
      "\u001b[1;36m  Cell \u001b[1;32mIn[18], line 1\u001b[1;36m\u001b[0m\n\u001b[1;33m    num one=90\u001b[0m\n\u001b[1;37m        ^\u001b[0m\n\u001b[1;31mSyntaxError\u001b[0m\u001b[1;31m:\u001b[0m invalid syntax\n"
     ]
    }
   ],
   "source": [
    "num one=90"
   ]
  },
  {
   "cell_type": "code",
   "execution_count": 20,
   "id": "69e4360c-cf7d-4be0-a43b-13c4ee8e5769",
   "metadata": {},
   "outputs": [
    {
     "ename": "SyntaxError",
     "evalue": "invalid syntax (4067401087.py, line 1)",
     "output_type": "error",
     "traceback": [
      "\u001b[1;36m  Cell \u001b[1;32mIn[20], line 1\u001b[1;36m\u001b[0m\n\u001b[1;33m    if=1000\u001b[0m\n\u001b[1;37m      ^\u001b[0m\n\u001b[1;31mSyntaxError\u001b[0m\u001b[1;31m:\u001b[0m invalid syntax\n"
     ]
    }
   ],
   "source": [
    "if=1000"
   ]
  },
  {
   "cell_type": "code",
   "execution_count": 22,
   "id": "a0c4b635-9c86-4220-82fc-44f1aef775b9",
   "metadata": {},
   "outputs": [],
   "source": [
    "num_=1100"
   ]
  },
  {
   "cell_type": "code",
   "execution_count": 24,
   "id": "22b41495-8c17-464f-841a-a24e996ed910",
   "metadata": {},
   "outputs": [],
   "source": [
    "_num=1200"
   ]
  },
  {
   "cell_type": "code",
   "execution_count": null,
   "id": "687316a8-f8fe-40de-80cf-d84212d2cc9e",
   "metadata": {},
   "outputs": [],
   "source": []
  }
 ],
 "metadata": {
  "kernelspec": {
   "display_name": "Python [conda env:base] *",
   "language": "python",
   "name": "conda-base-py"
  },
  "language_info": {
   "codemirror_mode": {
    "name": "ipython",
    "version": 3
   },
   "file_extension": ".py",
   "mimetype": "text/x-python",
   "name": "python",
   "nbconvert_exporter": "python",
   "pygments_lexer": "ipython3",
   "version": "3.12.7"
  }
 },
 "nbformat": 4,
 "nbformat_minor": 5
}
