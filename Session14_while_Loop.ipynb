{
 "cells": [
  {
   "cell_type": "markdown",
   "id": "3a434147-812d-4e68-9a69-f1ecc9677cc5",
   "metadata": {},
   "source": [
    "**while loop**"
   ]
  },
  {
   "cell_type": "markdown",
   "id": "da79a007-194b-491e-bf34-4034ad0938c6",
   "metadata": {},
   "source": [
    "- initialization to start\n",
    "- incement or decrement\n",
    "- condition to stop"
   ]
  },
  {
   "cell_type": "code",
   "execution_count": null,
   "id": "162c4056-6121-4241-8b88-66294cbc863d",
   "metadata": {},
   "outputs": [],
   "source": [
    "# <initialization>\n",
    "# while(<condition>):\n",
    "#     <code>\n",
    "#     -------\n",
    "#     increment/decrement\n",
    "\n",
    "capl=ord('A')\n",
    "while(capl <= ord('Z')):\n",
    "    print(f\"{chr(capl)} = {capl}\", end=' ')\n",
    "    capl=capl+1"
   ]
  },
  {
   "cell_type": "code",
   "execution_count": 1,
   "id": "154ed36b-48fc-44f5-8a92-bba900ed35e9",
   "metadata": {},
   "outputs": [
    {
     "name": "stdout",
     "output_type": "stream",
     "text": [
      "1 2 3 4 5 6 7 8 9 10 "
     ]
    }
   ],
   "source": [
    "i=1\n",
    "while(i<11):\n",
    "    print(i,end=' ')\n",
    "    i=i+1"
   ]
  },
  {
   "cell_type": "code",
   "execution_count": 3,
   "id": "840dc693-5541-4ad8-93b1-c780f31d7be2",
   "metadata": {},
   "outputs": [
    {
     "name": "stdout",
     "output_type": "stream",
     "text": [
      "10 9 8 7 6 5 4 3 2 1 "
     ]
    }
   ],
   "source": [
    "i=10\n",
    "while(i>0):\n",
    "    print(i,end=' ')\n",
    "    i=i-1"
   ]
  },
  {
   "cell_type": "code",
   "execution_count": 7,
   "id": "74dc24d8-9309-4442-9842-ffeab45a916f",
   "metadata": {},
   "outputs": [
    {
     "name": "stdout",
     "output_type": "stream",
     "text": [
      "-10 -9 -8 -7 -6 -5 -4 -3 -2 -1 "
     ]
    }
   ],
   "source": [
    "i=-10\n",
    "while(i<0):\n",
    "    print(i,end=' ')\n",
    "    i=i+1"
   ]
  },
  {
   "cell_type": "code",
   "execution_count": 9,
   "id": "66439c1e-c602-40ff-9669-06721766e0fb",
   "metadata": {},
   "outputs": [
    {
     "name": "stdout",
     "output_type": "stream",
     "text": [
      "-1 -2 -3 -4 -5 -6 -7 -8 -9 -10 "
     ]
    }
   ],
   "source": [
    "i=-1\n",
    "while(i>-11):\n",
    "    print(i,end=' ')\n",
    "    i=i-1"
   ]
  },
  {
   "cell_type": "code",
   "execution_count": 21,
   "id": "21a21a04-9d0f-4768-98c9-4fe87c4920a1",
   "metadata": {},
   "outputs": [
    {
     "name": "stdin",
     "output_type": "stream",
     "text": [
      "Enter number: 3\n"
     ]
    },
    {
     "name": "stdout",
     "output_type": "stream",
     "text": [
      "Better luck next time\n",
      "Yo have 2 more chances left\n"
     ]
    },
    {
     "name": "stdin",
     "output_type": "stream",
     "text": [
      "Enter number: 4\n"
     ]
    },
    {
     "name": "stdout",
     "output_type": "stream",
     "text": [
      "Better luck next time\n",
      "Yo have 1 more chances left\n"
     ]
    },
    {
     "name": "stdin",
     "output_type": "stream",
     "text": [
      "Enter number: 6\n"
     ]
    },
    {
     "name": "stdout",
     "output_type": "stream",
     "text": [
      "You missed all 3 chances\n"
     ]
    }
   ],
   "source": [
    "import random\n",
    "i=0\n",
    "while True:\n",
    "    num1=random.randint(1,10)\n",
    "    num2=eval(input(\"Enter number:\"))\n",
    "    if (num1 == num2):\n",
    "        print(\"You won!!\")\n",
    "        break\n",
    "    else:\n",
    "        if (i<2):\n",
    "            print(\"Better luck next time\")\n",
    "            print(f\"Yo have {2-i} more chances left\")\n",
    "            i=i+1\n",
    "        else:\n",
    "            print(\"You missed all 3 chances\")\n",
    "            break"
   ]
  },
  {
   "cell_type": "code",
   "execution_count": null,
   "id": "220f9e8d-3aac-428f-ab1c-a8cf5ee3cd8f",
   "metadata": {},
   "outputs": [],
   "source": []
  }
 ],
 "metadata": {
  "kernelspec": {
   "display_name": "Python [conda env:base] *",
   "language": "python",
   "name": "conda-base-py"
  },
  "language_info": {
   "codemirror_mode": {
    "name": "ipython",
    "version": 3
   },
   "file_extension": ".py",
   "mimetype": "text/x-python",
   "name": "python",
   "nbconvert_exporter": "python",
   "pygments_lexer": "ipython3",
   "version": "3.12.7"
  }
 },
 "nbformat": 4,
 "nbformat_minor": 5
}
