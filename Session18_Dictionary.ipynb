{
 "cells": [
  {
   "cell_type": "markdown",
   "id": "79ce0e38-ffbc-4d7b-b374-ae91a669fd4c",
   "metadata": {},
   "source": [
    "# Dictionary"
   ]
  },
  {
   "cell_type": "code",
   "execution_count": 6,
   "id": "a2ffedac-18e0-42ac-ad3d-b5449917ea34",
   "metadata": {},
   "outputs": [
    {
     "name": "stdout",
     "output_type": "stream",
     "text": [
      "Ramesh age is 20\n",
      "Suresh age is 25\n",
      "sathis age is 30\n"
     ]
    }
   ],
   "source": [
    "names = ['Ramesh', 'Suresh', 'sathis']\n",
    "age=[20,25,30]\n",
    "\n",
    "for i in range(len(names)):\n",
    "    print(f\"{names[i]} age is {age[i]}\")"
   ]
  },
  {
   "cell_type": "markdown",
   "id": "bc4bf70e-ff50-488b-8885-53babb0596d1",
   "metadata": {},
   "source": [
    "**zip**"
   ]
  },
  {
   "cell_type": "code",
   "execution_count": 11,
   "id": "bdc13f98-810c-44c3-abb3-32cf38469eba",
   "metadata": {},
   "outputs": [
    {
     "name": "stdout",
     "output_type": "stream",
     "text": [
      "Ramesh age is 20\n",
      "Suresh age is 25\n",
      "sathis age is 30\n"
     ]
    }
   ],
   "source": [
    "names = ['Ramesh', 'Suresh', 'sathis']\n",
    "age=[20,25,30]\n",
    "\n",
    "for i,j in zip(names,age):\n",
    "    print(f\"{i} age is {j}\")"
   ]
  },
  {
   "cell_type": "code",
   "execution_count": 13,
   "id": "430a95fd-6aa9-4724-a8ef-31f0c493426d",
   "metadata": {},
   "outputs": [
    {
     "data": {
      "text/plain": [
       "<zip at 0x197439e7980>"
      ]
     },
     "execution_count": 13,
     "metadata": {},
     "output_type": "execute_result"
    }
   ],
   "source": [
    "names = ['Ramesh', 'Suresh', 'sathis']\n",
    "age=[20,25,30]\n",
    "zip(names,age)"
   ]
  },
  {
   "cell_type": "code",
   "execution_count": 17,
   "id": "74190d06-2095-4dee-b07f-2f0e50ff1503",
   "metadata": {},
   "outputs": [
    {
     "name": "stdout",
     "output_type": "stream",
     "text": [
      "('Ramesh', 20)\n",
      "('Suresh', 25)\n",
      "('sathis', 30)\n"
     ]
    }
   ],
   "source": [
    "names = ['Ramesh', 'Suresh', 'sathis']\n",
    "age=[20,25,30]\n",
    "for i in zip(names,age):\n",
    "    print(i)"
   ]
  },
  {
   "cell_type": "code",
   "execution_count": 19,
   "id": "dd931132-adf7-4535-be48-33c06ff368b6",
   "metadata": {},
   "outputs": [
    {
     "name": "stdout",
     "output_type": "stream",
     "text": [
      "['Ramesh age is 20', 'Suresh age is 25', 'sathis age is 30']\n"
     ]
    }
   ],
   "source": [
    "l2=[f\"{i} age is {j}\" for i,j in zip(names,age)]\n",
    "print(l2)"
   ]
  },
  {
   "cell_type": "markdown",
   "id": "f361fe22-a2f0-4da8-8176-0ac204f1dbe3",
   "metadata": {},
   "source": [
    "- in the above examples name and age are together\n",
    "- if both are together , he we can pair them\n",
    "- this can happen using dictionary\n",
    "- dictionary is a key value pair\n",
    "- it represents with curly braces **{key:value}**\n",
    "- **{'Ramesh':20}**"
   ]
  },
  {
   "cell_type": "code",
   "execution_count": 24,
   "id": "55eae6e0-4b94-4205-805e-dccc02af79d6",
   "metadata": {},
   "outputs": [
    {
     "name": "stdout",
     "output_type": "stream",
     "text": [
      "{'Ramesh': 20, 'Suresh': 25, 'sathis': 30}\n"
     ]
    }
   ],
   "source": [
    "d1 = {'Ramesh':20, 'Suresh':25, 'sathis':30}\n",
    "print(d1)"
   ]
  },
  {
   "cell_type": "code",
   "execution_count": 26,
   "id": "5d88f67e-0deb-4103-8255-0ab8d775d0b1",
   "metadata": {},
   "outputs": [
    {
     "data": {
      "text/plain": [
       "dict"
      ]
     },
     "execution_count": 26,
     "metadata": {},
     "output_type": "execute_result"
    }
   ],
   "source": [
    "type(d1)"
   ]
  },
  {
   "cell_type": "code",
   "execution_count": 44,
   "id": "da5eb439-4426-4cf7-a38e-c3811e5cb481",
   "metadata": {},
   "outputs": [
    {
     "ename": "TypeError",
     "evalue": "unhashable type: 'list'",
     "output_type": "error",
     "traceback": [
      "\u001b[1;31m---------------------------------------------------------------------------\u001b[0m",
      "\u001b[1;31mTypeError\u001b[0m                                 Traceback (most recent call last)",
      "Cell \u001b[1;32mIn[44], line 1\u001b[0m\n\u001b[1;32m----> 1\u001b[0m d1\u001b[38;5;241m=\u001b[39m{l1:[\u001b[38;5;241m1\u001b[39m,\u001b[38;5;241m2\u001b[39m,\u001b[38;5;241m3\u001b[39m], l2:[\u001b[38;5;124m'\u001b[39m\u001b[38;5;124marun\u001b[39m\u001b[38;5;124m'\u001b[39m,\u001b[38;5;124m'\u001b[39m\u001b[38;5;124mkiran\u001b[39m\u001b[38;5;124m'\u001b[39m]}\n\u001b[0;32m      2\u001b[0m d1\n",
      "\u001b[1;31mTypeError\u001b[0m: unhashable type: 'list'"
     ]
    }
   ],
   "source": [
    "d1={l1:[1,2,3], l2:['arun','kiran']}\n",
    "d1"
   ]
  },
  {
   "cell_type": "code",
   "execution_count": 32,
   "id": "9e5e0c4b-f7f2-4975-89ab-d516901526a0",
   "metadata": {},
   "outputs": [
    {
     "name": "stdout",
     "output_type": "stream",
     "text": [
      "{'Ramesh': 30}\n"
     ]
    }
   ],
   "source": [
    "# Takes latest value\n",
    "d1 = {'Ramesh':20, 'Ramesh':30}\n",
    "print(d1)"
   ]
  },
  {
   "cell_type": "code",
   "execution_count": 34,
   "id": "0f26917e-3690-43b9-a65d-5e723f6796c2",
   "metadata": {},
   "outputs": [
    {
     "name": "stdout",
     "output_type": "stream",
     "text": [
      "{'Ramesh': 20}\n"
     ]
    }
   ],
   "source": [
    "d1 = {'Ramesh':20, 'Ramesh':20}\n",
    "print(d1)"
   ]
  },
  {
   "cell_type": "code",
   "execution_count": 42,
   "id": "465c7cae-d5df-48f7-adf1-1fe4747177d2",
   "metadata": {},
   "outputs": [
    {
     "name": "stdout",
     "output_type": "stream",
     "text": [
      "<zip object at 0x00000197439DB900>\n"
     ]
    }
   ],
   "source": [
    "d1={l1:[1,2,3], l1:[1,2,3]}\n",
    "for i in d1:\n",
    "    print(i)"
   ]
  },
  {
   "cell_type": "markdown",
   "id": "ae0c3e59-013b-4360-9cbc-80833b10b4fe",
   "metadata": {},
   "source": [
    "- keys can't be duplicate but values can"
   ]
  },
  {
   "cell_type": "code",
   "execution_count": 10,
   "id": "9f9e89f0-ffd4-4910-83b7-a58104573684",
   "metadata": {},
   "outputs": [
    {
     "data": {
      "text/plain": [
       "{'l1': [1, 2, 3], 'l2': ['a', 'b']}"
      ]
     },
     "execution_count": 10,
     "metadata": {},
     "output_type": "execute_result"
    }
   ],
   "source": [
    "d1={'l1':[1,2,3], 'l2':['a','b']}\n",
    "d1"
   ]
  },
  {
   "cell_type": "code",
   "execution_count": 38,
   "id": "9e2eb16b-3812-40b2-b0d9-f2a58cbc2575",
   "metadata": {},
   "outputs": [
    {
     "name": "stdout",
     "output_type": "stream",
     "text": [
      "**********\n",
      "Apple\n",
      "20\n",
      "**********\n",
      "Cherry\n",
      "apple\n",
      "50\n",
      "**********\n",
      "**********\n",
      "['Apple', 'Banana', 'Cherry']\n",
      "['Apple', 'apple']\n",
      "[20, 30, 50]\n",
      "**********\n",
      "Cherry\n",
      "Banana\n",
      "Apple\n",
      "apple\n",
      "Apple\n",
      "50\n",
      "30\n",
      "20\n"
     ]
    },
    {
     "data": {
      "text/plain": [
       "[None, None, None]"
      ]
     },
     "execution_count": 38,
     "metadata": {},
     "output_type": "execute_result"
    }
   ],
   "source": [
    "dict1={'Apple':20,'Banana':30,'Cherry':50}\n",
    "dict2={'Apple':20,'apple':30}\n",
    "dict3={20:'apple',30:'banana',50:'cherry'}\n",
    "print('**********')\n",
    "print(min(dict2))\n",
    "print(min(dict3))\n",
    "print('**********')\n",
    "print(max(dict1))\n",
    "print(max(dict2))\n",
    "print(max(dict3))\n",
    "print('**********')\n",
    "#print(sum(dict1.values))\n",
    "#print(sum(dict2))\n",
    "#print(sum(dict3))\n",
    "print('**********')\n",
    "print(sorted(dict1))\n",
    "print(sorted(dict2))\n",
    "print(sorted(dict3))\n",
    "print('**********')\n",
    "\n",
    "[print(i) for i in reversed(dict1)]\n",
    "[print(i) for i in reversed(dict2)]\n",
    "[print(i) for i in reversed(dict3)]\n"
   ]
  },
  {
   "cell_type": "code",
   "execution_count": 26,
   "id": "a39461df-c5c6-493d-964d-984014c09459",
   "metadata": {},
   "outputs": [
    {
     "data": {
      "text/plain": [
       "['Apple', 'Banana', 'Cherry']"
      ]
     },
     "execution_count": 26,
     "metadata": {},
     "output_type": "execute_result"
    }
   ],
   "source": [
    "sorted(dict1)"
   ]
  },
  {
   "cell_type": "code",
   "execution_count": 42,
   "id": "36163e5b-d20b-4251-94d7-9a12e682a6c2",
   "metadata": {},
   "outputs": [
    {
     "data": {
      "text/plain": [
       "True"
      ]
     },
     "execution_count": 42,
     "metadata": {},
     "output_type": "execute_result"
    }
   ],
   "source": [
    "'Apple' in dict1"
   ]
  },
  {
   "cell_type": "code",
   "execution_count": 44,
   "id": "08c1aa48-ce08-436d-97ad-93c181ba3f14",
   "metadata": {},
   "outputs": [
    {
     "name": "stdout",
     "output_type": "stream",
     "text": [
      "Apple\n",
      "Banana\n",
      "Cherry\n"
     ]
    }
   ],
   "source": [
    "for i in dict1:\n",
    "    print(i)"
   ]
  },
  {
   "cell_type": "markdown",
   "id": "5e739d0f-2ea2-44ad-a1a2-a0162bedec97",
   "metadata": {},
   "source": [
    "# index"
   ]
  },
  {
   "cell_type": "code",
   "execution_count": 57,
   "id": "9e207ecb-62af-4f66-bfdc-f15ef4b44414",
   "metadata": {},
   "outputs": [
    {
     "ename": "KeyError",
     "evalue": "0",
     "output_type": "error",
     "traceback": [
      "\u001b[1;31m---------------------------------------------------------------------------\u001b[0m",
      "\u001b[1;31mKeyError\u001b[0m                                  Traceback (most recent call last)",
      "Cell \u001b[1;32mIn[57], line 2\u001b[0m\n\u001b[0;32m      1\u001b[0m \u001b[38;5;28;01mfor\u001b[39;00m i \u001b[38;5;129;01min\u001b[39;00m \u001b[38;5;28mrange\u001b[39m(\u001b[38;5;28mlen\u001b[39m(dict1)):\n\u001b[1;32m----> 2\u001b[0m     \u001b[38;5;28mprint\u001b[39m(dict1[i])\n",
      "\u001b[1;31mKeyError\u001b[0m: 0"
     ]
    }
   ],
   "source": [
    "for i in range(len(dict1)):\n",
    "    print(dict1[i])"
   ]
  },
  {
   "cell_type": "markdown",
   "id": "6e16d4c8-4e5e-492f-9101-2d212a7613b9",
   "metadata": {},
   "source": [
    "**how to extract the values**"
   ]
  },
  {
   "cell_type": "markdown",
   "id": "078fcf78-1041-4293-b512-4e997ad6133d",
   "metadata": {},
   "source": [
    "- in dictionary we have a concept called key-value pair\n",
    "- key are very importent in order to get the values , we have to take help from keys"
   ]
  },
  {
   "cell_type": "code",
   "execution_count": 66,
   "id": "f0b1062e-27b2-413e-a044-ff45e0a35773",
   "metadata": {},
   "outputs": [
    {
     "name": "stdout",
     "output_type": "stream",
     "text": [
      "Apple - 20\n",
      "Banana - 30\n",
      "Cherry - 50\n"
     ]
    }
   ],
   "source": [
    "dict1={'Apple':20,'Banana':30,'Cherry':50}\n",
    "for i in dict1:\n",
    "    print(f\"{i} - {dict1[i]}\")"
   ]
  },
  {
   "cell_type": "code",
   "execution_count": 74,
   "id": "5dd073c6-33c7-44c9-9959-ec13f372ddd0",
   "metadata": {},
   "outputs": [
    {
     "name": "stdout",
     "output_type": "stream",
     "text": [
      "Ramesh age is 20\n",
      "Suresh age is 25\n",
      "sathis age is 30\n"
     ]
    }
   ],
   "source": [
    "names = {'Ramesh':20, 'Suresh':25, 'sathis':30}\n",
    "for i in names:\n",
    "    print(f\"{i} age is {names[i]}\")"
   ]
  },
  {
   "cell_type": "code",
   "execution_count": 80,
   "id": "03a9dfa5-7d2e-4d3a-8411-3c57488ff075",
   "metadata": {},
   "outputs": [
    {
     "data": {
      "text/plain": [
       "'Cherry'"
      ]
     },
     "execution_count": 80,
     "metadata": {},
     "output_type": "execute_result"
    }
   ],
   "source": [
    "d1={'fruits':['Apple','Banana','Cherry']}\n",
    "d1['fruits'][2]"
   ]
  },
  {
   "cell_type": "code",
   "execution_count": 100,
   "id": "20696242-5189-45c2-b06f-aedd0f4d4468",
   "metadata": {},
   "outputs": [
    {
     "data": {
      "text/plain": [
       "'green'"
      ]
     },
     "execution_count": 100,
     "metadata": {},
     "output_type": "execute_result"
    }
   ],
   "source": [
    "d1={'Fruits':{'Apple':['sweet','sour','green']}}\n",
    "d1['Fruits']['Apple'][2]"
   ]
  },
  {
   "cell_type": "code",
   "execution_count": 116,
   "id": "4f6b6fca-964c-4ca3-84c6-b191673f1e59",
   "metadata": {},
   "outputs": [
    {
     "data": {
      "text/plain": [
       "50"
      ]
     },
     "execution_count": 116,
     "metadata": {},
     "output_type": "execute_result"
    }
   ],
   "source": [
    "d={'Fruites':[{'Cost':[50]}]}\n",
    "d['Fruites'][0]['Cost'][0]"
   ]
  },
  {
   "cell_type": "code",
   "execution_count": 136,
   "id": "ef1afce1-e390-48cf-bfbe-ee93535cccbd",
   "metadata": {},
   "outputs": [],
   "source": [
    "d={'Fruites':['Apple'],'Cost':[{'1kg':[20,30,40],\n",
    "                               '2kg':None}]}\n",
    "\n",
    "d['Cost'][0]['2kg']"
   ]
  },
  {
   "cell_type": "code",
   "execution_count": 138,
   "id": "d0b25843-3ff2-410a-887a-48ecf68868f3",
   "metadata": {},
   "outputs": [
    {
     "data": {
      "text/plain": [
       "40"
      ]
     },
     "execution_count": 138,
     "metadata": {},
     "output_type": "execute_result"
    }
   ],
   "source": [
    "d={'Fruites':['Apple'],'Cost':[{'1kg':[20,30,40],\n",
    "                               '2kg':None}]}\n",
    "\n",
    "d['Cost'][0]['1kg'][2]"
   ]
  },
  {
   "cell_type": "code",
   "execution_count": 150,
   "id": "2e9f9ee2-3bfa-44b2-a4ad-c708a4ab95bf",
   "metadata": {},
   "outputs": [
    {
     "data": {
      "text/plain": [
       "{'Shambaji'}"
      ]
     },
     "execution_count": 150,
     "metadata": {},
     "output_type": "execute_result"
    }
   ],
   "source": [
    "d={'Fruites':{'Orange':{'Nagpur':{'MH':{'King':{'Shivaji':{'Shambaji'}}}}}}}\n",
    "d['Fruites']['Orange']['Nagpur']['MH']['King']['Shivaji']"
   ]
  },
  {
   "cell_type": "markdown",
   "id": "cba0ff9f-f606-4370-b3b3-b821a6cb4f3f",
   "metadata": {},
   "source": [
    "**How to create an empty dictionary**"
   ]
  },
  {
   "cell_type": "markdown",
   "id": "1fe45374-e0bf-4bd9-9a0a-87906b72a0f3",
   "metadata": {},
   "source": [
    "- focus on creating empty list, string and tuple, dictionary\n",
    "- use it for append operation\n",
    "- will use it for concatination\n",
    "- We will take empty dictioanry , to use key value pair concept\n"
   ]
  },
  {
   "cell_type": "code",
   "execution_count": 158,
   "id": "29103a44-0e23-4e48-9296-212ed47a0676",
   "metadata": {},
   "outputs": [
    {
     "data": {
      "text/plain": [
       "[10, 20]"
      ]
     },
     "execution_count": 158,
     "metadata": {},
     "output_type": "execute_result"
    }
   ],
   "source": [
    "l1=[]\n",
    "l1.append(10)\n",
    "l1.append(20)\n",
    "l1"
   ]
  },
  {
   "cell_type": "code",
   "execution_count": 160,
   "id": "dd6ccb41-8157-4578-b0aa-9424c2f36e6a",
   "metadata": {},
   "outputs": [
    {
     "data": {
      "text/plain": [
       "'py'"
      ]
     },
     "execution_count": 160,
     "metadata": {},
     "output_type": "execute_result"
    }
   ],
   "source": [
    "str1=''\n",
    "str1=str1+'p'\n",
    "str1=str1+'y'\n",
    "str1"
   ]
  },
  {
   "cell_type": "code",
   "execution_count": 166,
   "id": "adac3c6c-f152-49cf-b6c8-f49cfd085ba0",
   "metadata": {},
   "outputs": [
    {
     "data": {
      "text/plain": [
       "{'Ramesh': 20, 'Suresh': 30}"
      ]
     },
     "execution_count": 166,
     "metadata": {},
     "output_type": "execute_result"
    }
   ],
   "source": [
    "dict1={}\n",
    "dict1['Ramesh']=20\n",
    "dict1['Suresh']=30\n",
    "dict1"
   ]
  },
  {
   "cell_type": "code",
   "execution_count": 168,
   "id": "53df9fdb-1dd7-404d-a72c-502f42b95063",
   "metadata": {},
   "outputs": [
    {
     "name": "stdout",
     "output_type": "stream",
     "text": [
      "{'Ramesh': 20, 'Suresh': 25, 'sathis': 30}\n"
     ]
    }
   ],
   "source": [
    "dict2={}\n",
    "names = ['Ramesh', 'Suresh', 'sathis']\n",
    "age=[20,25,30]\n",
    "for i,j in zip(names,age):\n",
    "    dict2[i]=j\n",
    "print(dict2)"
   ]
  },
  {
   "cell_type": "markdown",
   "id": "dd07166d-f13e-4c2b-9b35-7d55a2a82daf",
   "metadata": {},
   "source": [
    "**dictionary comprehension**"
   ]
  },
  {
   "cell_type": "code",
   "execution_count": null,
   "id": "d1e9921b-c27f-48f9-95a1-1dfa7195f927",
   "metadata": {},
   "outputs": [],
   "source": [
    "- for list comprehension everything in list\n",
    "- fpr dict comprehension we should write inside dict"
   ]
  },
  {
   "cell_type": "code",
   "execution_count": 181,
   "id": "16eb4db7-869e-4508-a5ab-59ba53263ce0",
   "metadata": {},
   "outputs": [
    {
     "name": "stdout",
     "output_type": "stream",
     "text": [
      "{'Ramesh': 20, 'Suresh': 25, 'sathis': 30}\n"
     ]
    }
   ],
   "source": [
    "names = ['Ramesh', 'Suresh', 'sathis']\n",
    "age=[20,25,30]\n",
    "dict2={i:j for i,j in zip(names,age)}\n",
    "print(dict2)"
   ]
  },
  {
   "cell_type": "code",
   "execution_count": 183,
   "id": "8a74f9f6-23df-404a-bf21-34c25f57105f",
   "metadata": {},
   "outputs": [],
   "source": [
    "dict2['Ramesh']=40"
   ]
  },
  {
   "cell_type": "code",
   "execution_count": 185,
   "id": "56076971-7b8c-479c-b1be-2446ebc76a6c",
   "metadata": {},
   "outputs": [
    {
     "data": {
      "text/plain": [
       "{'Ramesh': 40, 'Suresh': 25, 'sathis': 30}"
      ]
     },
     "execution_count": 185,
     "metadata": {},
     "output_type": "execute_result"
    }
   ],
   "source": [
    "dict2"
   ]
  },
  {
   "cell_type": "markdown",
   "id": "149307d7-3c95-4c9f-a0b9-3f779f7a7f87",
   "metadata": {},
   "source": [
    "**mutable/immutable**"
   ]
  },
  {
   "cell_type": "markdown",
   "id": "f03b692f-c916-47a5-b91d-c4c0ef6d16e6",
   "metadata": {},
   "source": [
    "- list mutable\n",
    "- strings immutable\n",
    "- tuple immutabl\n",
    "- dictionary mutable"
   ]
  },
  {
   "cell_type": "code",
   "execution_count": 1,
   "id": "7bdb1f77-6b6d-4058-a625-79d494cfd57e",
   "metadata": {},
   "outputs": [
    {
     "data": {
      "text/plain": [
       "['__class__',\n",
       " '__class_getitem__',\n",
       " '__contains__',\n",
       " '__delattr__',\n",
       " '__delitem__',\n",
       " '__dir__',\n",
       " '__doc__',\n",
       " '__eq__',\n",
       " '__format__',\n",
       " '__ge__',\n",
       " '__getattribute__',\n",
       " '__getitem__',\n",
       " '__getstate__',\n",
       " '__gt__',\n",
       " '__hash__',\n",
       " '__init__',\n",
       " '__init_subclass__',\n",
       " '__ior__',\n",
       " '__iter__',\n",
       " '__le__',\n",
       " '__len__',\n",
       " '__lt__',\n",
       " '__ne__',\n",
       " '__new__',\n",
       " '__or__',\n",
       " '__reduce__',\n",
       " '__reduce_ex__',\n",
       " '__repr__',\n",
       " '__reversed__',\n",
       " '__ror__',\n",
       " '__setattr__',\n",
       " '__setitem__',\n",
       " '__sizeof__',\n",
       " '__str__',\n",
       " '__subclasshook__',\n",
       " 'clear',\n",
       " 'copy',\n",
       " 'fromkeys',\n",
       " 'get',\n",
       " 'items',\n",
       " 'keys',\n",
       " 'pop',\n",
       " 'popitem',\n",
       " 'setdefault',\n",
       " 'update',\n",
       " 'values']"
      ]
     },
     "execution_count": 1,
     "metadata": {},
     "output_type": "execute_result"
    }
   ],
   "source": [
    "dir({})"
   ]
  },
  {
   "cell_type": "code",
   "execution_count": 7,
   "id": "b4d77834-635f-47dc-943d-9778fb15ba0b",
   "metadata": {},
   "outputs": [
    {
     "data": {
      "text/plain": [
       "dict_keys(['Ramesh', 'Suresh', 'sathis'])"
      ]
     },
     "execution_count": 7,
     "metadata": {},
     "output_type": "execute_result"
    }
   ],
   "source": [
    "dict1={'Ramesh': 20, 'Suresh': 25, 'sathis': 30}\n",
    "keys=dict1.keys()\n",
    "keys"
   ]
  },
  {
   "cell_type": "code",
   "execution_count": 9,
   "id": "d3fbef19-2fc6-490e-b314-af5e511fa32f",
   "metadata": {},
   "outputs": [
    {
     "data": {
      "text/plain": [
       "dict_keys"
      ]
     },
     "execution_count": 9,
     "metadata": {},
     "output_type": "execute_result"
    }
   ],
   "source": [
    "type(keys)"
   ]
  },
  {
   "cell_type": "markdown",
   "id": "0ffaf644-aaa7-49a3-a197-c90977f8f95c",
   "metadata": {},
   "source": [
    "- keys here is not a list, its a dict_keys\n",
    "- observe below difference"
   ]
  },
  {
   "cell_type": "code",
   "execution_count": 12,
   "id": "f8ceb90b-7285-4ef2-814d-8919ee89e582",
   "metadata": {},
   "outputs": [
    {
     "ename": "AttributeError",
     "evalue": "'dict_keys' object has no attribute 'count'",
     "output_type": "error",
     "traceback": [
      "\u001b[1;31m---------------------------------------------------------------------------\u001b[0m",
      "\u001b[1;31mAttributeError\u001b[0m                            Traceback (most recent call last)",
      "Cell \u001b[1;32mIn[12], line 1\u001b[0m\n\u001b[1;32m----> 1\u001b[0m keys\u001b[38;5;241m.\u001b[39mcount(\u001b[38;5;124m'\u001b[39m\u001b[38;5;124mRamesh\u001b[39m\u001b[38;5;124m'\u001b[39m)\n",
      "\u001b[1;31mAttributeError\u001b[0m: 'dict_keys' object has no attribute 'count'"
     ]
    }
   ],
   "source": [
    "keys.count('Ramesh')"
   ]
  },
  {
   "cell_type": "code",
   "execution_count": 14,
   "id": "96387ef4-9a17-4091-be9a-9fab59cd2d6b",
   "metadata": {},
   "outputs": [
    {
     "data": {
      "text/plain": [
       "1"
      ]
     },
     "execution_count": 14,
     "metadata": {},
     "output_type": "execute_result"
    }
   ],
   "source": [
    "names = ['Ramesh', 'Suresh', 'sathis']\n",
    "names.count('Ramesh')"
   ]
  },
  {
   "cell_type": "markdown",
   "id": "a8e61644-450f-4a4d-ac2a-f9a1cc98137f",
   "metadata": {},
   "source": [
    "- inorder to conver dictionary to list\n",
    "- First we need to seperate keys and values then apply list type casting "
   ]
  },
  {
   "cell_type": "code",
   "execution_count": 20,
   "id": "a3aa527f-0c07-401a-b045-7862239d71b9",
   "metadata": {},
   "outputs": [
    {
     "data": {
      "text/plain": [
       "['Ramesh', 'Suresh', 'sathis']"
      ]
     },
     "execution_count": 20,
     "metadata": {},
     "output_type": "execute_result"
    }
   ],
   "source": [
    "dict1={'Ramesh': 20, 'Suresh': 25, 'sathis': 30}\n",
    "keys=dict1.keys()\n",
    "keys_list = list(keys)\n",
    "keys_list"
   ]
  },
  {
   "cell_type": "code",
   "execution_count": 22,
   "id": "7c447f89-a933-447e-b337-ce77150f01aa",
   "metadata": {},
   "outputs": [
    {
     "data": {
      "text/plain": [
       "list"
      ]
     },
     "execution_count": 22,
     "metadata": {},
     "output_type": "execute_result"
    }
   ],
   "source": [
    "type(keys_list)"
   ]
  },
  {
   "cell_type": "code",
   "execution_count": 34,
   "id": "8e2475fe-393a-4904-aea6-e763c398f0ba",
   "metadata": {},
   "outputs": [
    {
     "data": {
      "text/plain": [
       "(list, dict_keys)"
      ]
     },
     "execution_count": 34,
     "metadata": {},
     "output_type": "execute_result"
    }
   ],
   "source": [
    "type(keys_list),type(keys)"
   ]
  },
  {
   "cell_type": "code",
   "execution_count": 36,
   "id": "69d97c25-191c-40ee-9672-486589fae6a4",
   "metadata": {},
   "outputs": [
    {
     "data": {
      "text/plain": [
       "1"
      ]
     },
     "execution_count": 36,
     "metadata": {},
     "output_type": "execute_result"
    }
   ],
   "source": [
    "keys_list.count('Ramesh')"
   ]
  },
  {
   "cell_type": "markdown",
   "id": "acd2775a-4ff9-4add-8519-2373d1fad399",
   "metadata": {},
   "source": [
    "## important\n",
    "- list to string using join\n",
    "- string to list using split\n",
    "- list to dict using zip\n",
    "- dict to list using typecasting"
   ]
  },
  {
   "cell_type": "code",
   "execution_count": 28,
   "id": "07306ab5-7f9c-4218-b4e2-399b1fa301ef",
   "metadata": {},
   "outputs": [
    {
     "data": {
      "text/plain": [
       "[20, 25, 30]"
      ]
     },
     "execution_count": 28,
     "metadata": {},
     "output_type": "execute_result"
    }
   ],
   "source": [
    "dict1={'Ramesh': 20, 'Suresh': 25, 'sathis': 30}\n",
    "dict1.values()\n",
    "values_list=list(dict1.values())\n",
    "values_list"
   ]
  },
  {
   "cell_type": "code",
   "execution_count": 30,
   "id": "70260aa9-8e55-4b91-ab01-d99f2512c403",
   "metadata": {},
   "outputs": [
    {
     "data": {
      "text/plain": [
       "dict_items([('Ramesh', 20), ('Suresh', 25), ('sathis', 30)])"
      ]
     },
     "execution_count": 30,
     "metadata": {},
     "output_type": "execute_result"
    }
   ],
   "source": [
    "dict1={'Ramesh': 20, 'Suresh': 25, 'sathis': 30}\n",
    "dict1.items()"
   ]
  },
  {
   "cell_type": "code",
   "execution_count": 32,
   "id": "6291ad0e-c108-43ab-898a-e3e0d421d1cb",
   "metadata": {},
   "outputs": [
    {
     "name": "stdout",
     "output_type": "stream",
     "text": [
      "[('Ramesh', 20), ('Suresh', 25), ('sathis', 30)]\n"
     ]
    }
   ],
   "source": [
    "dict1={'Ramesh': 20, 'Suresh': 25, 'sathis': 30}\n",
    "print(list(dict1.items()))"
   ]
  },
  {
   "cell_type": "code",
   "execution_count": 50,
   "id": "0a3b09a6-3b2e-496c-91d3-14037dfc174e",
   "metadata": {},
   "outputs": [
    {
     "data": {
      "text/plain": [
       "{'Firstname': ['virat', 'rohit', 'ms'],\n",
       " 'Lastname': ['kohli', 'sharma', 'dhoni'],\n",
       " 'cnam': ['rcb', 'mi', 'csk']}"
      ]
     },
     "execution_count": 50,
     "metadata": {},
     "output_type": "execute_result"
    }
   ],
   "source": [
    "# Q8) input='virat.kohli@rcb.com;rohit.sharma@mi.com;ms.dhoni@csk.com'\n",
    "#     fname=['virat','rohit'.'ms']\n",
    "#     sname=['kohli','sharma','dhoni']\n",
    "#     cname=['rcb','mi','csk']\n",
    "\n",
    "input='virat.kohli@rcb.com;rohit.sharma@mi.com;ms.dhoni@csk.com'\n",
    "lfname=[]\n",
    "lsname=[]\n",
    "lcname=[]\n",
    "l1=input.split(';')\n",
    "for i in l1:\n",
    "    lfname.append(i.split(sep='.')[0])\n",
    "    lsname.append(i.split(sep='.')[1].split(sep='@')[0])\n",
    "    lcname.append(i.split(sep='.')[1].split(sep='@')[1])\n",
    "dict1={}\n",
    "dict1['Firstname'] = lfname\n",
    "dict1['Lastname'] = lsname\n",
    "dict1['cnam'] = lcname\n",
    "dict1"
   ]
  },
  {
   "cell_type": "code",
   "execution_count": 62,
   "id": "6b309b87-c069-4357-a803-c2750750a5c5",
   "metadata": {},
   "outputs": [
    {
     "name": "stdout",
     "output_type": "stream",
     "text": [
      "('sathis', 30)\n"
     ]
    },
    {
     "data": {
      "text/plain": [
       "{'Ramesh': 20, 'Suresh': 25}"
      ]
     },
     "execution_count": 62,
     "metadata": {},
     "output_type": "execute_result"
    }
   ],
   "source": [
    "dict1={'Ramesh': 20, 'Suresh': 25, 'sathis': 30}\n",
    "print(dict1.popitem()) #Remove and return a (key, value) pair as a 2-tuple\n",
    "dict1"
   ]
  },
  {
   "cell_type": "code",
   "execution_count": 68,
   "id": "35c4ec64-41d0-461c-badb-f435efdd257b",
   "metadata": {},
   "outputs": [
    {
     "name": "stdout",
     "output_type": "stream",
     "text": [
      "30\n"
     ]
    },
    {
     "data": {
      "text/plain": [
       "{'Ramesh': 20, 'Suresh': 25}"
      ]
     },
     "execution_count": 68,
     "metadata": {},
     "output_type": "execute_result"
    }
   ],
   "source": [
    "dict1={'Ramesh': 20, 'Suresh': 25, 'sathis': 30}\n",
    "print(dict1.pop('sathis')) #remove specified key and return the corresponding value.\n",
    "dict1"
   ]
  },
  {
   "cell_type": "code",
   "execution_count": 72,
   "id": "46d05e03-2ce3-4265-92c5-c9703ba105c4",
   "metadata": {},
   "outputs": [
    {
     "name": "stdout",
     "output_type": "stream",
     "text": [
      "20\n"
     ]
    },
    {
     "data": {
      "text/plain": [
       "{'Ramesh': 20, 'Suresh': 25, 'sathis': 30}"
      ]
     },
     "execution_count": 72,
     "metadata": {},
     "output_type": "execute_result"
    }
   ],
   "source": [
    "dict1={'Ramesh': 20, 'Suresh': 25, 'sathis': 30}\n",
    "print(dict1.get('Ramesh'))\n",
    "dict1"
   ]
  },
  {
   "cell_type": "code",
   "execution_count": 78,
   "id": "0cf9c377-9179-41c1-ae09-96bd8b9ff307",
   "metadata": {},
   "outputs": [
    {
     "name": "stdout",
     "output_type": "stream",
     "text": [
      "{'Ramesh': 20, 'Suresh': 25, 'sathis': 30, 'Ram': 40, 'Sur': 50, 'sat': 60}\n",
      "{'Ram': 40, 'Sur': 50, 'sat': 60}\n"
     ]
    }
   ],
   "source": [
    "dict1={'Ramesh': 20, 'Suresh': 25, 'sathis': 30}\n",
    "dict2={'Ram': 40, 'Sur': 50, 'sat': 60}\n",
    "dict1.update(dict2)\n",
    "print(dict1)\n",
    "print(dict2)"
   ]
  },
  {
   "cell_type": "code",
   "execution_count": 80,
   "id": "727df4e5-c744-4028-b9e8-8f2412ef02ea",
   "metadata": {},
   "outputs": [
    {
     "name": "stdout",
     "output_type": "stream",
     "text": [
      "['Ramesh', 'Suresh', 'sathis', 'Ram', 'Sur', 'sat']\n"
     ]
    }
   ],
   "source": [
    "names1= ['Ramesh', 'Suresh', 'sathis']\n",
    "names2= ['Ram', 'Sur', 'sat']\n",
    "names1.extend(names2)\n",
    "print(names1)"
   ]
  },
  {
   "cell_type": "code",
   "execution_count": 86,
   "id": "05f69192-e6cd-4b78-99da-87da2cbe3513",
   "metadata": {},
   "outputs": [
    {
     "data": {
      "text/plain": [
       "{'Ramesh': 20, 'Suresh': 25, 'sathis': 30, 'Sur': None}"
      ]
     },
     "execution_count": 86,
     "metadata": {},
     "output_type": "execute_result"
    }
   ],
   "source": [
    "dict1={'Ramesh': 20, 'Suresh': 25, 'sathis': 30}\n",
    "dict1.setdefault('Sur') # Insert key with a value of default if key is not in the dictionary.\n",
    "dict1"
   ]
  },
  {
   "cell_type": "code",
   "execution_count": 94,
   "id": "682b0d22-a098-4531-b1d5-332a8f81b6d5",
   "metadata": {},
   "outputs": [
    {
     "data": {
      "text/plain": [
       "{'Ramesh': 20, 'Suresh': 25, 'sathis': 30, 'kir': 20}"
      ]
     },
     "execution_count": 94,
     "metadata": {},
     "output_type": "execute_result"
    }
   ],
   "source": [
    "dict1={'Ramesh': 20, 'Suresh': 25, 'sathis': 30}\n",
    "dict1.setdefault('kir', 20) # Insert key with a value of default if key is not in the dictionary.\n",
    "dict1"
   ]
  },
  {
   "cell_type": "code",
   "execution_count": 102,
   "id": "17024c34-656a-4d8e-be8f-c9b65441d84b",
   "metadata": {},
   "outputs": [
    {
     "data": {
      "text/plain": [
       "{}"
      ]
     },
     "execution_count": 102,
     "metadata": {},
     "output_type": "execute_result"
    }
   ],
   "source": [
    "dict1={}\n",
    "str1='python'\n",
    "dict1.fromkeys(str1)\n",
    "dict1"
   ]
  },
  {
   "cell_type": "code",
   "execution_count": 108,
   "id": "dcf71f55-7784-494f-83a4-d1a028fb3f31",
   "metadata": {},
   "outputs": [
    {
     "data": {
      "text/plain": [
       "{}"
      ]
     },
     "execution_count": 108,
     "metadata": {},
     "output_type": "execute_result"
    }
   ],
   "source": [
    "dict1={}\n",
    "l1=['Ramesh', 'Suresh', 'sathis', 'Ram', 'Sur', 'sat']\n",
    "dict1.fromkeys(l1,20)\n",
    "dict1"
   ]
  },
  {
   "cell_type": "code",
   "execution_count": null,
   "id": "2a068e9c-a1ae-4714-aa46-d923e4311c1e",
   "metadata": {},
   "outputs": [],
   "source": []
  }
 ],
 "metadata": {
  "kernelspec": {
   "display_name": "Python [conda env:base] *",
   "language": "python",
   "name": "conda-base-py"
  },
  "language_info": {
   "codemirror_mode": {
    "name": "ipython",
    "version": 3
   },
   "file_extension": ".py",
   "mimetype": "text/x-python",
   "name": "python",
   "nbconvert_exporter": "python",
   "pygments_lexer": "ipython3",
   "version": "3.12.7"
  }
 },
 "nbformat": 4,
 "nbformat_minor": 5
}
