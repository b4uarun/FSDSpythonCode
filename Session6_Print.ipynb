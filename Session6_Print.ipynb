{
 "cells": [
  {
   "cell_type": "code",
   "execution_count": 3,
   "id": "58c1dd7c-2d7b-49d3-a45c-fef68c111320",
   "metadata": {},
   "outputs": [
    {
     "name": "stdout",
     "output_type": "stream",
     "text": [
      "Addition of 100 and 200 is 300\n"
     ]
    }
   ],
   "source": [
    "num1=100\n",
    "num2=200\n",
    "add=num1+num2\n",
    "print(\"Addition of\",num1,\"and\",num2,\"is\",add)"
   ]
  },
  {
   "cell_type": "code",
   "execution_count": 7,
   "id": "57d562eb-f54c-461e-a5ee-6c103b5188a3",
   "metadata": {},
   "outputs": [
    {
     "name": "stdout",
     "output_type": "stream",
     "text": [
      "My name is Python my age is 10 I came from hyd\n"
     ]
    }
   ],
   "source": [
    "name=\"Python\"\n",
    "age=10\n",
    "city=\"hyd\"\n",
    "print(\"My name is\", name,\"my age is\",age,\"I came from\", city)"
   ]
  },
  {
   "cell_type": "markdown",
   "id": "2747e9f4-c223-4d35-83be-76c97a0e9c58",
   "metadata": {},
   "source": [
    "## Format method"
   ]
  },
  {
   "cell_type": "code",
   "execution_count": 12,
   "id": "68442b79-6fe1-4270-bb9c-db17fac23aaf",
   "metadata": {},
   "outputs": [
    {
     "name": "stdout",
     "output_type": "stream",
     "text": [
      "My name is Python,my age is 10 and Iam from hyd\n"
     ]
    }
   ],
   "source": [
    "name=\"Python\"\n",
    "age=10\n",
    "city=\"hyd\"\n",
    "print(\"My name is {},my age is {} and Iam from {}\".format(name,age,city))"
   ]
  },
  {
   "cell_type": "code",
   "execution_count": 16,
   "id": "a6b6fe39-ab53-463b-bdab-aaf3963aea6e",
   "metadata": {},
   "outputs": [
    {
     "name": "stdout",
     "output_type": "stream",
     "text": [
      "Addition of 100 and 200 is 300\n"
     ]
    }
   ],
   "source": [
    "num1=100\n",
    "num2=200\n",
    "add=num1+num2\n",
    "print(\"Addition of {} and {} is {}\".format(num1,num2,add))"
   ]
  },
  {
   "cell_type": "code",
   "execution_count": 26,
   "id": "8611648b-9105-48d1-8e11-0828f8b9e9c1",
   "metadata": {},
   "outputs": [
    {
     "name": "stdout",
     "output_type": "stream",
     "text": [
      "************************Addition*********************\n",
      "Addition of 100 and 200 is 300\n",
      "************************Sub*********************\n",
      "Subtraction of 100 and 200 is -100\n",
      "************************Mul*********************\n",
      "Multiplication of 100 and 200 is 20000\n",
      "************************Div*********************\n",
      "Division of 100 and 200 is 0.5\n"
     ]
    }
   ],
   "source": [
    "num1=100\n",
    "num2=200\n",
    "add=num1+num2\n",
    "sub=num1-num2\n",
    "mul=num1*num2\n",
    "div=num1/num2\n",
    "print(\"************************Addition*********************\")\n",
    "print(\"Addition of {} and {} is {}\".format(num1,num2,add))\n",
    "print(\"************************Sub*********************\")\n",
    "print(\"Subtraction of {} and {} is {}\".format(num1,num2,sub))\n",
    "print(\"************************Mul*********************\")\n",
    "print(\"Multiplication of {} and {} is {}\".format(num1,num2,mul))\n",
    "print(\"************************Div*********************\")\n",
    "print(\"Division of {} and {} is {}\".format(num1,num2,div))"
   ]
  },
  {
   "cell_type": "code",
   "execution_count": 24,
   "id": "b39ac5e9-5c8f-422f-b1ac-0854002478c8",
   "metadata": {},
   "outputs": [
    {
     "name": "stdout",
     "output_type": "stream",
     "text": [
      "The average of 100, 200 and 300 is:200.0\n"
     ]
    }
   ],
   "source": [
    "a=100\n",
    "b=200\n",
    "c=300\n",
    "avg=(a+b+c)/3\n",
    "print(\"The average of {}, {} and {} is:{}\".format(a,b,c,avg))"
   ]
  },
  {
   "cell_type": "markdown",
   "id": "ecf42565-a71e-458e-b3d5-44baa9bdf2cb",
   "metadata": {},
   "source": [
    "## F String method"
   ]
  },
  {
   "cell_type": "code",
   "execution_count": 29,
   "id": "859a1a16-22ad-420f-91e7-ab194aee1230",
   "metadata": {},
   "outputs": [
    {
     "name": "stdout",
     "output_type": "stream",
     "text": [
      "The average of 100, 200 and 300 is:200.0\n"
     ]
    }
   ],
   "source": [
    "a=100\n",
    "b=200\n",
    "c=300\n",
    "avg=(a+b+c)/3\n",
    "print(f\"The average of {a}, {b} and {c} is:{avg}\")"
   ]
  },
  {
   "cell_type": "code",
   "execution_count": 32,
   "id": "4dc83c11-8b7c-4cde-a4e2-365719c4d95b",
   "metadata": {},
   "outputs": [
    {
     "name": "stdout",
     "output_type": "stream",
     "text": [
      "************************Addition*********************\n",
      "Addition of 100 and 200 is 300\n",
      "************************Sub*********************\n",
      "Subtraction of 100 and 200 is -100\n",
      "************************Mul*********************\n",
      "Multiplication of 100 and 200 is 20000\n",
      "************************Div*********************\n",
      "Division of 100 and 200 is 0.5\n"
     ]
    }
   ],
   "source": [
    "num1=100\n",
    "num2=200\n",
    "add=num1+num2\n",
    "sub=num1-num2\n",
    "mul=num1*num2\n",
    "div=num1/num2\n",
    "print(\"************************Addition*********************\")\n",
    "print(f\"Addition of {num1} and {num2} is {add}\")\n",
    "print(\"************************Sub*********************\")\n",
    "print(f\"Subtraction of {num1} and {num2} is {sub}\")\n",
    "print(\"************************Mul*********************\")\n",
    "print(f\"Multiplication of {num1} and {num2} is {mul}\")\n",
    "print(\"************************Div*********************\")\n",
    "print(f\"Division of {num1} and {num2} is {div}\")"
   ]
  },
  {
   "cell_type": "markdown",
   "id": "c92c170e-c671-42fa-a6c4-b52e173f7305",
   "metadata": {},
   "source": [
    "## ctrl \"A\" and ctrl \"/\" to keep comments for all lines in the cell in one stretch"
   ]
  },
  {
   "cell_type": "code",
   "execution_count": null,
   "id": "cc832916-00e1-4bba-8ed7-8ed017b7fc3e",
   "metadata": {},
   "outputs": [],
   "source": [
    "# a=100\n",
    "# b=200\n",
    "# c=300\n",
    "# avg=(a+b+c)/3\n",
    "# print(\"The average of {}, {} and {} is:{}\".format(a,b,c,avg))"
   ]
  },
  {
   "cell_type": "markdown",
   "id": "a3f22b5e-2da5-48a4-92a7-2a7da7cee679",
   "metadata": {},
   "source": [
    "## round"
   ]
  },
  {
   "cell_type": "code",
   "execution_count": 36,
   "id": "ee36c707-0695-4365-8d50-27c7e61f4557",
   "metadata": {},
   "outputs": [
    {
     "data": {
      "text/plain": [
       "11"
      ]
     },
     "execution_count": 36,
     "metadata": {},
     "output_type": "execute_result"
    }
   ],
   "source": [
    "round(10.77777)"
   ]
  },
  {
   "cell_type": "code",
   "execution_count": 38,
   "id": "2b785a12-173f-4d24-bb19-b77ca22883d1",
   "metadata": {},
   "outputs": [
    {
     "data": {
      "text/plain": [
       "10.78"
      ]
     },
     "execution_count": 38,
     "metadata": {},
     "output_type": "execute_result"
    }
   ],
   "source": [
    "round(10.77777,2)"
   ]
  },
  {
   "cell_type": "code",
   "execution_count": 40,
   "id": "e0e50e7b-bf4c-496a-9a07-2cade6b55993",
   "metadata": {},
   "outputs": [
    {
     "data": {
      "text/plain": [
       "10.778"
      ]
     },
     "execution_count": 40,
     "metadata": {},
     "output_type": "execute_result"
    }
   ],
   "source": [
    "round(10.777777,3)"
   ]
  },
  {
   "cell_type": "code",
   "execution_count": 45,
   "id": "6e15a62d-5dea-4690-a67a-9ba3c1500028",
   "metadata": {},
   "outputs": [
    {
     "name": "stdout",
     "output_type": "stream",
     "text": [
      "The average of 100, 200 and 300 is:200.0\n"
     ]
    }
   ],
   "source": [
    "a=100\n",
    "b=200\n",
    "c=300\n",
    "avg=(a+b+c)/3\n",
    "print(f\"The average of {a}, {b} and {c} is:{round(avg,2)}\")"
   ]
  },
  {
   "cell_type": "markdown",
   "id": "2fb71c8c-8c17-4648-96bf-f87e3b2c997b",
   "metadata": {},
   "source": [
    "## end operator"
   ]
  },
  {
   "cell_type": "code",
   "execution_count": 49,
   "id": "6734e4c7-6e2d-4556-996c-451b64dd61ed",
   "metadata": {},
   "outputs": [
    {
     "name": "stdout",
     "output_type": "stream",
     "text": [
      "10\n",
      "20\n"
     ]
    }
   ],
   "source": [
    "print(10)\n",
    "print(20)"
   ]
  },
  {
   "cell_type": "code",
   "execution_count": 51,
   "id": "c4851578-1ce9-4391-94b1-55c0c668dab0",
   "metadata": {},
   "outputs": [
    {
     "name": "stdout",
     "output_type": "stream",
     "text": [
      "10 20\n"
     ]
    }
   ],
   "source": [
    "print(10,end=\" \")\n",
    "print(20)"
   ]
  },
  {
   "cell_type": "code",
   "execution_count": 53,
   "id": "7cbc1b92-cb7d-4d91-ac75-7d7fab71c327",
   "metadata": {},
   "outputs": [
    {
     "name": "stdout",
     "output_type": "stream",
     "text": [
      "Addition of 100 and 200 is 300, Subtraction of 100 and 200 is -100, Multiplication of 100 and 200 is 20000and Division of 100 and 200 is 0.5\n"
     ]
    }
   ],
   "source": [
    "num1=100\n",
    "num2=200\n",
    "add=num1+num2\n",
    "sub=num1-num2\n",
    "mul=num1*num2\n",
    "div=num1/num2\n",
    "print(f\"Addition of {num1} and {num2} is {add}\",end=\", \")\n",
    "print(f\"Subtraction of {num1} and {num2} is {sub}\",end=\", \")\n",
    "print(f\"Multiplication of {num1} and {num2} is {mul}\",end=\"and \")\n",
    "print(f\"Division of {num1} and {num2} is {div}\")"
   ]
  },
  {
   "cell_type": "markdown",
   "id": "f05f38be-fae1-4f37-a867-fb058a8dbff8",
   "metadata": {},
   "source": [
    "## sep operator"
   ]
  },
  {
   "cell_type": "code",
   "execution_count": 56,
   "id": "b50b6709-4c05-4d26-adff-70ffb3f893cb",
   "metadata": {},
   "outputs": [
    {
     "name": "stdout",
     "output_type": "stream",
     "text": [
      "10 20 30\n"
     ]
    }
   ],
   "source": [
    "print(10, 20,30)"
   ]
  },
  {
   "cell_type": "code",
   "execution_count": 58,
   "id": "37f3da5b-5b09-4f59-b209-4189d228c8f7",
   "metadata": {},
   "outputs": [
    {
     "name": "stdout",
     "output_type": "stream",
     "text": [
      "10====>20====>30\n"
     ]
    }
   ],
   "source": [
    "print(10,20,30, sep=\"====>\")"
   ]
  },
  {
   "cell_type": "code",
   "execution_count": 66,
   "id": "aba5c8dd-30df-4e1e-b572-9a64c9cca72d",
   "metadata": {},
   "outputs": [
    {
     "name": "stdout",
     "output_type": "stream",
     "text": [
      "Area of circle with Radius= 10 is: 314.0\n",
      "Area of circle with radius = 10 is: 314.0\n",
      "Area of circle with radius = 10 is: 314.0\n"
     ]
    }
   ],
   "source": [
    "r=10\n",
    "pi=3.14\n",
    "area=pi*r*r\n",
    "print(\"Area of circle with Radius=\",r,\"is:\",area)\n",
    "print(\"Area of circle with radius = {} is: {}\".format(r,area))\n",
    "print(f\"Area of circle with radius = {r} is: {area}\")"
   ]
  },
  {
   "cell_type": "code",
   "execution_count": 1,
   "id": "41140aa6-aadf-4b47-907f-39d7c2b5358b",
   "metadata": {},
   "outputs": [
    {
     "name": "stdout",
     "output_type": "stream",
     "text": [
      "The area of right angle triagle with Breadth= 20 and Hight = 40 is : 400.0\n"
     ]
    }
   ],
   "source": [
    "b=20\n",
    "h=40\n",
    "area=0.5*b*h\n",
    "print(f\"The area of right angle triagle with Breadth= {b} and Hight = {h} is : {area}\")"
   ]
  },
  {
   "cell_type": "code",
   "execution_count": 3,
   "id": "142c4623-8200-49d4-b84e-7c7f2928e78e",
   "metadata": {},
   "outputs": [
    {
     "name": "stdout",
     "output_type": "stream",
     "text": [
      "Total bill = 2100\n"
     ]
    }
   ],
   "source": [
    "tip=100\n",
    "bill=2000\n",
    "tbill=tip+bill\n",
    "print(\"Total bill = {}\".format(tbill))"
   ]
  },
  {
   "cell_type": "markdown",
   "id": "e853240b-7d2d-4557-9026-d7424f7640b3",
   "metadata": {},
   "source": [
    "## Input\n",
    "- Input is inbuilt function , using input user can provide any value"
   ]
  },
  {
   "cell_type": "code",
   "execution_count": 7,
   "id": "ca62d9e3-0f66-42fc-ac0d-8f8b9893ffe4",
   "metadata": {},
   "outputs": [
    {
     "data": {
      "text/plain": [
       "<bound method Kernel.raw_input of <ipykernel.ipkernel.IPythonKernel object at 0x000001CCB42FF950>>"
      ]
     },
     "execution_count": 7,
     "metadata": {},
     "output_type": "execute_result"
    }
   ],
   "source": [
    "input"
   ]
  },
  {
   "cell_type": "markdown",
   "id": "f1fdac99-0135-407d-9917-62d46b774189",
   "metadata": {},
   "source": [
    "**when ever if see a bound method function which indicate we have to give brackets**"
   ]
  },
  {
   "cell_type": "code",
   "execution_count": 10,
   "id": "94fbba38-6ace-47a4-a493-ea1fae426c87",
   "metadata": {},
   "outputs": [
    {
     "name": "stdin",
     "output_type": "stream",
     "text": [
      " 10\n"
     ]
    },
    {
     "data": {
      "text/plain": [
       "'10'"
      ]
     },
     "execution_count": 10,
     "metadata": {},
     "output_type": "execute_result"
    }
   ],
   "source": [
    "input()"
   ]
  },
  {
   "cell_type": "code",
   "execution_count": 12,
   "id": "b2f006e0-3948-43ec-b4bf-ebfbab8b9384",
   "metadata": {},
   "outputs": [
    {
     "name": "stdin",
     "output_type": "stream",
     "text": [
      " Python\n"
     ]
    },
    {
     "data": {
      "text/plain": [
       "'Python'"
      ]
     },
     "execution_count": 12,
     "metadata": {},
     "output_type": "execute_result"
    }
   ],
   "source": [
    "input()"
   ]
  },
  {
   "cell_type": "code",
   "execution_count": 14,
   "id": "0d919f27-af1e-44f5-afaf-d4be5af91fd0",
   "metadata": {},
   "outputs": [
    {
     "name": "stdin",
     "output_type": "stream",
     "text": [
      " 100\n"
     ]
    }
   ],
   "source": [
    "b=input()"
   ]
  },
  {
   "cell_type": "code",
   "execution_count": 16,
   "id": "8c7d60f3-c2f2-4d52-8db1-7aa5ca488317",
   "metadata": {},
   "outputs": [
    {
     "data": {
      "text/plain": [
       "'100'"
      ]
     },
     "execution_count": 16,
     "metadata": {},
     "output_type": "execute_result"
    }
   ],
   "source": [
    "b"
   ]
  },
  {
   "cell_type": "code",
   "execution_count": 18,
   "id": "cdf622d4-13e8-4f8c-bfe4-c32561ce6014",
   "metadata": {},
   "outputs": [
    {
     "name": "stdin",
     "output_type": "stream",
     "text": [
      " Arun\n"
     ]
    }
   ],
   "source": [
    "name=input()"
   ]
  },
  {
   "cell_type": "code",
   "execution_count": 20,
   "id": "2e034b11-77f4-4e4e-9deb-53cd7d1a08d8",
   "metadata": {},
   "outputs": [
    {
     "data": {
      "text/plain": [
       "'Arun'"
      ]
     },
     "execution_count": 20,
     "metadata": {},
     "output_type": "execute_result"
    }
   ],
   "source": [
    "name"
   ]
  },
  {
   "cell_type": "code",
   "execution_count": 22,
   "id": "51d0685b-ff85-4927-93d6-03cbd5a13cc0",
   "metadata": {},
   "outputs": [
    {
     "name": "stdin",
     "output_type": "stream",
     "text": [
      " 10\n",
      " 20\n"
     ]
    },
    {
     "data": {
      "text/plain": [
       "'20'"
      ]
     },
     "execution_count": 22,
     "metadata": {},
     "output_type": "execute_result"
    }
   ],
   "source": [
    "input()\n",
    "input()"
   ]
  },
  {
   "cell_type": "code",
   "execution_count": 24,
   "id": "110083a4-4d9f-4243-8460-7b943add753b",
   "metadata": {},
   "outputs": [
    {
     "name": "stdin",
     "output_type": "stream",
     "text": [
      " 100\n",
      " 200\n",
      " Arun\n"
     ]
    }
   ],
   "source": [
    "num1=input()\n",
    "num2=input()\n",
    "str1=input()"
   ]
  },
  {
   "cell_type": "code",
   "execution_count": 28,
   "id": "25a58df8-7c3d-4ef8-be54-4a0a423931e2",
   "metadata": {},
   "outputs": [
    {
     "data": {
      "text/plain": [
       "('100', '200', 'Arun')"
      ]
     },
     "execution_count": 28,
     "metadata": {},
     "output_type": "execute_result"
    }
   ],
   "source": [
    "num1,num2,str1"
   ]
  },
  {
   "cell_type": "code",
   "execution_count": 30,
   "id": "4e683a22-b94b-4d38-9300-5023444cdd6a",
   "metadata": {},
   "outputs": [
    {
     "name": "stdin",
     "output_type": "stream",
     "text": [
      "Enter the num1: 100\n",
      "Enter the num2: 200\n",
      "Enter String: arun\n"
     ]
    }
   ],
   "source": [
    "num1=input(\"Enter the num1:\")\n",
    "num2=input(\"Enter the num2:\")\n",
    "str1=input(\"Enter String:\")"
   ]
  },
  {
   "cell_type": "code",
   "execution_count": 32,
   "id": "6379fb07-9beb-45ec-826f-57f75bc7771d",
   "metadata": {},
   "outputs": [
    {
     "data": {
      "text/plain": [
       "('100', '200', 'arun')"
      ]
     },
     "execution_count": 32,
     "metadata": {},
     "output_type": "execute_result"
    }
   ],
   "source": [
    "num1,num2,str1"
   ]
  },
  {
   "cell_type": "markdown",
   "id": "8924b31e-0683-4ab8-b4aa-8018cceb19e2",
   "metadata": {},
   "source": [
    "**input values are default string type**"
   ]
  },
  {
   "cell_type": "code",
   "execution_count": 37,
   "id": "7e54297b-8523-45bf-8f03-5707301f4102",
   "metadata": {},
   "outputs": [
    {
     "data": {
      "text/plain": [
       "'100200'"
      ]
     },
     "execution_count": 37,
     "metadata": {},
     "output_type": "execute_result"
    }
   ],
   "source": [
    "num1+num2 # '100'+'200'='100200'"
   ]
  },
  {
   "cell_type": "code",
   "execution_count": 39,
   "id": "5fe4709e-98d3-4cce-9cdf-e7c8257b8664",
   "metadata": {},
   "outputs": [
    {
     "name": "stdin",
     "output_type": "stream",
     "text": [
      "Enter str1: Apple\n",
      "Enter str2: is\n",
      "Enter str3: Fruit\n"
     ]
    },
    {
     "data": {
      "text/plain": [
       "'AppleisFruit'"
      ]
     },
     "execution_count": 39,
     "metadata": {},
     "output_type": "execute_result"
    }
   ],
   "source": [
    "str1=input(\"Enter str1:\")\n",
    "str2=input(\"Enter str2:\")\n",
    "str3=input(\"Enter str3:\")\n",
    "str1+str2+str3"
   ]
  },
  {
   "cell_type": "code",
   "execution_count": 41,
   "id": "1e6d219e-42cd-4f24-afe8-af6943e2d414",
   "metadata": {},
   "outputs": [
    {
     "name": "stdin",
     "output_type": "stream",
     "text": [
      "Enter the num1: 100\n",
      "Enter the num2: 200\n"
     ]
    },
    {
     "name": "stdout",
     "output_type": "stream",
     "text": [
      "300\n"
     ]
    }
   ],
   "source": [
    "num1=int(input(\"Enter the num1:\"))\n",
    "num2=int(input(\"Enter the num2:\"))\n",
    "sum=num1+num2\n",
    "print(sum)"
   ]
  },
  {
   "cell_type": "code",
   "execution_count": 43,
   "id": "d695e37d-8e1e-4a36-9504-ba3e72534e5f",
   "metadata": {},
   "outputs": [
    {
     "name": "stdin",
     "output_type": "stream",
     "text": [
      "Enter the num1: 100\n",
      "Enter the num2: 200\n"
     ]
    },
    {
     "name": "stdout",
     "output_type": "stream",
     "text": [
      "300\n"
     ]
    }
   ],
   "source": [
    "num1=input(\"Enter the num1:\")\n",
    "num2=input(\"Enter the num2:\")\n",
    "sum=int(num1)+int(num2)\n",
    "print(sum)"
   ]
  },
  {
   "cell_type": "markdown",
   "id": "3cb50bc0-2eeb-4522-af77-d3cd162843a8",
   "metadata": {},
   "source": [
    "## eval\n",
    "- Works only on number repesentation as a strigs\n",
    "- Not works on english words\n",
    "- If user enters 10 in qoutes it will convert to into 10\n",
    "- If user enters 10.5 in qoutes it will convert to into 10.5"
   ]
  },
  {
   "cell_type": "code",
   "execution_count": 48,
   "id": "75850deb-8428-415e-87c0-9398ace73cd7",
   "metadata": {},
   "outputs": [
    {
     "data": {
      "text/plain": [
       "10"
      ]
     },
     "execution_count": 48,
     "metadata": {},
     "output_type": "execute_result"
    }
   ],
   "source": [
    "int('10')"
   ]
  },
  {
   "cell_type": "code",
   "execution_count": 50,
   "id": "651f860d-8692-4ebc-bdd5-6f030f329321",
   "metadata": {},
   "outputs": [
    {
     "ename": "ValueError",
     "evalue": "invalid literal for int() with base 10: '10.5'",
     "output_type": "error",
     "traceback": [
      "\u001b[1;31m---------------------------------------------------------------------------\u001b[0m",
      "\u001b[1;31mValueError\u001b[0m                                Traceback (most recent call last)",
      "Cell \u001b[1;32mIn[50], line 1\u001b[0m\n\u001b[1;32m----> 1\u001b[0m \u001b[38;5;28mint\u001b[39m(\u001b[38;5;124m'\u001b[39m\u001b[38;5;124m10.5\u001b[39m\u001b[38;5;124m'\u001b[39m)\n",
      "\u001b[1;31mValueError\u001b[0m: invalid literal for int() with base 10: '10.5'"
     ]
    }
   ],
   "source": [
    "int('10.5')"
   ]
  },
  {
   "cell_type": "code",
   "execution_count": 54,
   "id": "e1131e2d-2a32-468c-93e3-9d75aec6616b",
   "metadata": {},
   "outputs": [
    {
     "data": {
      "text/plain": [
       "10.0"
      ]
     },
     "execution_count": 54,
     "metadata": {},
     "output_type": "execute_result"
    }
   ],
   "source": [
    "float('10')"
   ]
  },
  {
   "cell_type": "code",
   "execution_count": 56,
   "id": "47ed4918-4604-43ce-a85f-8e681603e4cb",
   "metadata": {},
   "outputs": [
    {
     "data": {
      "text/plain": [
       "10.5"
      ]
     },
     "execution_count": 56,
     "metadata": {},
     "output_type": "execute_result"
    }
   ],
   "source": [
    "float('10.5')"
   ]
  },
  {
   "cell_type": "code",
   "execution_count": 58,
   "id": "f2038690-d930-4c26-87bc-f3c5342550c5",
   "metadata": {},
   "outputs": [
    {
     "data": {
      "text/plain": [
       "10"
      ]
     },
     "execution_count": 58,
     "metadata": {},
     "output_type": "execute_result"
    }
   ],
   "source": [
    "eval('10')"
   ]
  },
  {
   "cell_type": "code",
   "execution_count": 60,
   "id": "2b37b73e-5a9c-44dd-b7cc-16d21641d842",
   "metadata": {},
   "outputs": [
    {
     "data": {
      "text/plain": [
       "10.5"
      ]
     },
     "execution_count": 60,
     "metadata": {},
     "output_type": "execute_result"
    }
   ],
   "source": [
    "eval('10.5')"
   ]
  },
  {
   "cell_type": "code",
   "execution_count": 62,
   "id": "2e3cc7e8-502f-4a88-afc7-a6638004529c",
   "metadata": {},
   "outputs": [
    {
     "name": "stdin",
     "output_type": "stream",
     "text": [
      "Enter the num1: 100\n",
      "Enter the num2: 200.5\n"
     ]
    },
    {
     "name": "stdout",
     "output_type": "stream",
     "text": [
      "300.5\n"
     ]
    }
   ],
   "source": [
    "num1=eval(input(\"Enter the num1:\"))\n",
    "num2=eval(input(\"Enter the num2:\"))\n",
    "sum=num1+num2\n",
    "print(sum)"
   ]
  },
  {
   "cell_type": "code",
   "execution_count": 76,
   "id": "d2125742-acae-477b-ae37-133da0d87751",
   "metadata": {},
   "outputs": [
    {
     "name": "stdin",
     "output_type": "stream",
     "text": [
      "Enter num1: 100\n",
      "Enter num2: 200\n",
      "Enter num3: 300\n"
     ]
    },
    {
     "name": "stdout",
     "output_type": "stream",
     "text": [
      "Average of given numbes: 200.0\n"
     ]
    }
   ],
   "source": [
    "num1=eval(input(\"Enter num1:\"))\n",
    "num2=eval(input(\"Enter num2:\"))\n",
    "num3=eval(input(\"Enter num3:\"))\n",
    "avg=(num1+num2+num3)/3\n",
    "print(f\"Average of given numbes: {avg}\")"
   ]
  },
  {
   "cell_type": "code",
   "execution_count": 74,
   "id": "f7420936-b6a7-423b-a19f-9649a8bff9be",
   "metadata": {},
   "outputs": [
    {
     "name": "stdin",
     "output_type": "stream",
     "text": [
      "Entare name: Arun\n",
      "Enter age: 45\n",
      "Enter city Hyderabad\n"
     ]
    },
    {
     "name": "stdout",
     "output_type": "stream",
     "text": [
      "Myname is Arun , my age is 45 and my city is Hyderabad\n"
     ]
    }
   ],
   "source": [
    "name=input(\"Entare name:\")\n",
    "age=eval(input(\"Enter age:\"))\n",
    "city=input(\"Enter city\")\n",
    "print(f\"Myname is {name} , my age is {age} and my city is {city}\")"
   ]
  },
  {
   "cell_type": "code",
   "execution_count": 64,
   "id": "55b97a82-f114-4034-b4b5-184939c1170b",
   "metadata": {},
   "outputs": [
    {
     "name": "stdin",
     "output_type": "stream",
     "text": [
      "Enter Radius of circle: 10\n",
      "Enter pi value: 3.14\n"
     ]
    },
    {
     "name": "stdout",
     "output_type": "stream",
     "text": [
      "Area of circle :314.0\n"
     ]
    }
   ],
   "source": [
    "r=eval(input(\"Enter Radius of circle:\"))\n",
    "pi=eval(input(\"Enter pi value:\"))\n",
    "area=pi*r*r\n",
    "print(f\"Area of circle :{area}\")"
   ]
  },
  {
   "cell_type": "code",
   "execution_count": 78,
   "id": "a337b407-4499-4a09-855f-bed4ad07e905",
   "metadata": {},
   "outputs": [
    {
     "name": "stdin",
     "output_type": "stream",
     "text": [
      "Enter breadth of triangle: 10\n",
      "Enter Hight of triangle : 20\n"
     ]
    },
    {
     "name": "stdout",
     "output_type": "stream",
     "text": [
      "Area of triangle:100.0\n"
     ]
    }
   ],
   "source": [
    "b=eval(input(\"Enter breadth of triangle:\"))\n",
    "h=eval(input(\"Enter Hight of triangle :\"))\n",
    "area=0.5*b*h\n",
    "print (f\"Area of triangle:{area}\")"
   ]
  },
  {
   "cell_type": "code",
   "execution_count": 80,
   "id": "19ff66d1-3590-4efd-a0b3-43ebc0165470",
   "metadata": {},
   "outputs": [
    {
     "name": "stdin",
     "output_type": "stream",
     "text": [
      "Enter bill amount: 2000\n",
      "Enter tip amount: 100\n"
     ]
    },
    {
     "name": "stdout",
     "output_type": "stream",
     "text": [
      "Total bill : 2100\n"
     ]
    }
   ],
   "source": [
    "bill=eval(input(\"Enter bill amount:\"))\n",
    "tip=eval(input(\"Enter tip amount:\"))\n",
    "tbill=bill+tip\n",
    "print(f\"Total bill : {tbill}\")"
   ]
  },
  {
   "cell_type": "code",
   "execution_count": 84,
   "id": "42c706ec-28de-44a4-8fb6-802ccade61e4",
   "metadata": {},
   "outputs": [
    {
     "name": "stdin",
     "output_type": "stream",
     "text": [
      "Enter bill amount: 2000\n",
      "Enter tip percentage: 10\n"
     ]
    },
    {
     "name": "stdout",
     "output_type": "stream",
     "text": [
      "Total bill : 2200.0\n"
     ]
    }
   ],
   "source": [
    "bill=eval(input(\"Enter bill amount:\"))\n",
    "tipperc=eval(input(\"Enter tip percentage:\"))\n",
    "tbill=bill+(bill*tipperc/100)\n",
    "print(f\"Total bill : {tbill}\")"
   ]
  },
  {
   "cell_type": "code",
   "execution_count": 3,
   "id": "578f2ad6-3be3-4569-83f1-7c745fac803c",
   "metadata": {},
   "outputs": [
    {
     "name": "stdin",
     "output_type": "stream",
     "text": [
      "Enter Radius of Sphere: 10\n"
     ]
    },
    {
     "name": "stdout",
     "output_type": "stream",
     "text": [
      "Volume of sphere :4186.67\n"
     ]
    }
   ],
   "source": [
    "r=eval(input(\"Enter Radius of Sphere:\"))\n",
    "vol=round(4*3.14*r*r*r/3,2)\n",
    "print(f\"Volume of sphere :{vol}\")"
   ]
  },
  {
   "cell_type": "code",
   "execution_count": 11,
   "id": "a8d120d9-3710-4316-a7fa-65a354fa1536",
   "metadata": {},
   "outputs": [
    {
     "name": "stdin",
     "output_type": "stream",
     "text": [
      "Please enter doller you want to convert into Rupee: 100\n"
     ]
    },
    {
     "name": "stdout",
     "output_type": "stream",
     "text": [
      "100 Doller is equal to 8500 Repees\n"
     ]
    }
   ],
   "source": [
    "Dol=eval(input(\"Please enter doller you want to convert into Rupee:\"))\n",
    "Rup=Dol*85\n",
    "print(f\"{Dol} Doller is equal to {Rup} Repees\")"
   ]
  },
  {
   "cell_type": "code",
   "execution_count": 13,
   "id": "ce7aedd9-fab4-4cce-b807-05c6e9dda7fe",
   "metadata": {},
   "outputs": [
    {
     "name": "stdin",
     "output_type": "stream",
     "text": [
      "Please enter Kg you want to convert into Pound: 20\n"
     ]
    },
    {
     "name": "stdout",
     "output_type": "stream",
     "text": [
      "20 KG is equal to 44.0 Pound\n"
     ]
    }
   ],
   "source": [
    "kg=eval(input(\"Please enter Kg you want to convert into Pound:\"))\n",
    "p=kg*2.2\n",
    "print(f\"{kg} KG is equal to {p} Pound\")"
   ]
  },
  {
   "cell_type": "code",
   "execution_count": null,
   "id": "6762f206-9982-4ed5-812b-1e9d7cb7b4c9",
   "metadata": {},
   "outputs": [],
   "source": []
  }
 ],
 "metadata": {
  "kernelspec": {
   "display_name": "Python [conda env:base] *",
   "language": "python",
   "name": "conda-base-py"
  },
  "language_info": {
   "codemirror_mode": {
    "name": "ipython",
    "version": 3
   },
   "file_extension": ".py",
   "mimetype": "text/x-python",
   "name": "python",
   "nbconvert_exporter": "python",
   "pygments_lexer": "ipython3",
   "version": "3.12.7"
  }
 },
 "nbformat": 4,
 "nbformat_minor": 5
}
