{
 "cells": [
  {
   "cell_type": "markdown",
   "id": "030fab96-941c-4924-9663-ada0c9c25342",
   "metadata": {},
   "source": [
    "# List comrehension"
   ]
  },
  {
   "cell_type": "markdown",
   "id": "d5a558cf-9b55-45d4-a1b0-7b093a548e9e",
   "metadata": {},
   "source": [
    "- list comprenhension is way to write list operation in a signle line\n",
    "- when we apply for loop and if-else conditional statements , then the code compilation becomes slow, \n",
    "- which means they take much time\n",
    "- in order to avoide time complexicity we use list comprehensions\n",
    "- list comprehension is a single line code\n",
    "- "
   ]
  },
  {
   "cell_type": "markdown",
   "id": "c17d3089-4d0f-4893-b84c-9af4531555fd",
   "metadata": {},
   "source": [
    "**case-1: **"
   ]
  },
  {
   "cell_type": "code",
   "execution_count": 3,
   "id": "25f0d99d-ed17-45f3-ad78-e483b1c64148",
   "metadata": {},
   "outputs": [
    {
     "name": "stdout",
     "output_type": "stream",
     "text": [
      "[0, 1, 2, 3, 4, 5, 6, 7, 8, 9]\n"
     ]
    }
   ],
   "source": [
    "l1=[]\n",
    "for i in range(10):\n",
    "    l1.append(i)\n",
    "print(l1)"
   ]
  },
  {
   "cell_type": "code",
   "execution_count": 10,
   "id": "59c5304c-f85d-4f5e-a4d0-bbba3a1b3c26",
   "metadata": {},
   "outputs": [
    {
     "name": "stdout",
     "output_type": "stream",
     "text": [
      "[0, 1, 2, 3, 4, 5, 6, 7, 8, 9]\n"
     ]
    }
   ],
   "source": [
    "#l1=[<out put variable> <for loop>] dont use : after for loop\n",
    "ll1=[i for i in range(10)]\n",
    "print(l1)"
   ]
  },
  {
   "cell_type": "code",
   "execution_count": 16,
   "id": "f849fe0c-acfd-4d3c-a32d-c986bed764ec",
   "metadata": {},
   "outputs": [
    {
     "name": "stdout",
     "output_type": "stream",
     "text": [
      "['Hyd', 'Ban']\n"
     ]
    }
   ],
   "source": [
    "l1=['hyd','ban']\n",
    "l2=[i.title() for i in l1]\n",
    "print(l2)"
   ]
  },
  {
   "cell_type": "code",
   "execution_count": 18,
   "id": "7a789033-d906-4a10-8953-e86249262818",
   "metadata": {},
   "outputs": [
    {
     "name": "stdout",
     "output_type": "stream",
     "text": [
      "['HYD', 'BAN']\n"
     ]
    }
   ],
   "source": [
    "l1=['hyd','ban']\n",
    "l2=[i.upper() for i in l1]\n",
    "print(l2)"
   ]
  },
  {
   "cell_type": "code",
   "execution_count": 32,
   "id": "0845c7a1-2489-4f31-adcb-02e83bc95ffb",
   "metadata": {},
   "outputs": [
    {
     "name": "stdout",
     "output_type": "stream",
     "text": [
      "[1, 2, 3, 4, 5, 6, 7, 8, 9, 10]\n"
     ]
    }
   ],
   "source": [
    "l1=[i+1 for i in range(10)]\n",
    "print(l1)\n"
   ]
  },
  {
   "cell_type": "code",
   "execution_count": 42,
   "id": "fdb53555-f32f-4a51-9110-85d38afca75d",
   "metadata": {},
   "outputs": [
    {
     "name": "stdout",
     "output_type": "stream",
     "text": [
      "10\n"
     ]
    }
   ],
   "source": [
    "i=0\n",
    "for i in range(10):\n",
    "    i=i+1\n",
    "print(i)"
   ]
  },
  {
   "cell_type": "code",
   "execution_count": 40,
   "id": "fc3a0703-725a-434c-98d2-763b00f09989",
   "metadata": {},
   "outputs": [
    {
     "name": "stdout",
     "output_type": "stream",
     "text": [
      "[0, 10, 20, 30]\n"
     ]
    }
   ],
   "source": [
    "l2=['Hyd','Bang','Pun','Chn']\n",
    "l1=[i*10 for i in range(len(l2))]\n",
    "print(l1)"
   ]
  },
  {
   "cell_type": "code",
   "execution_count": 54,
   "id": "f9b66987-86dc-449d-b95a-c3444174a93c",
   "metadata": {},
   "outputs": [
    {
     "name": "stdout",
     "output_type": "stream",
     "text": [
      "55\n"
     ]
    }
   ],
   "source": [
    "##walrus operator\n",
    "summ=0\n",
    "l1=[summ:=summ+i for i in range(11)][-1]\n",
    "print(l1)"
   ]
  },
  {
   "cell_type": "markdown",
   "id": "4631087d-c2f7-470d-939f-5247852a1fb6",
   "metadata": {},
   "source": [
    "**case-2: for loop and if condition**"
   ]
  },
  {
   "cell_type": "code",
   "execution_count": 59,
   "id": "6d18fbaa-99c5-4321-95d4-6ce54a6f4815",
   "metadata": {},
   "outputs": [
    {
     "name": "stdout",
     "output_type": "stream",
     "text": [
      "[0, 2, 4, 6, 8]\n"
     ]
    }
   ],
   "source": [
    "le=[i for i in range(10) if i%2 == 0]\n",
    "print(le)"
   ]
  },
  {
   "cell_type": "code",
   "execution_count": 61,
   "id": "efe85787-06bc-42d9-9d5b-193ea3b50828",
   "metadata": {},
   "outputs": [
    {
     "name": "stdout",
     "output_type": "stream",
     "text": [
      "['Ba#ng', 'C#hn']\n"
     ]
    }
   ],
   "source": [
    "l1=['Hyd','Ba#ng','Pun','C#hn']\n",
    "l2=[i for i in l1 if '#' in i]\n",
    "print(l2)"
   ]
  },
  {
   "cell_type": "code",
   "execution_count": 63,
   "id": "7031680a-e9c8-48fb-8786-9a87395cbb70",
   "metadata": {},
   "outputs": [
    {
     "name": "stdout",
     "output_type": "stream",
     "text": [
      "['Hyd', 'Pun']\n"
     ]
    }
   ],
   "source": [
    "l1=['Hyd','Ba#ng','Pun','C#hn']\n",
    "l2=[i for i in l1 if '#' not in i]\n",
    "print(l2)"
   ]
  },
  {
   "cell_type": "code",
   "execution_count": null,
   "id": "6a6dcb10-ab75-49ae-9f19-4dace41d399c",
   "metadata": {},
   "outputs": [],
   "source": [
    "[<ifop> <if cond> <else> <elseop><for>],"
   ]
  },
  {
   "cell_type": "code",
   "execution_count": 67,
   "id": "6717d341-5be1-4ae0-ad13-15754d0d55b0",
   "metadata": {},
   "outputs": [
    {
     "name": "stdout",
     "output_type": "stream",
     "text": [
      "['even -0', 'odd -1', 'even -2', 'odd -3', 'even -4', 'odd -5', 'even -6', 'odd -7', 'even -8', 'odd -9']\n"
     ]
    }
   ],
   "source": [
    "l1=[f\"even -{i}\" if i%2 == 0 else f\"odd -{i}\" for i in range(10)]\n",
    "print(l1)"
   ]
  },
  {
   "cell_type": "markdown",
   "id": "e12bb8b4-e611-4371-9473-2680ca614b5e",
   "metadata": {},
   "source": [
    "**case-4: for loop and if-elif-else condition**"
   ]
  },
  {
   "cell_type": "code",
   "execution_count": null,
   "id": "6ea28af3-f04b-4a8d-afed-02d1a9b55c65",
   "metadata": {},
   "outputs": [],
   "source": [
    "#[<ifop> <ifcond> <else> <elifop> <elif cod> <else> <else> < for>]"
   ]
  },
  {
   "cell_type": "code",
   "execution_count": 76,
   "id": "d9a51400-c4c5-4d9b-9dca-07d46dabf938",
   "metadata": {},
   "outputs": [
    {
     "name": "stdout",
     "output_type": "stream",
     "text": [
      "['65 - Grade C', '75 - Grade B', '90 - Grade A', '100 - Grade A', '30 - Grade D', '20 - Grade D', '40 - Grade D', '70 - Grade C', '80 - Grade B', '90 - Grade A']\n"
     ]
    }
   ],
   "source": [
    "l2=[65,75,90,100,30,20,40,70,80,90]\n",
    "l1=[f\"{i} - Grade A\" if i >= 85 else f\"{i} - Grade B\" if i >= 75 else f\"{i} - Grade C\"  if i >= 65 else f\"{i} - Grade D\" for i in l2]\n",
    "print(l1)"
   ]
  },
  {
   "cell_type": "code",
   "execution_count": 1,
   "id": "b83cbf45-30c1-4f9d-9119-8c2ed65ae9c7",
   "metadata": {},
   "outputs": [
    {
     "name": "stdout",
     "output_type": "stream",
     "text": [
      "Stutends who passed: [76, 89, 53, 67, 90, 82, 99]\n"
     ]
    }
   ],
   "source": [
    "marks=[45,76,89,53,67,90,82,49,33,99]\n",
    "l45=[i for i in marks if i >= 50]\n",
    "print(\"Stutends who passed:\",l45)"
   ]
  },
  {
   "cell_type": "code",
   "execution_count": 13,
   "id": "06ea414a-2dec-4e93-9d22-59e7e7fc24ec",
   "metadata": {},
   "outputs": [
    {
     "name": "stdout",
     "output_type": "stream",
     "text": [
      "Stutends Grades: ['45-Grade F', '76-Grade B', '89-Grade A', '53-Grade c', '67-Grade c', '90-Grade A', '82-Grade B', '49-Grade F', '33-Grade F', '99-Grade A']\n"
     ]
    }
   ],
   "source": [
    "marks=[45,76,89,53,67,90,82,49,33,99]\n",
    "lgrade=[f\"{i}-Grade A\" if i > 85 else f\"{i}-Grade B\" if i >= 70 else f\"{i}-Grade c\" if i >= 50 else f\"{i}-Grade F\" for i in marks]\n",
    "print(\"Stutends Grades:\",lgrade)"
   ]
  },
  {
   "cell_type": "code",
   "execution_count": 35,
   "id": "bb3569ec-41b8-4d6d-8a0e-bb880b09d5d6",
   "metadata": {},
   "outputs": [
    {
     "name": "stdout",
     "output_type": "stream",
     "text": [
      "Grace marks: [50, 54, 38]\n"
     ]
    },
    {
     "data": {
      "text/plain": [
       "[45, 76, 89, 53, 67, 90, 82, 49, 33, 99, 100]"
      ]
     },
     "execution_count": 35,
     "metadata": {},
     "output_type": "execute_result"
    }
   ],
   "source": [
    "marks=[45,76,89,53,67,90,82,49,33,99]\n",
    "lgrace=[grace := i+5 for i in marks if i < 50]\n",
    "print(\"Grace marks:\",lgrace)"
   ]
  },
  {
   "cell_type": "code",
   "execution_count": 41,
   "id": "831c488b-fd09-4948-8ec8-0a67baac8a4d",
   "metadata": {},
   "outputs": [
    {
     "name": "stdout",
     "output_type": "stream",
     "text": [
      "99\n",
      "90\n",
      "89\n"
     ]
    }
   ],
   "source": [
    "marks=[45,76,89,53,67,90,82,49,33,99]\n",
    "markstemp=marks\n",
    "for i in range(3):\n",
    "    maxm=max(markstemp)\n",
    "    print(maxm)\n",
    "    markstemp.remove(maxm)"
   ]
  },
  {
   "cell_type": "code",
   "execution_count": 43,
   "id": "977e86f6-8da3-40a3-82c7-9f369f00c28b",
   "metadata": {},
   "outputs": [
    {
     "ename": "NameError",
     "evalue": "name 'avg' is not defined",
     "output_type": "error",
     "traceback": [
      "\u001b[1;31m---------------------------------------------------------------------------\u001b[0m",
      "\u001b[1;31mNameError\u001b[0m                                 Traceback (most recent call last)",
      "Cell \u001b[1;32mIn[43], line 2\u001b[0m\n\u001b[0;32m      1\u001b[0m marks\u001b[38;5;241m=\u001b[39m[\u001b[38;5;241m45\u001b[39m,\u001b[38;5;241m76\u001b[39m,\u001b[38;5;241m89\u001b[39m,\u001b[38;5;241m53\u001b[39m,\u001b[38;5;241m67\u001b[39m,\u001b[38;5;241m90\u001b[39m,\u001b[38;5;241m82\u001b[39m,\u001b[38;5;241m49\u001b[39m,\u001b[38;5;241m33\u001b[39m,\u001b[38;5;241m99\u001b[39m]\n\u001b[1;32m----> 2\u001b[0m avg(marks)\n",
      "\u001b[1;31mNameError\u001b[0m: name 'avg' is not defined"
     ]
    }
   ],
   "source": [
    "marks=[45,76,89,53,67,90,82,49,33,99]\n",
    "[summ := summ+i for i in marks]"
   ]
  },
  {
   "cell_type": "code",
   "execution_count": 83,
   "id": "569742f9-c354-4b2e-be5e-fbdb1fc86e2a",
   "metadata": {},
   "outputs": [
    {
     "name": "stdout",
     "output_type": "stream",
     "text": [
      "Max distance from[10, 20] and [7, 9] is 11.40175425099138\n"
     ]
    }
   ],
   "source": [
    "#Distance between l2 element to each element of l1 and what is max distance\n",
    "import math\n",
    "l1 = [[1,2],[4,5],[7,9]]\n",
    "l2= [10,20]\n",
    "max=0\n",
    "elem=0\n",
    "for i in range(len(l1)):\n",
    "    dist=math.sqrt((l1[i][0]-l2[0])**2 + (l1[i][1]-l2[1])**2)\n",
    "    if max<dist:\n",
    "        max=dist\n",
    "        elem=i\n",
    "print(f\"Max distance from{l2} and {l1[i]} is {dist}\")"
   ]
  },
  {
   "cell_type": "code",
   "execution_count": 67,
   "id": "2c0b14ba-eda8-48d2-b924-2485d3132f00",
   "metadata": {},
   "outputs": [
    {
     "data": {
      "text/plain": [
       "2"
      ]
     },
     "execution_count": 67,
     "metadata": {},
     "output_type": "execute_result"
    }
   ],
   "source": [
    "l1 = [[1,2],[3,4],[5,6]]\n",
    "l2= [10,20]\n",
    "l1[0][1]"
   ]
  },
  {
   "cell_type": "code",
   "execution_count": null,
   "id": "18d7fb18-4423-4c0b-bb0c-3bb7b008ff3b",
   "metadata": {},
   "outputs": [],
   "source": []
  }
 ],
 "metadata": {
  "kernelspec": {
   "display_name": "Python [conda env:base] *",
   "language": "python",
   "name": "conda-base-py"
  },
  "language_info": {
   "codemirror_mode": {
    "name": "ipython",
    "version": 3
   },
   "file_extension": ".py",
   "mimetype": "text/x-python",
   "name": "python",
   "nbconvert_exporter": "python",
   "pygments_lexer": "ipython3",
   "version": "3.12.7"
  }
 },
 "nbformat": 4,
 "nbformat_minor": 5
}
