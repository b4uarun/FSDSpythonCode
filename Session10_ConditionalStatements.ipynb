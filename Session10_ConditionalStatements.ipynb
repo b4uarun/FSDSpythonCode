{
 "cells": [
  {
   "cell_type": "markdown",
   "id": "1f318576-353a-4335-b9f3-a3534e51bbbb",
   "metadata": {},
   "source": [
    "- if\n",
    "- if-else\n",
    "- if-elif-else"
   ]
  },
  {
   "cell_type": "code",
   "execution_count": 5,
   "id": "8cfafff1-cc4f-4247-8e72-cbfb677d1fb5",
   "metadata": {},
   "outputs": [
    {
     "name": "stdout",
     "output_type": "stream",
     "text": [
      "False\n",
      "True\n",
      "False\n",
      "True\n",
      "False\n",
      "True\n"
     ]
    }
   ],
   "source": [
    "num=10\n",
    "print(num==11)\n",
    "print(num==10)\n",
    "print(num>11)\n",
    "print(num<11)\n",
    "print(num>=11)\n",
    "print(num<=11)"
   ]
  },
  {
   "cell_type": "code",
   "execution_count": 7,
   "id": "4711e98a-3b1c-4f98-b4a9-4f0360b882b7",
   "metadata": {},
   "outputs": [
    {
     "name": "stdout",
     "output_type": "stream",
     "text": [
      "This is indentation start point\n"
     ]
    }
   ],
   "source": [
    "if 100>10:\n",
    "    print(\"This is indentation start point\")"
   ]
  },
  {
   "cell_type": "code",
   "execution_count": 9,
   "id": "d051d03b-9d2c-4bbc-ab18-7f6fe4823ef0",
   "metadata": {},
   "outputs": [
    {
     "ename": "IndentationError",
     "evalue": "expected an indented block after 'if' statement on line 1 (2562092562.py, line 2)",
     "output_type": "error",
     "traceback": [
      "\u001b[1;36m  Cell \u001b[1;32mIn[9], line 2\u001b[1;36m\u001b[0m\n\u001b[1;33m    print(\"This is not indentation start point, will get error\")\u001b[0m\n\u001b[1;37m    ^\u001b[0m\n\u001b[1;31mIndentationError\u001b[0m\u001b[1;31m:\u001b[0m expected an indented block after 'if' statement on line 1\n"
     ]
    }
   ],
   "source": [
    "if 100>10:\n",
    "print(\"This is not indentation start point, will get error\")"
   ]
  },
  {
   "cell_type": "markdown",
   "id": "681cfd6a-8bcc-40cc-aa7a-59278d27a560",
   "metadata": {},
   "source": [
    "- When ever line starts with key word then there will be \":\" at end\n",
    "- When ever \":\" PRESENT AT END then Indentation will be there "
   ]
  },
  {
   "cell_type": "code",
   "execution_count": 18,
   "id": "18d596bd-222c-4c6e-8486-09823b9d58f9",
   "metadata": {},
   "outputs": [
    {
     "name": "stdout",
     "output_type": "stream",
     "text": [
      "This is not indentation start point, will get error\n"
     ]
    }
   ],
   "source": [
    "if 100>10:\n",
    " print(\"This is not indentation start point, will get error\")"
   ]
  },
  {
   "cell_type": "code",
   "execution_count": 22,
   "id": "88b24e49-40ec-4014-8c72-3e18ed5882c2",
   "metadata": {},
   "outputs": [],
   "source": [
    "if 100<10:\n",
    "    print(\"No error\")"
   ]
  },
  {
   "cell_type": "code",
   "execution_count": 24,
   "id": "72a38700-75fc-413e-bca3-24207c68c022",
   "metadata": {},
   "outputs": [
    {
     "name": "stdout",
     "output_type": "stream",
     "text": [
      "No error\n"
     ]
    }
   ],
   "source": [
    "if True:\n",
    "    print(\"No error\")"
   ]
  },
  {
   "cell_type": "code",
   "execution_count": 26,
   "id": "76656029-3e4c-427c-8fbb-b67b2d7f98d5",
   "metadata": {},
   "outputs": [],
   "source": [
    "if False:\n",
    "    print(\"No error\")"
   ]
  },
  {
   "cell_type": "code",
   "execution_count": 28,
   "id": "7c48de52-d6b9-4ab8-9c96-d11f01decacd",
   "metadata": {},
   "outputs": [
    {
     "name": "stdout",
     "output_type": "stream",
     "text": [
      "No error\n"
     ]
    }
   ],
   "source": [
    "if bool(100):\n",
    "    print(\"No error\")"
   ]
  },
  {
   "cell_type": "markdown",
   "id": "114c965e-27d2-46a1-bef2-ab8e0579aa31",
   "metadata": {},
   "source": [
    "**Case 2: if-else**"
   ]
  },
  {
   "cell_type": "code",
   "execution_count": 2,
   "id": "5b4b2ae9-f1cb-4817-9f92-2dc9e81d787b",
   "metadata": {},
   "outputs": [
    {
     "name": "stdout",
     "output_type": "stream",
     "text": [
      "Hello my friend\n"
     ]
    }
   ],
   "source": [
    "friend='YES'\n",
    "if friend=='YES':\n",
    "    print(\"Hello my friend\")"
   ]
  },
  {
   "cell_type": "code",
   "execution_count": 4,
   "id": "c0bed696-b21e-42ba-924e-243e33627069",
   "metadata": {},
   "outputs": [
    {
     "name": "stdout",
     "output_type": "stream",
     "text": [
      "positive\n"
     ]
    }
   ],
   "source": [
    "if 100>0:\n",
    "    print(\"positive\")\n",
    "else:\n",
    "    print(\"Negetive\")"
   ]
  },
  {
   "cell_type": "code",
   "execution_count": 12,
   "id": "8fb48424-cf12-4496-8667-0356f5942daf",
   "metadata": {},
   "outputs": [
    {
     "name": "stdin",
     "output_type": "stream",
     "text": [
      "Please enter any number: 300\n"
     ]
    },
    {
     "name": "stdout",
     "output_type": "stream",
     "text": [
      "300 is Positive number\n"
     ]
    }
   ],
   "source": [
    "n=eval(input(\"Please enter any number:\"))\n",
    "if n>0:\n",
    "    print(f\"{n} is Positive number\")\n",
    "else:\n",
    "    print(f\"{n} is Negetive number\")"
   ]
  },
  {
   "cell_type": "code",
   "execution_count": 16,
   "id": "5524caa4-8b16-4aa0-99e9-419efb79abe9",
   "metadata": {},
   "outputs": [
    {
     "name": "stdout",
     "output_type": "stream",
     "text": [
      "-66 is Negetive number\n"
     ]
    }
   ],
   "source": [
    "import random\n",
    "n=random.randint(-100,100)\n",
    "if n>0:\n",
    "    print(f\"{n} is Positive number\")\n",
    "else:\n",
    "    print(f\"{n} is Negetive number\")"
   ]
  },
  {
   "cell_type": "code",
   "execution_count": 18,
   "id": "ce03b6c6-87cd-4e38-bcc4-69d7fd75c211",
   "metadata": {},
   "outputs": [
    {
     "ename": "SyntaxError",
     "evalue": "invalid syntax (3007080202.py, line 5)",
     "output_type": "error",
     "traceback": [
      "\u001b[1;36m  Cell \u001b[1;32mIn[18], line 5\u001b[1;36m\u001b[0m\n\u001b[1;33m    else:\u001b[0m\n\u001b[1;37m    ^\u001b[0m\n\u001b[1;31mSyntaxError\u001b[0m\u001b[1;31m:\u001b[0m invalid syntax\n"
     ]
    }
   ],
   "source": [
    "n=random.randint(-100,100)\n",
    "if n>0:\n",
    "    print(f\"{n} is Positive number\")\n",
    "print(\"ERROR WILL COME DUE TO THIS PRINT STATEMENT\")\n",
    "else:\n",
    "    print(f\"{n} is Negetive number\")"
   ]
  },
  {
   "cell_type": "code",
   "execution_count": 20,
   "id": "68aea961-0cde-4fe2-97b7-a9a9a8247b1a",
   "metadata": {},
   "outputs": [
    {
     "ename": "IndentationError",
     "evalue": "unexpected indent (1078457588.py, line 4)",
     "output_type": "error",
     "traceback": [
      "\u001b[1;36m  Cell \u001b[1;32mIn[20], line 4\u001b[1;36m\u001b[0m\n\u001b[1;33m    print(\"ERROR WILL COME DUE TO THIS PRINT STATEMENT\")\u001b[0m\n\u001b[1;37m    ^\u001b[0m\n\u001b[1;31mIndentationError\u001b[0m\u001b[1;31m:\u001b[0m unexpected indent\n"
     ]
    }
   ],
   "source": [
    "n=random.randint(-100,100)\n",
    "if n>0:\n",
    "    print(f\"{n} is Positive number\")\n",
    "        print(\"ERROR WILL COME DUE TO THIS PRINT STATEMENT\")\n",
    "else:\n",
    "    print(f\"{n} is Negetive number\")\n",
    "    "
   ]
  },
  {
   "cell_type": "code",
   "execution_count": 24,
   "id": "57ac1152-cdf0-40a3-82fa-fe76c7c0b27f",
   "metadata": {},
   "outputs": [
    {
     "name": "stdout",
     "output_type": "stream",
     "text": [
      "32 is Positive number\n"
     ]
    }
   ],
   "source": [
    "n=random.randint(-100,100)\n",
    "if n>0:\n",
    "            print(f\"{n} is Positive number\")\n",
    "else:\n",
    "    print(f\"{n} is Negetive number\")"
   ]
  },
  {
   "cell_type": "code",
   "execution_count": 26,
   "id": "5ed8ce93-7788-4451-86c3-6c48683ace10",
   "metadata": {},
   "outputs": [
    {
     "name": "stdin",
     "output_type": "stream",
     "text": [
      "Please enter any number: 100\n",
      "Please enter any number: 300\n"
     ]
    },
    {
     "name": "stdout",
     "output_type": "stream",
     "text": [
      "100 is lessthan 300\n"
     ]
    }
   ],
   "source": [
    "n1=eval(input(\"Please enter any number:\"))\n",
    "n2=eval(input(\"Please enter any number:\"))\n",
    "if n1>n2:\n",
    "    print(f\"{n1} is greater than {n2}\")\n",
    "else:\n",
    "    print(f\"{n1} is lessthan {n2}\")"
   ]
  },
  {
   "cell_type": "code",
   "execution_count": 28,
   "id": "c91b9251-77d1-483c-a212-ec36ba7d0e92",
   "metadata": {},
   "outputs": [
    {
     "name": "stdout",
     "output_type": "stream",
     "text": [
      "-20 is greater than -82\n"
     ]
    }
   ],
   "source": [
    "n1=random.randint(-100,100)\n",
    "n2=random.randint(-100,100)\n",
    "if n1>n2:\n",
    "    print(f\"{n1} is greater than {n2}\")\n",
    "else:\n",
    "    print(f\"{n1} is lessthan {n2}\")"
   ]
  },
  {
   "cell_type": "code",
   "execution_count": 36,
   "id": "9439139d-fec5-44f8-bf5a-6efd2a159f9f",
   "metadata": {},
   "outputs": [
    {
     "name": "stdin",
     "output_type": "stream",
     "text": [
      "Enter distance: 26\n",
      "Charge per KM: 2\n"
     ]
    },
    {
     "name": "stdout",
     "output_type": "stream",
     "text": [
      "Total charge: 52\n"
     ]
    }
   ],
   "source": [
    "n1=eval(input(\"Enter distance:\"))\n",
    "if n1>25:\n",
    "    n2=eval(input(\"Charge per KM:\"))\n",
    "    t=n1*n2\n",
    "    print(f\"Total charge: {t}\")\n",
    "else:\n",
    "    print(\"Free ride\")"
   ]
  },
  {
   "cell_type": "code",
   "execution_count": 42,
   "id": "2450b2f8-54f3-448e-87fb-2f791d22115b",
   "metadata": {},
   "outputs": [
    {
     "name": "stdin",
     "output_type": "stream",
     "text": [
      "Enter distance: 50\n",
      "Enter free distance: 25\n",
      "Charge per KM: 10\n"
     ]
    },
    {
     "name": "stdout",
     "output_type": "stream",
     "text": [
      "Total charge: 250\n"
     ]
    }
   ],
   "source": [
    "n1=eval(input(\"Enter distance:\"))\n",
    "n3=eval(input(\"Enter free distance:\"))\n",
    "if n1>25:\n",
    "    n2=eval(input(\"Charge per KM:\"))\n",
    "    n4=n1-n3\n",
    "    t=n4*n2\n",
    "    print(f\"Total charge: {t}\")\n",
    "else:\n",
    "    print(\"Free ride\")"
   ]
  },
  {
   "cell_type": "code",
   "execution_count": 46,
   "id": "a6581769-57cf-4fbb-95ca-7eacb0e48f48",
   "metadata": {},
   "outputs": [
    {
     "name": "stdin",
     "output_type": "stream",
     "text": [
      "Enter number from keyboard: 5\n"
     ]
    },
    {
     "name": "stdout",
     "output_type": "stream",
     "text": [
      "WON\n"
     ]
    }
   ],
   "source": [
    "n1=eval(input(\"Enter number from keyboard:\"))\n",
    "n2=random.randint(1,10)\n",
    "if n1==n2:\n",
    "    print(\"WON\")\n",
    "else:\n",
    "    print(\"lOSS\")"
   ]
  },
  {
   "cell_type": "code",
   "execution_count": 50,
   "id": "04f31e93-2bf5-4423-a4cc-746d0e29a78c",
   "metadata": {},
   "outputs": [
    {
     "name": "stdin",
     "output_type": "stream",
     "text": [
      "Enter course name: ds\n",
      "Enter Institute name: Durga Soft\n"
     ]
    },
    {
     "name": "stdout",
     "output_type": "stream",
     "text": [
      "Not Safe\n"
     ]
    }
   ],
   "source": [
    "cn=\"ds\"\n",
    "inn='nit'\n",
    "c=input(\"Enter course name:\")\n",
    "i=input(\"Enter Institute name:\")\n",
    "if (c==cn) & (i==inn):\n",
    "    print(\"Safe\")\n",
    "else:\n",
    "    print(\"Not Safe\")"
   ]
  },
  {
   "cell_type": "code",
   "execution_count": 56,
   "id": "3d15dbcb-6a17-44e0-881d-94d59ee82ce4",
   "metadata": {},
   "outputs": [
    {
     "name": "stdin",
     "output_type": "stream",
     "text": [
      "Enter number: 20\n"
     ]
    },
    {
     "name": "stdout",
     "output_type": "stream",
     "text": [
      "20 is even numder\n"
     ]
    }
   ],
   "source": [
    "n1=eval(input(\"Enter number:\"))\n",
    "n2=n1%2\n",
    "if n2==0:\n",
    "    print(f\"{n1} is even numder\")\n",
    "else:\n",
    "    print(f\"{n1} is odd numder\")"
   ]
  },
  {
   "cell_type": "markdown",
   "id": "b38e1cec-43ea-4657-b274-882a26be6be4",
   "metadata": {},
   "source": [
    "**Case 3: if-elif-else**"
   ]
  },
  {
   "cell_type": "markdown",
   "id": "a9dab0a0-fc4b-4cb6-a559-06a818696539",
   "metadata": {},
   "source": [
    "- when ever we have multiple conditions we use if-elis-else\n",
    "- If single condition then we use if-else, if twocontions are exist the we use if-elif-else, if 3 contions then we use if-elif-elif-else...\n",
    "- two ansfers, 2 answers, 3 answers \n",
    "- if and elif need conditions and else not required any condition"
   ]
  },
  {
   "cell_type": "code",
   "execution_count": 8,
   "id": "6a0b9f80-82b6-4767-a435-fd64ea5551af",
   "metadata": {},
   "outputs": [
    {
     "name": "stdin",
     "output_type": "stream",
     "text": [
      "Enter number: 5\n"
     ]
    },
    {
     "name": "stdout",
     "output_type": "stream",
     "text": [
      "Entered other number\n"
     ]
    }
   ],
   "source": [
    "num=eval(input(\"Enter number:\"))\n",
    "if (num==1):\n",
    "         print(\"Number is 1\")\n",
    "elif (num==2):\n",
    "         print(\"Number is 2\")\n",
    "else:\n",
    "    print(\"Entered other number\")"
   ]
  },
  {
   "cell_type": "code",
   "execution_count": 18,
   "id": "696f8c54-a6ee-48cd-8b68-fb410ccaff31",
   "metadata": {},
   "outputs": [
    {
     "name": "stdin",
     "output_type": "stream",
     "text": [
      "Enter percentage of marks: 70\n"
     ]
    },
    {
     "name": "stdout",
     "output_type": "stream",
     "text": [
      "Grade B\n"
     ]
    }
   ],
   "source": [
    "num=eval(input(\"Enter percentage of marks:\"))\n",
    "if (num>=90):\n",
    "         print(\"Grade A\")\n",
    "elif (num>=70 and num<90):\n",
    "         print(\"Grade B\")\n",
    "elif (num>=50 and num<70):\n",
    "         print(\"Grade c\")\n",
    "elif (num>=35 and num<50):\n",
    "         print(\"Grade D\")\n",
    "else:\n",
    "    print(\"Fail\")"
   ]
  },
  {
   "cell_type": "code",
   "execution_count": 24,
   "id": "ad62e263-5e65-4a11-9204-1a137bad8d9e",
   "metadata": {},
   "outputs": [
    {
     "name": "stdin",
     "output_type": "stream",
     "text": [
      "Enter percentage of marks: 70\n"
     ]
    },
    {
     "name": "stdout",
     "output_type": "stream",
     "text": [
      "Grade B\n"
     ]
    }
   ],
   "source": [
    "num=eval(input(\"Enter percentage of marks:\"))\n",
    "if (num>=90):\n",
    "         print(\"Grade A\")\n",
    "elif (num>=70):\n",
    "         print(\"Grade B\")\n",
    "elif (num>=50):\n",
    "         print(\"Grade c\")\n",
    "elif (num>=35):\n",
    "         print(\"Grade D\")\n",
    "else:\n",
    "    print(\"Fail\")"
   ]
  },
  {
   "cell_type": "code",
   "execution_count": 36,
   "id": "06c75458-4441-4b07-9025-b670f2b8db14",
   "metadata": {},
   "outputs": [
    {
     "name": "stdin",
     "output_type": "stream",
     "text": [
      "enter the percentage of marks 34\n"
     ]
    },
    {
     "name": "stdout",
     "output_type": "stream",
     "text": [
      "fail\n"
     ]
    }
   ],
   "source": [
    "num=eval(input(\"enter the percentage of marks\"))\n",
    "if num>=90:\n",
    "    print(\"A grade\")\n",
    "elif num in range(70,90):\n",
    "    print(\"B grade\")\n",
    "elif num in range(50,70):\n",
    "    print(\"C grade\")\n",
    "elif num in range(35,50):\n",
    "    print(\"D grade\")\n",
    "else:\n",
    "    print(\"fail\")"
   ]
  },
  {
   "cell_type": "code",
   "execution_count": 40,
   "id": "216eaa15-07fa-4d7a-8908-9bddfce0dd3a",
   "metadata": {},
   "outputs": [
    {
     "name": "stdin",
     "output_type": "stream",
     "text": [
      "Enter Age: 100\n"
     ]
    },
    {
     "name": "stdout",
     "output_type": "stream",
     "text": [
      "Old aged\n"
     ]
    }
   ],
   "source": [
    "Age=eval(input(\"Enter Age:\"))\n",
    "if (Age>100):\n",
    "         print(\"You are lucky person\")\n",
    "elif (Age>=80):\n",
    "         print(\"Old aged\")\n",
    "elif (Age>=60):\n",
    "         print(\"Seniour Citizen\")\n",
    "elif (Age>=40):\n",
    "         print(\"Middle aged\")\n",
    "elif (Age>=20):\n",
    "         print(\"Young\")\n",
    "elif (Age>=10):\n",
    "         print(\"Teenage\")\n",
    "else:\n",
    "    print(\"Kid\")"
   ]
  },
  {
   "cell_type": "code",
   "execution_count": 52,
   "id": "8410076f-e711-47cb-993e-f6a0fa64d379",
   "metadata": {},
   "outputs": [
    {
     "name": "stdin",
     "output_type": "stream",
     "text": [
      "Enter Gender: female\n",
      "Enter Age of Male: 101\n"
     ]
    },
    {
     "name": "stdout",
     "output_type": "stream",
     "text": [
      "You entered feMale and she is lucky person\n"
     ]
    }
   ],
   "source": [
    "gen=input(\"Enter Gender:\")\n",
    "if (gen=='male'):\n",
    "    Age=eval(input(\"Enter Age of Male:\"))\n",
    "    if (Age>100):   \n",
    "        print(\"You entered Male and he is lucky person\")\n",
    "    elif (Age>=80):\n",
    "        print(\"You entered Male and he is Old aged\")\n",
    "    elif (Age>=60):\n",
    "        print(\"You entered Male and he is Seniour Citizen\")\n",
    "    elif (Age>=40):\n",
    "        print(\"You entered Male and he is Middle aged\")\n",
    "    elif (Age>=20):\n",
    "        print(\"You entered Male and he is Young\")\n",
    "    elif (Age>=10):\n",
    "        print(\"You entered Male and he is Teenage\")\n",
    "    else:\n",
    "        print(\"You entered Male and he is Kid\")\n",
    "elif (gen=='female'):\n",
    "    Age=eval(input(\"Enter Age of Male:\"))\n",
    "    if (Age>100):   \n",
    "        print(\"You entered feMale and she is lucky person\")\n",
    "    elif (Age>=80):\n",
    "        print(\"You entered feMale and she is Old aged\")\n",
    "    elif (Age>=60):\n",
    "        print(\"You entered feMale and she is Seniour Citizen\")\n",
    "    elif (Age>=40):\n",
    "        print(\"You entered feMale and she is Middle aged\")\n",
    "    elif (Age>=20):\n",
    "        print(\"You entered feMale and she is Young\")\n",
    "    elif (Age>=10):\n",
    "        print(\"You entered feMale and she is Teenage\")\n",
    "    else:\n",
    "        print(\"Kid\")\n",
    "else:\n",
    "    print(\"Enter valid gender\")"
   ]
  },
  {
   "cell_type": "code",
   "execution_count": 58,
   "id": "47941dbe-7e8e-4b04-b999-8dab7222b112",
   "metadata": {},
   "outputs": [
    {
     "name": "stdin",
     "output_type": "stream",
     "text": [
      "Enter number: 10\n"
     ]
    },
    {
     "name": "stdout",
     "output_type": "stream",
     "text": [
      "Positive\n"
     ]
    }
   ],
   "source": [
    "num=eval(input(\"Enter number:\"))\n",
    "if (num>=0):\n",
    "    if num>0:\n",
    "         print(\"Positive\")\n",
    "    else:\n",
    "        print(\"Zero\")\n",
    "else:\n",
    "    print(\"Negetive\")"
   ]
  },
  {
   "cell_type": "code",
   "execution_count": 64,
   "id": "1da1818d-0ae3-4c74-b17c-949865945529",
   "metadata": {},
   "outputs": [
    {
     "name": "stdin",
     "output_type": "stream",
     "text": [
      "Enter Operation as per below 1-Add 2-Sub 3=Mul 4-=div: 4\n"
     ]
    },
    {
     "name": "stdout",
     "output_type": "stream",
     "text": [
      "Thsis is div operation:\n"
     ]
    },
    {
     "name": "stdin",
     "output_type": "stream",
     "text": [
      "For div Enter number-1: 32\n",
      "For div Enter number-2: 4\n"
     ]
    },
    {
     "name": "stdout",
     "output_type": "stream",
     "text": [
      "div of numbers:8.0\n"
     ]
    }
   ],
   "source": [
    "num=eval(input(\"Enter Operation as per below 1-Add 2-Sub 3=Mul 4-=div:\"))\n",
    "if num==1:\n",
    "    print(\"Thsis is addition operation:\")\n",
    "    num1=eval(input(\"For Addition Enter number-1:\"))\n",
    "    num2=eval(input(\"For Addition Enter number-2:\"))\n",
    "    t=num1+num2\n",
    "    print(f\"Addition of numbers:{t}\")\n",
    "elif num==2:\n",
    "    print(\"Thsis is Subtraction operation:\")\n",
    "    num1=eval(input(\"For sub Enter number-1:\"))\n",
    "    num2=eval(input(\"For sub Enter number-2:\"))\n",
    "    t=num1-num2\n",
    "    print(f\"Subtraction of numbers:{t}\")\n",
    "elif num==3:\n",
    "    print(\"Thsis is Mul operation:\")\n",
    "    num1=eval(input(\"For mul Enter number-1:\"))\n",
    "    num2=eval(input(\"For mul Enter number-2:\"))\n",
    "    t=num1*num2\n",
    "    print(f\"mul of numbers:{t}\")\n",
    "elif num==4:\n",
    "    print(\"Thsis is div operation:\")\n",
    "    num1=eval(input(\"For div Enter number-1:\"))\n",
    "    num2=eval(input(\"For div Enter number-2:\"))\n",
    "    t=num1/num2\n",
    "    print(f\"div of numbers:{t}\")\n",
    "else:\n",
    "    print(\"You are not entered valid operation number\")"
   ]
  },
  {
   "cell_type": "code",
   "execution_count": 7,
   "id": "208a8439-2ffb-4939-a652-a3fb91339e99",
   "metadata": {},
   "outputs": [
    {
     "name": "stdin",
     "output_type": "stream",
     "text": [
      "Enter number 1: 22\n",
      "Enter number 2: 6645\n",
      "Enter number 3: 553453\n"
     ]
    },
    {
     "name": "stdout",
     "output_type": "stream",
     "text": [
      "553453 is greater number among 22,6645 and 553453 that you entered\n"
     ]
    }
   ],
   "source": [
    "num1=eval(input(\"Enter number 1:\"))\n",
    "num2=eval(input(\"Enter number 2:\"))\n",
    "num3=eval(input(\"Enter number 3:\"))\n",
    "if num1>num2:\n",
    "    if num1>num3:\n",
    "        print(f\"{num1} is greater number among {num1},{num2} and {num3} that you entered\")\n",
    "    else:\n",
    "        print(f\"{num3} is greater number among {num1},{num2} and {num3} that you entered\")\n",
    "elif num2>num3:\n",
    "    print(f\"{num2} is greater number among {num1},{num2} and {num3} that you entered\")\n",
    "else:\n",
    "    print(f\"{num3} is greater number among {num1},{num2} and {num3} that you entered\")"
   ]
  },
  {
   "cell_type": "code",
   "execution_count": null,
   "id": "ea832eae-98bc-4ec1-b5ac-b4dc8bd34b8f",
   "metadata": {},
   "outputs": [],
   "source": []
  }
 ],
 "metadata": {
  "kernelspec": {
   "display_name": "Python [conda env:base] *",
   "language": "python",
   "name": "conda-base-py"
  },
  "language_info": {
   "codemirror_mode": {
    "name": "ipython",
    "version": 3
   },
   "file_extension": ".py",
   "mimetype": "text/x-python",
   "name": "python",
   "nbconvert_exporter": "python",
   "pygments_lexer": "ipython3",
   "version": "3.12.7"
  }
 },
 "nbformat": 4,
 "nbformat_minor": 5
}
