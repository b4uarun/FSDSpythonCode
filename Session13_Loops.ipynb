{
 "cells": [
  {
   "cell_type": "markdown",
   "id": "19c6f183-e3fe-454b-b642-55693a9ab3a3",
   "metadata": {},
   "source": [
    "**loops concept**"
   ]
  },
  {
   "cell_type": "markdown",
   "id": "7e92504a-7686-4d6c-b6a9-0c823c29241b",
   "metadata": {},
   "source": [
    "- Loops are used to iterate the code multiple times\n",
    "- Functions are used to reuse the code block\n",
    "- That functuin code block can repeat calling multiple times\n",
    "- When ever we do the same tast multiple time then think about loop.\n",
    "- There are 2 typeL 1. for loop & 2. while loop\n",
    "- Any loop need 3 things: Inetilization , Increment or Decrement & Condition to stop"
   ]
  },
  {
   "cell_type": "markdown",
   "id": "fce035a2-4c19-4426-933e-5c36e3864cef",
   "metadata": {},
   "source": [
    "**for loop**"
   ]
  },
  {
   "cell_type": "code",
   "execution_count": 4,
   "id": "b7ceff90-9bc9-4c9a-b93d-f4a50dd92d72",
   "metadata": {},
   "outputs": [
    {
     "name": "stdout",
     "output_type": "stream",
     "text": [
      "0\n",
      "1\n",
      "2\n",
      "3\n",
      "4\n"
     ]
    }
   ],
   "source": [
    "# for <variable> in range(<number>):\n",
    "#    <code>\n",
    "for i in range(5):\n",
    "    print(i)"
   ]
  },
  {
   "cell_type": "code",
   "execution_count": 12,
   "id": "b72ca558-c61a-490a-986f-77a49ff81938",
   "metadata": {},
   "outputs": [
    {
     "name": "stdout",
     "output_type": "stream",
     "text": [
      "0 1 2 3 4 "
     ]
    }
   ],
   "source": [
    "# end operator to get output in horizantal \n",
    "for i in range(5):\n",
    "    print(i, end=' ')"
   ]
  },
  {
   "cell_type": "markdown",
   "id": "99a3ecfe-95a8-4149-b866-b3d612897ad0",
   "metadata": {},
   "source": [
    "**Case-1: range(stop)**\n",
    "- Start =0 python index alwas start with 0\n",
    "- increament by 1\n",
    "- Stop with stop-1"
   ]
  },
  {
   "cell_type": "code",
   "execution_count": 15,
   "id": "e27a0062-670a-4845-9744-be27ab8b243b",
   "metadata": {},
   "outputs": [
    {
     "name": "stdout",
     "output_type": "stream",
     "text": [
      "0 1 2 3 4 5 6 7 8 9 "
     ]
    }
   ],
   "source": [
    "for i in range(10):\n",
    "    print(i,end=' ')"
   ]
  },
  {
   "cell_type": "code",
   "execution_count": 17,
   "id": "7dfc4123-236a-4770-b064-323f89717c47",
   "metadata": {},
   "outputs": [
    {
     "name": "stdout",
     "output_type": "stream",
     "text": [
      "Hello\n",
      "Hello\n",
      "Hello\n"
     ]
    }
   ],
   "source": [
    "for i in range(3):\n",
    "    print(\"Hello\")"
   ]
  },
  {
   "cell_type": "markdown",
   "id": "07e6737f-439f-4fb9-882f-c175f3106d39",
   "metadata": {},
   "source": [
    "**case-2: range(start,stop)**\n",
    "- start = start\n",
    "- Increment by 1\n",
    "- Last value = stop-1"
   ]
  },
  {
   "cell_type": "code",
   "execution_count": 21,
   "id": "35fbf4d5-8b6b-446c-b4b7-28772b148a6c",
   "metadata": {},
   "outputs": [
    {
     "name": "stdout",
     "output_type": "stream",
     "text": [
      "5 6 7 8 9 "
     ]
    }
   ],
   "source": [
    "for i in range(5,10):\n",
    "    print(i,end=' ')"
   ]
  },
  {
   "cell_type": "code",
   "execution_count": 25,
   "id": "94821326-46e4-40bc-abf2-6a9dc6f98d2c",
   "metadata": {},
   "outputs": [
    {
     "name": "stdout",
     "output_type": "stream",
     "text": [
      "1 4 9 16 25 "
     ]
    }
   ],
   "source": [
    "for i in range(5):\n",
    "    print((i+1)*(i+1),end=' ')"
   ]
  },
  {
   "cell_type": "code",
   "execution_count": 29,
   "id": "dc1e6f1a-5758-4267-a61d-bf5f02119c52",
   "metadata": {},
   "outputs": [
    {
     "name": "stdin",
     "output_type": "stream",
     "text": [
      "Enter number: 2\n"
     ]
    },
    {
     "name": "stdout",
     "output_type": "stream",
     "text": [
      "Square of the 2 = 4\n"
     ]
    },
    {
     "name": "stdin",
     "output_type": "stream",
     "text": [
      "Enter number: 3\n"
     ]
    },
    {
     "name": "stdout",
     "output_type": "stream",
     "text": [
      "Square of the 3 = 9\n"
     ]
    },
    {
     "name": "stdin",
     "output_type": "stream",
     "text": [
      "Enter number: 5\n"
     ]
    },
    {
     "name": "stdout",
     "output_type": "stream",
     "text": [
      "Square of the 5 = 25\n"
     ]
    },
    {
     "name": "stdin",
     "output_type": "stream",
     "text": [
      "Enter number: 6\n"
     ]
    },
    {
     "name": "stdout",
     "output_type": "stream",
     "text": [
      "Square of the 6 = 36\n"
     ]
    },
    {
     "name": "stdin",
     "output_type": "stream",
     "text": [
      "Enter number: 7\n"
     ]
    },
    {
     "name": "stdout",
     "output_type": "stream",
     "text": [
      "Square of the 7 = 49\n"
     ]
    }
   ],
   "source": [
    "for i in range(5):\n",
    "    num=eval(input(\"Enter number:\"))\n",
    "    print(f\"Square of the {num} = {num*num}\")"
   ]
  },
  {
   "cell_type": "code",
   "execution_count": 31,
   "id": "a265a071-183a-4e2a-abee-6667e3553f0e",
   "metadata": {},
   "outputs": [
    {
     "name": "stdin",
     "output_type": "stream",
     "text": [
      "Enter number: 20\n"
     ]
    },
    {
     "name": "stdout",
     "output_type": "stream",
     "text": [
      "Square of the 20 = 400\n"
     ]
    },
    {
     "name": "stdin",
     "output_type": "stream",
     "text": [
      "Enter number: 30\n"
     ]
    },
    {
     "name": "stdout",
     "output_type": "stream",
     "text": [
      "Square of the 30 = 900\n"
     ]
    }
   ],
   "source": [
    "def square():\n",
    "    num=eval(input(\"Enter number:\"))\n",
    "    print(f\"Square of the {num} = {num*num}\")\n",
    "\n",
    "for i in range(2):\n",
    "    square()"
   ]
  },
  {
   "cell_type": "markdown",
   "id": "9d2206a8-b150-4219-a20d-9545a10a44d6",
   "metadata": {},
   "source": [
    "**case-3:range(start,stop,step)**\n",
    "- start = start\n",
    "- increament or decrement depens on positive or negetive sign with increment or decrement by step times\n",
    "- for increment , STOP =stop-1\n",
    "- for decrement , stop =stop+1"
   ]
  },
  {
   "cell_type": "code",
   "execution_count": 36,
   "id": "4a17d5ed-9778-4fa7-a31c-a9799ec11856",
   "metadata": {},
   "outputs": [
    {
     "name": "stdout",
     "output_type": "stream",
     "text": [
      "3 5 7 9 11 13 15 17 19 "
     ]
    }
   ],
   "source": [
    "# Ex-1: increment with 2 number \n",
    "for i in range(3,20,2):\n",
    "    print(i,end=' ' )"
   ]
  },
  {
   "cell_type": "code",
   "execution_count": 38,
   "id": "c59eab34-9ee7-496f-9a94-3d38fc1c953c",
   "metadata": {},
   "outputs": [],
   "source": [
    "# Ex-2: decrement by 2 number last value= stop+1 = 19+1 so no code run willl happen\n",
    "for i in range(3,19,-2):\n",
    "    print(i,end=' ' )"
   ]
  },
  {
   "cell_type": "code",
   "execution_count": 40,
   "id": "967a55b2-3a93-43e6-b076-82e796efe9b1",
   "metadata": {},
   "outputs": [
    {
     "name": "stdout",
     "output_type": "stream",
     "text": [
      "3 1 -1 -3 -5 -7 -9 -11 -13 -15 -17 "
     ]
    }
   ],
   "source": [
    "# Ex-2: decrement by 2 number last value= stop+1 = -19+1 =-18 : this will run\n",
    "for i in range(3,-19,-2):\n",
    "    print(i,end=' ' )"
   ]
  },
  {
   "cell_type": "code",
   "execution_count": 1,
   "id": "9c1b71a5-09d8-4b5d-b80a-b8e45b1d8e67",
   "metadata": {},
   "outputs": [
    {
     "name": "stdout",
     "output_type": "stream",
     "text": [
      "20\n",
      "10\n",
      "0\n",
      "-10\n"
     ]
    }
   ],
   "source": [
    "for i in range(20,-20,-10):\n",
    "    print(i)"
   ]
  },
  {
   "cell_type": "code",
   "execution_count": 7,
   "id": "46317af6-1cb0-403c-a513-98bffefb4f82",
   "metadata": {},
   "outputs": [
    {
     "name": "stdin",
     "output_type": "stream",
     "text": [
      "Enter which table you want: 7\n"
     ]
    },
    {
     "name": "stdout",
     "output_type": "stream",
     "text": [
      "7 X 1 = 7\n",
      "7 X 2 = 14\n",
      "7 X 3 = 21\n",
      "7 X 4 = 28\n",
      "7 X 5 = 35\n",
      "7 X 6 = 42\n",
      "7 X 7 = 49\n",
      "7 X 8 = 56\n",
      "7 X 9 = 63\n",
      "7 X 10 = 70\n"
     ]
    }
   ],
   "source": [
    "num=eval(input(\"Enter which table you want:\"))\n",
    "for i in range(10):\n",
    "    print(f\"{num} X {i+1} =\",num*(i+1))"
   ]
  },
  {
   "cell_type": "code",
   "execution_count": 11,
   "id": "efbbd944-d6d9-44b3-9193-4799615e20ee",
   "metadata": {},
   "outputs": [
    {
     "name": "stdin",
     "output_type": "stream",
     "text": [
      "Enter number: 75\n"
     ]
    },
    {
     "name": "stdout",
     "output_type": "stream",
     "text": [
      "1 is divisor of 75\n",
      "3 is divisor of 75\n",
      "5 is divisor of 75\n",
      "15 is divisor of 75\n",
      "25 is divisor of 75\n",
      "75 is divisor of 75\n"
     ]
    }
   ],
   "source": [
    "num=eval(input(\"Enter number:\"))\n",
    "for i in range(1,num+1):\n",
    "    if (num%i == 0):\n",
    "        print(f\"{i} is divisor of {num}\")"
   ]
  },
  {
   "cell_type": "code",
   "execution_count": 15,
   "id": "d5362b1b-8832-4292-ab1b-7fe93fef9d8e",
   "metadata": {},
   "outputs": [
    {
     "name": "stdin",
     "output_type": "stream",
     "text": [
      "Enter number: 10\n"
     ]
    },
    {
     "name": "stdout",
     "output_type": "stream",
     "text": [
      "Summ of natural numder for 10 = 55\n"
     ]
    }
   ],
   "source": [
    "num=eval(input(\"Enter number:\"))\n",
    "summ=0\n",
    "for i in range(num+1):\n",
    "    summ=i+summ\n",
    "print(f\"Summ of natural numder for {num} = {summ}\")"
   ]
  },
  {
   "cell_type": "code",
   "execution_count": 37,
   "id": "36dd86f3-ad8d-4dd0-8533-76866adf5ab0",
   "metadata": {},
   "outputs": [
    {
     "name": "stdin",
     "output_type": "stream",
     "text": [
      "Enter number: 75\n"
     ]
    },
    {
     "name": "stdout",
     "output_type": "stream",
     "text": [
      "1\n",
      "4\n",
      "9\n",
      "24\n",
      "49\n",
      "124\n",
      "124 is sum of all divisor of 75\n"
     ]
    }
   ],
   "source": [
    "num=eval(input(\"Enter number:\"))\n",
    "summ1=0\n",
    "for i in range(1,num+1):\n",
    "    if (num%i == 0):\n",
    "        summ1=summ1+i\n",
    "        print(summ1)\n",
    "print(f\"{summ1} is sum of all divisor of {num}\")"
   ]
  },
  {
   "cell_type": "markdown",
   "id": "aa013579-6501-45ca-8a7a-077cfe135e03",
   "metadata": {},
   "source": [
    "**COUNTER WRAPPER**"
   ]
  },
  {
   "cell_type": "code",
   "execution_count": 44,
   "id": "d5e847a6-e32c-481f-8bcf-7ce332d2bc99",
   "metadata": {},
   "outputs": [
    {
     "name": "stdin",
     "output_type": "stream",
     "text": [
      "Enter number: 75\n"
     ]
    },
    {
     "name": "stdout",
     "output_type": "stream",
     "text": [
      "Number of divisors for 75 = 6\n"
     ]
    }
   ],
   "source": [
    "num=eval(input(\"Enter number:\"))\n",
    "count=0\n",
    "for i in range(1,num+1):\n",
    "    if (num%i == 0):\n",
    "        count=count+1\n",
    "print(f\"Number of divisors for {num} = {count}\")"
   ]
  },
  {
   "cell_type": "code",
   "execution_count": 62,
   "id": "6ce5797b-0c36-4e11-aed5-7cd377c5d858",
   "metadata": {},
   "outputs": [
    {
     "name": "stdout",
     "output_type": "stream",
     "text": [
      "Even number: 4\n",
      "Odd number: 5\n",
      "Even number: 2\n",
      "Even number: 4\n",
      "Even number: 4\n",
      "Even count-4, even sum=14, odd count=1,  odd sum=5\n"
     ]
    }
   ],
   "source": [
    "import random\n",
    "counte=0\n",
    "counto=0\n",
    "summo=0\n",
    "summe=0\n",
    "for i in range(5):\n",
    "    num=random.randint(1,5)\n",
    "    if (num%2 == 0):\n",
    "        summe=summe+num\n",
    "        counte=counte+1\n",
    "        print(\"Even number:\",num)\n",
    "    else:\n",
    "        summo=summo+num\n",
    "        counto=counto+1\n",
    "        print(\"Odd number:\",num)\n",
    "print(f\"Even count-{counte}, even sum={summe}, odd count={counto},  odd sum={summo}\")"
   ]
  },
  {
   "cell_type": "code",
   "execution_count": 68,
   "id": "25903021-6600-42dd-81f8-a92a6289ed0b",
   "metadata": {},
   "outputs": [
    {
     "name": "stdin",
     "output_type": "stream",
     "text": [
      "Enter number: 1 to 9 6\n"
     ]
    },
    {
     "name": "stdout",
     "output_type": "stream",
     "text": [
      "6=9 you Loss!!!\n"
     ]
    },
    {
     "name": "stdin",
     "output_type": "stream",
     "text": [
      "Enter number: 1 to 9 4\n"
     ]
    },
    {
     "name": "stdout",
     "output_type": "stream",
     "text": [
      "4=6 you Loss!!!\n"
     ]
    },
    {
     "name": "stdin",
     "output_type": "stream",
     "text": [
      "Enter number: 1 to 9 7\n"
     ]
    },
    {
     "name": "stdout",
     "output_type": "stream",
     "text": [
      "7=9 you Loss!!!\n"
     ]
    }
   ],
   "source": [
    "for i in range(3):\n",
    "    num1=eval(input(\"Enter number: 1 to 9\"))\n",
    "    num2=random.randint(1,10)\n",
    "    if (num1 == num2):\n",
    "        print(f\"{num1}={num2} you won!!!\")\n",
    "        break\n",
    "    else:\n",
    "        print(f\"{num1}={num2} you Loss!!!\")"
   ]
  },
  {
   "cell_type": "code",
   "execution_count": 88,
   "id": "a9f4c606-2adc-481b-bf58-e93af0d5a77a",
   "metadata": {},
   "outputs": [
    {
     "name": "stdin",
     "output_type": "stream",
     "text": [
      "Enter number: 1 to 9 4\n"
     ]
    },
    {
     "name": "stdout",
     "output_type": "stream",
     "text": [
      "4=1 you Loss!!!\n",
      "You have 2 more chances\n"
     ]
    },
    {
     "name": "stdin",
     "output_type": "stream",
     "text": [
      "Enter number: 1 to 9 6\n"
     ]
    },
    {
     "name": "stdout",
     "output_type": "stream",
     "text": [
      "6=8 you Loss!!!\n",
      "You have 1 more chances\n"
     ]
    },
    {
     "name": "stdin",
     "output_type": "stream",
     "text": [
      "Enter number: 1 to 9 9\n"
     ]
    },
    {
     "name": "stdout",
     "output_type": "stream",
     "text": [
      "9=1 you Loss!!!\n",
      "Katham jindagi\n"
     ]
    }
   ],
   "source": [
    "for i in range(3):\n",
    "    num1=eval(input(\"Enter number: 1 to 9\"))\n",
    "    num2=random.randint(1,10)\n",
    "    if (num1 == num2):\n",
    "        print(f\"{num1}={num2} you won!!!\")\n",
    "        break\n",
    "    else:\n",
    "        print(f\"{num1}={num2} you Loss!!!\")\n",
    "        if i==2:\n",
    "            print(\"Katham jindagi\")\n",
    "        else:\n",
    "            print(f\"You have {2-i} more chances\")"
   ]
  },
  {
   "cell_type": "markdown",
   "id": "ebf14150-bc97-4fda-ad95-34ea263b6f84",
   "metadata": {},
   "source": [
    "**in operator**"
   ]
  },
  {
   "cell_type": "markdown",
   "id": "bf2514d3-b4ef-437b-81bd-83e884653a80",
   "metadata": {},
   "source": [
    "- in for loop we have range and in operator. Rnage is a math operator and it expects number inside range\n",
    "- but in operator in expects a string\n"
   ]
  },
  {
   "cell_type": "code",
   "execution_count": 5,
   "id": "c96fe044-36bc-4638-9f53-1eda98a4e436",
   "metadata": {},
   "outputs": [
    {
     "ename": "TypeError",
     "evalue": "'str' object cannot be interpreted as an integer",
     "output_type": "error",
     "traceback": [
      "\u001b[1;31m---------------------------------------------------------------------------\u001b[0m",
      "\u001b[1;31mTypeError\u001b[0m                                 Traceback (most recent call last)",
      "Cell \u001b[1;32mIn[5], line 1\u001b[0m\n\u001b[1;32m----> 1\u001b[0m \u001b[38;5;28;01mfor\u001b[39;00m i \u001b[38;5;129;01min\u001b[39;00m \u001b[38;5;28mrange\u001b[39m(\u001b[38;5;124m'\u001b[39m\u001b[38;5;124mpython\u001b[39m\u001b[38;5;124m'\u001b[39m):\n\u001b[0;32m      2\u001b[0m     \u001b[38;5;28mprint\u001b[39m(i,end\u001b[38;5;241m=\u001b[39m\u001b[38;5;124m'\u001b[39m\u001b[38;5;124m \u001b[39m\u001b[38;5;124m'\u001b[39m)\n",
      "\u001b[1;31mTypeError\u001b[0m: 'str' object cannot be interpreted as an integer"
     ]
    }
   ],
   "source": [
    "for i in range('python'):\n",
    "    print(i,end=' ')"
   ]
  },
  {
   "cell_type": "code",
   "execution_count": 7,
   "id": "5942ee13-d925-4214-b207-c962d2412550",
   "metadata": {},
   "outputs": [
    {
     "name": "stdout",
     "output_type": "stream",
     "text": [
      "p y t h o n "
     ]
    }
   ],
   "source": [
    "for i in 'python':\n",
    "    print(i,end=' ')"
   ]
  },
  {
   "cell_type": "code",
   "execution_count": 9,
   "id": "6313c71a-b184-484a-ae6c-09b1e7494386",
   "metadata": {},
   "outputs": [
    {
     "data": {
      "text/plain": [
       "True"
      ]
     },
     "execution_count": 9,
     "metadata": {},
     "output_type": "execute_result"
    }
   ],
   "source": [
    "'p' in 'python'"
   ]
  },
  {
   "cell_type": "code",
   "execution_count": 13,
   "id": "1104bef9-cdbf-4b61-97c8-12750f44682e",
   "metadata": {},
   "outputs": [
    {
     "data": {
      "text/plain": [
       "False"
      ]
     },
     "execution_count": 13,
     "metadata": {},
     "output_type": "execute_result"
    }
   ],
   "source": [
    "'P' in 'python' #Capital p"
   ]
  },
  {
   "cell_type": "markdown",
   "id": "cdc0e780-f35b-415f-a127-d5c79a740734",
   "metadata": {},
   "source": [
    "**ASCI-American Standard Code for Information Interchange**"
   ]
  },
  {
   "cell_type": "code",
   "execution_count": 24,
   "id": "81a7243d-0f4f-4aa8-b983-941e63bb8bdb",
   "metadata": {},
   "outputs": [
    {
     "data": {
      "text/plain": [
       "False"
      ]
     },
     "execution_count": 24,
     "metadata": {},
     "output_type": "execute_result"
    }
   ],
   "source": [
    "'A'> 'a'"
   ]
  },
  {
   "cell_type": "markdown",
   "id": "466827d6-5323-4137-bebe-e441b059b469",
   "metadata": {},
   "source": [
    "- How to convert Char to Number\n",
    "- How to convert number to Char"
   ]
  },
  {
   "cell_type": "code",
   "execution_count": 29,
   "id": "547426ae-cc5d-4eeb-9651-390c53bab65f",
   "metadata": {},
   "outputs": [
    {
     "data": {
      "text/plain": [
       "65"
      ]
     },
     "execution_count": 29,
     "metadata": {},
     "output_type": "execute_result"
    }
   ],
   "source": [
    "ord('A')"
   ]
  },
  {
   "cell_type": "code",
   "execution_count": 33,
   "id": "f8fd242a-4de5-428f-b041-db4f2c8a7a3c",
   "metadata": {},
   "outputs": [
    {
     "data": {
      "text/plain": [
       "'A'"
      ]
     },
     "execution_count": 33,
     "metadata": {},
     "output_type": "execute_result"
    }
   ],
   "source": [
    "chr(65)"
   ]
  },
  {
   "cell_type": "code",
   "execution_count": 35,
   "id": "e018c4d6-75b3-45e6-bb91-b5e3b5fcc522",
   "metadata": {},
   "outputs": [
    {
     "data": {
      "text/plain": [
       "97"
      ]
     },
     "execution_count": 35,
     "metadata": {},
     "output_type": "execute_result"
    }
   ],
   "source": [
    "ord('a')"
   ]
  },
  {
   "cell_type": "code",
   "execution_count": 37,
   "id": "e1c059f8-bb15-4a5c-a8ca-fe875a1f8cca",
   "metadata": {},
   "outputs": [
    {
     "data": {
      "text/plain": [
       "True"
      ]
     },
     "execution_count": 37,
     "metadata": {},
     "output_type": "execute_result"
    }
   ],
   "source": [
    "ord('A') == 65"
   ]
  },
  {
   "cell_type": "code",
   "execution_count": 41,
   "id": "a53ce08d-ae66-40e3-9c59-21329a0486bb",
   "metadata": {},
   "outputs": [
    {
     "data": {
      "text/plain": [
       "True"
      ]
     },
     "execution_count": 41,
     "metadata": {},
     "output_type": "execute_result"
    }
   ],
   "source": [
    "chr(97) == 'a'"
   ]
  },
  {
   "cell_type": "code",
   "execution_count": 57,
   "id": "3d06c3b7-9879-4444-96a5-9baa5fd85e22",
   "metadata": {},
   "outputs": [
    {
     "name": "stdout",
     "output_type": "stream",
     "text": [
      "A =  65\n",
      "B =  66\n",
      "C =  67\n",
      "D =  68\n",
      "E =  69\n",
      "F =  70\n",
      "G =  71\n",
      "H =  72\n",
      "I =  73\n",
      "J =  74\n",
      "K =  75\n",
      "L =  76\n",
      "M =  77\n",
      "N =  78\n",
      "O =  79\n",
      "P =  80\n",
      "Q =  81\n",
      "R =  82\n",
      "S =  83\n",
      "T =  84\n",
      "U =  85\n",
      "V =  86\n",
      "W =  87\n",
      "X =  88\n",
      "Y =  89\n",
      "Z =  90\n"
     ]
    }
   ],
   "source": [
    "for i in 'ABCDEFGHIJKLMNOPQRSTUVWXYZ':\n",
    "    print(f\"{i} = \", ord(i))"
   ]
  },
  {
   "cell_type": "markdown",
   "id": "9336e22a-22c6-4986-85ca-7473510e1391",
   "metadata": {},
   "source": [
    "**pakage name :strings**"
   ]
  },
  {
   "cell_type": "code",
   "execution_count": 60,
   "id": "6425a8cd-9b82-44bd-b715-07b94c3b015d",
   "metadata": {},
   "outputs": [],
   "source": [
    "import string"
   ]
  },
  {
   "cell_type": "code",
   "execution_count": 62,
   "id": "9b6ad1d7-d941-471a-8037-bc1a68078280",
   "metadata": {},
   "outputs": [
    {
     "data": {
      "text/plain": [
       "['Formatter',\n",
       " 'Template',\n",
       " '_ChainMap',\n",
       " '__all__',\n",
       " '__builtins__',\n",
       " '__cached__',\n",
       " '__doc__',\n",
       " '__file__',\n",
       " '__loader__',\n",
       " '__name__',\n",
       " '__package__',\n",
       " '__spec__',\n",
       " '_re',\n",
       " '_sentinel_dict',\n",
       " '_string',\n",
       " 'ascii_letters',\n",
       " 'ascii_lowercase',\n",
       " 'ascii_uppercase',\n",
       " 'capwords',\n",
       " 'digits',\n",
       " 'hexdigits',\n",
       " 'octdigits',\n",
       " 'printable',\n",
       " 'punctuation',\n",
       " 'whitespace']"
      ]
     },
     "execution_count": 62,
     "metadata": {},
     "output_type": "execute_result"
    }
   ],
   "source": [
    "dir(string)"
   ]
  },
  {
   "cell_type": "code",
   "execution_count": 68,
   "id": "c6b8e624-f27e-4638-be86-193e4db7de7b",
   "metadata": {},
   "outputs": [
    {
     "data": {
      "text/plain": [
       "'ABCDEFGHIJKLMNOPQRSTUVWXYZ'"
      ]
     },
     "execution_count": 68,
     "metadata": {},
     "output_type": "execute_result"
    }
   ],
   "source": [
    "string.ascii_uppercase"
   ]
  },
  {
   "cell_type": "code",
   "execution_count": 70,
   "id": "949d6987-6749-4bb8-a48c-e7d71c4758d2",
   "metadata": {},
   "outputs": [
    {
     "name": "stdout",
     "output_type": "stream",
     "text": [
      "A =  65\n",
      "B =  66\n",
      "C =  67\n",
      "D =  68\n",
      "E =  69\n",
      "F =  70\n",
      "G =  71\n",
      "H =  72\n",
      "I =  73\n",
      "J =  74\n",
      "K =  75\n",
      "L =  76\n",
      "M =  77\n",
      "N =  78\n",
      "O =  79\n",
      "P =  80\n",
      "Q =  81\n",
      "R =  82\n",
      "S =  83\n",
      "T =  84\n",
      "U =  85\n",
      "V =  86\n",
      "W =  87\n",
      "X =  88\n",
      "Y =  89\n",
      "Z =  90\n"
     ]
    }
   ],
   "source": [
    "import string\n",
    "for i in string.ascii_uppercase:\n",
    "    print(f\"{i} = \", ord(i))"
   ]
  },
  {
   "cell_type": "code",
   "execution_count": 74,
   "id": "9ee4ce2d-86e1-4d80-aefb-0a47efbc270a",
   "metadata": {},
   "outputs": [
    {
     "name": "stdout",
     "output_type": "stream",
     "text": [
      "a = 97\n",
      "b = 98\n",
      "c = 99\n",
      "d = 100\n",
      "e = 101\n",
      "f = 102\n",
      "g = 103\n",
      "h = 104\n",
      "i = 105\n",
      "j = 106\n",
      "k = 107\n",
      "l = 108\n",
      "m = 109\n",
      "n = 110\n",
      "o = 111\n",
      "p = 112\n",
      "q = 113\n",
      "r = 114\n",
      "s = 115\n",
      "t = 116\n",
      "u = 117\n",
      "v = 118\n",
      "w = 119\n",
      "x = 120\n",
      "y = 121\n",
      "z = 122\n"
     ]
    }
   ],
   "source": [
    "import string\n",
    "for i in string.ascii_lowercase:\n",
    "    print(f\"{i} = {ord(i)}\")"
   ]
  },
  {
   "cell_type": "code",
   "execution_count": 76,
   "id": "4349dbdb-6a43-4597-9359-4d9a62a3c3ea",
   "metadata": {},
   "outputs": [
    {
     "name": "stdout",
     "output_type": "stream",
     "text": [
      "! = 33 \" = 34 # = 35 $ = 36 % = 37 & = 38 ' = 39 ( = 40 ) = 41 * = 42 + = 43 , = 44 - = 45 . = 46 / = 47 : = 58 ; = 59 < = 60 = = 61 > = 62 ? = 63 @ = 64 [ = 91 \\ = 92 ] = 93 ^ = 94 _ = 95 ` = 96 { = 123 | = 124 } = 125 ~ = 126 "
     ]
    }
   ],
   "source": [
    "import string\n",
    "for i in string.punctuation:\n",
    "    print(f\"{i} = {ord(i)}\", end=' ')"
   ]
  },
  {
   "cell_type": "code",
   "execution_count": 78,
   "id": "f8ae846d-da04-44bb-b53a-9fc3b4c05ed6",
   "metadata": {},
   "outputs": [
    {
     "name": "stdout",
     "output_type": "stream",
     "text": [
      "0 = 48 1 = 49 2 = 50 3 = 51 4 = 52 5 = 53 6 = 54 7 = 55 8 = 56 9 = 57 "
     ]
    }
   ],
   "source": [
    "for i in string.digits:\n",
    "    print(f\"{i} = {ord(i)}\", end=' ')"
   ]
  },
  {
   "cell_type": "code",
   "execution_count": 80,
   "id": "73e691b7-8430-4a01-a3bf-80de7013dbe2",
   "metadata": {},
   "outputs": [
    {
     "name": "stdout",
     "output_type": "stream",
     "text": [
      "33 = ! 34 = \" 35 = # 36 = $ 37 = % 38 = & 39 = ' 40 = ( 41 = ) 42 = * 43 = + 44 = , 45 = - 46 = . 47 = / 48 = 0 49 = 1 50 = 2 51 = 3 52 = 4 53 = 5 54 = 6 55 = 7 56 = 8 57 = 9 58 = : 59 = ; 60 = < 61 = = 62 = > 63 = ? 64 = @ 65 = A 66 = B 67 = C 68 = D 69 = E 70 = F 71 = G 72 = H 73 = I 74 = J 75 = K 76 = L 77 = M 78 = N 79 = O 80 = P 81 = Q 82 = R 83 = S 84 = T 85 = U 86 = V 87 = W 88 = X 89 = Y 90 = Z 91 = [ 92 = \\ 93 = ] 94 = ^ 95 = _ 96 = ` 97 = a 98 = b 99 = c 100 = d 101 = e 102 = f 103 = g 104 = h 105 = i 106 = j 107 = k 108 = l 109 = m 110 = n 111 = o 112 = p 113 = q 114 = r 115 = s 116 = t 117 = u 118 = v 119 = w 120 = x 121 = y 122 = z 123 = { 124 = | 125 = } "
     ]
    }
   ],
   "source": [
    "import string\n",
    "for i in range (33,126):\n",
    "    print(f\"{i} = {chr(i)}\", end=' ')"
   ]
  },
  {
   "cell_type": "code",
   "execution_count": 82,
   "id": "533c19be-de48-4840-b588-30cbae5d4bd8",
   "metadata": {},
   "outputs": [
    {
     "name": "stdout",
     "output_type": "stream",
     "text": [
      "0 = \u0000 1 = \u0001 2 = \u0002 3 = \u0003 4 = \u0004 5 = \u0005 6 = \u0006 7 = \u0007 8 = 9 = \t 10 = \n",
      " 14 = \u000e 15 = \u000f 16 = \u0010 17 = \u0011 18 = \u0012 19 = \u0013 20 = \u0014 21 = \u0015 22 = \u0016 23 = \u0017 24 = \u0018 25 = \u0019 26 = \u001a 27 = \u001b 28 = \u001c",
      " 29 = \u001d",
      " 30 = \u001e",
      " 31 = \u001f 32 =   "
     ]
    }
   ],
   "source": [
    "for i in range (0,33):\n",
    "    print(f\"{i} = {chr(i)}\", end=' ')"
   ]
  },
  {
   "cell_type": "code",
   "execution_count": 84,
   "id": "cf794b9e-30c3-49c7-9a68-40fa2fbf5037",
   "metadata": {},
   "outputs": [
    {
     "name": "stdout",
     "output_type": "stream",
     "text": [
      "127 =  128 =  129 =  130 =  131 =  132 =  133 = ",
      " 134 =  135 =  136 =  137 =  138 =  139 =  140 =  141 =  142 =  143 =  144 =  145 =  146 =  147 =  148 =  149 =  150 =  151 =  152 =  153 =  154 =  155 =  156 =  157 =  158 =  159 =  160 =   161 = ¡ 162 = ¢ 163 = £ 164 = ¤ 165 = ¥ 166 = ¦ 167 = § 168 = ¨ 169 = © 170 = ª 171 = « 172 = ¬ 173 = ­ 174 = ® 175 = ¯ 176 = ° 177 = ± 178 = ² 179 = ³ 180 = ´ 181 = µ 182 = ¶ 183 = · 184 = ¸ 185 = ¹ 186 = º 187 = » 188 = ¼ 189 = ½ 190 = ¾ 191 = ¿ 192 = À 193 = Á 194 = Â 195 = Ã 196 = Ä 197 = Å 198 = Æ 199 = Ç "
     ]
    }
   ],
   "source": [
    "for i in range (127,200):\n",
    "    print(f\"{i} = {chr(i)}\", end=' ')"
   ]
  },
  {
   "cell_type": "code",
   "execution_count": 96,
   "id": "3aa22981-e3bf-42e8-b399-5f4a7f3ebac8",
   "metadata": {},
   "outputs": [
    {
     "name": "stdout",
     "output_type": "stream",
     "text": [
      "3077 = అ 3078 = ఆ 3079 = ఇ 3080 = ఈ 3081 = ఉ 3082 = ఊ 3083 = ఋ 3084 = ఌ 3085 = ఍ 3086 = ఎ 3087 = ఏ 3088 = ఐ 3089 = ఑ 3090 = ఒ 3091 = ఓ 3092 = ఔ 3093 = క 3094 = ఖ 3095 = గ 3096 = ఘ 3097 = ఙ 3098 = చ 3099 = ఛ 3100 = జ 3101 = ఝ 3102 = ఞ 3103 = ట 3104 = ఠ 3105 = డ 3106 = ఢ 3107 = ణ 3108 = త 3109 = థ 3110 = ద 3111 = ధ 3112 = న 3113 = ఩ 3114 = ప 3115 = ఫ 3116 = బ 3117 = భ 3118 = మ 3119 = య 3120 = ర 3121 = ఱ 3122 = ల 3123 = ళ 3124 = ఴ 3125 = వ 3126 = శ 3127 = ష 3128 = స 3129 = హ "
     ]
    }
   ],
   "source": [
    "for i in range (3077,3130 ):\n",
    "    print(f\"{i} = {chr(i)}\", end=' ')"
   ]
  },
  {
   "cell_type": "code",
   "execution_count": null,
   "id": "ec44f7b5-381b-4139-90d6-4cebb0f0a37f",
   "metadata": {},
   "outputs": [],
   "source": []
  }
 ],
 "metadata": {
  "kernelspec": {
   "display_name": "Python [conda env:base] *",
   "language": "python",
   "name": "conda-base-py"
  },
  "language_info": {
   "codemirror_mode": {
    "name": "ipython",
    "version": 3
   },
   "file_extension": ".py",
   "mimetype": "text/x-python",
   "name": "python",
   "nbconvert_exporter": "python",
   "pygments_lexer": "ipython3",
   "version": "3.12.7"
  }
 },
 "nbformat": 4,
 "nbformat_minor": 5
}
