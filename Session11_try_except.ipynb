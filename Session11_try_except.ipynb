{
 "cells": [
  {
   "cell_type": "markdown",
   "id": "898bc769-278e-4641-89c4-531f958eaae6",
   "metadata": {},
   "source": [
    "**try-except**"
   ]
  },
  {
   "cell_type": "markdown",
   "id": "7610f6a4-6d22-4b76-8525-a4d36bcf0b99",
   "metadata": {},
   "source": [
    "- try-except is a concept of exceptional handling \n",
    "- there are 2 blocks one is try block and another one is exception block\n",
    "- Original code will run under try block and if any error occurs in try block the error will catch by except block\n",
    "- The code shoud catch the error automatecally \n",
    "- And the code should continue further eventhough we got error"
   ]
  },
  {
   "cell_type": "code",
   "execution_count": 5,
   "id": "3daa74e6-4e88-481e-a3b6-cd6f82afbfa7",
   "metadata": {},
   "outputs": [
    {
     "name": "stdout",
     "output_type": "stream",
     "text": [
      "Error in try block: Zero division error\n"
     ]
    }
   ],
   "source": [
    "try:\n",
    "    a=100\n",
    "    b=0\n",
    "    c=a/b\n",
    "    print(c)\n",
    "except:\n",
    "    print(\"Error in try block: Zero division error\")"
   ]
  },
  {
   "cell_type": "markdown",
   "id": "c23e252b-b081-42ca-9db6-0ef2cf0da695",
   "metadata": {},
   "source": [
    "**##Note:except block will run only when we got error in try block**"
   ]
  },
  {
   "cell_type": "code",
   "execution_count": 9,
   "id": "de25c4f9-8533-4c5e-a9c1-344e8fbb2dbf",
   "metadata": {},
   "outputs": [
    {
     "name": "stdout",
     "output_type": "stream",
     "text": [
      "10.0\n"
     ]
    }
   ],
   "source": [
    "try:\n",
    "    a=100\n",
    "    b=10\n",
    "    c=a/b\n",
    "    print(c)\n",
    "except:\n",
    "    print(\"Error in try block: Zero division error\")"
   ]
  },
  {
   "cell_type": "code",
   "execution_count": null,
   "id": "765b786e-7a36-4402-9845-3d181231256a",
   "metadata": {},
   "outputs": [],
   "source": [
    "- Syntax error, name error, attribute error, typr error,indentation error, module not fount,\n",
    "- Syntax error will not catch"
   ]
  },
  {
   "cell_type": "code",
   "execution_count": 15,
   "id": "879ac75c-8cc5-4b80-9d04-e0a580a3dcfa",
   "metadata": {},
   "outputs": [
    {
     "ename": "SyntaxError",
     "evalue": "unterminated string literal (detected at line 2) (856513826.py, line 2)",
     "output_type": "error",
     "traceback": [
      "\u001b[1;36m  Cell \u001b[1;32mIn[15], line 2\u001b[1;36m\u001b[0m\n\u001b[1;33m    a=\"10\u001b[0m\n\u001b[1;37m      ^\u001b[0m\n\u001b[1;31mSyntaxError\u001b[0m\u001b[1;31m:\u001b[0m unterminated string literal (detected at line 2)\n"
     ]
    }
   ],
   "source": [
    "try:\n",
    "    a=\"10\n",
    "    print(a)\n",
    "except:\n",
    "    print(\"Error in try block: Syntax error\")"
   ]
  },
  {
   "cell_type": "code",
   "execution_count": 17,
   "id": "65f8fd29-8312-4b14-9589-b1629bb9c9e2",
   "metadata": {},
   "outputs": [
    {
     "ename": "SyntaxError",
     "evalue": "unterminated string literal (detected at line 1) (901420391.py, line 1)",
     "output_type": "error",
     "traceback": [
      "\u001b[1;36m  Cell \u001b[1;32mIn[17], line 1\u001b[1;36m\u001b[0m\n\u001b[1;33m    a=\"10\u001b[0m\n\u001b[1;37m      ^\u001b[0m\n\u001b[1;31mSyntaxError\u001b[0m\u001b[1;31m:\u001b[0m unterminated string literal (detected at line 1)\n"
     ]
    }
   ],
   "source": [
    " a=\"10\n",
    "    print(a)"
   ]
  },
  {
   "cell_type": "code",
   "execution_count": 19,
   "id": "e0818259-6f4c-4cf1-823b-2eff736d95f0",
   "metadata": {},
   "outputs": [
    {
     "ename": "NameError",
     "evalue": "name 'num1' is not defined",
     "output_type": "error",
     "traceback": [
      "\u001b[1;31m---------------------------------------------------------------------------\u001b[0m",
      "\u001b[1;31mNameError\u001b[0m                                 Traceback (most recent call last)",
      "Cell \u001b[1;32mIn[19], line 2\u001b[0m\n\u001b[0;32m      1\u001b[0m num\u001b[38;5;241m=\u001b[39m\u001b[38;5;241m100\u001b[39m\n\u001b[1;32m----> 2\u001b[0m \u001b[38;5;28mprint\u001b[39m(num1)\n",
      "\u001b[1;31mNameError\u001b[0m: name 'num1' is not defined"
     ]
    }
   ],
   "source": [
    "num=100\n",
    "print(num1)"
   ]
  },
  {
   "cell_type": "code",
   "execution_count": 21,
   "id": "2dc187ab-b1cf-49fc-9f18-11da4b2ce183",
   "metadata": {},
   "outputs": [
    {
     "ename": "TypeError",
     "evalue": "unsupported operand type(s) for /: 'str' and 'int'",
     "output_type": "error",
     "traceback": [
      "\u001b[1;31m---------------------------------------------------------------------------\u001b[0m",
      "\u001b[1;31mTypeError\u001b[0m                                 Traceback (most recent call last)",
      "Cell \u001b[1;32mIn[21], line 3\u001b[0m\n\u001b[0;32m      1\u001b[0m a\u001b[38;5;241m=\u001b[39m\u001b[38;5;124m\"\u001b[39m\u001b[38;5;124m10\u001b[39m\u001b[38;5;124m\"\u001b[39m\n\u001b[0;32m      2\u001b[0m b\u001b[38;5;241m=\u001b[39m\u001b[38;5;241m2\u001b[39m\n\u001b[1;32m----> 3\u001b[0m c\u001b[38;5;241m=\u001b[39ma\u001b[38;5;241m/\u001b[39mb\n\u001b[0;32m      4\u001b[0m \u001b[38;5;28mprint\u001b[39m(c)\n",
      "\u001b[1;31mTypeError\u001b[0m: unsupported operand type(s) for /: 'str' and 'int'"
     ]
    }
   ],
   "source": [
    "a=\"10\"\n",
    "b=2\n",
    "c=a/b\n",
    "print(c)"
   ]
  },
  {
   "cell_type": "code",
   "execution_count": 25,
   "id": "ab77b134-78bf-4311-aece-ee7686769b09",
   "metadata": {},
   "outputs": [
    {
     "ename": "ModuleNotFoundError",
     "evalue": "No module named 'arun'",
     "output_type": "error",
     "traceback": [
      "\u001b[1;31m---------------------------------------------------------------------------\u001b[0m",
      "\u001b[1;31mModuleNotFoundError\u001b[0m                       Traceback (most recent call last)",
      "Cell \u001b[1;32mIn[25], line 1\u001b[0m\n\u001b[1;32m----> 1\u001b[0m \u001b[38;5;28;01mimport\u001b[39;00m \u001b[38;5;21;01marun\u001b[39;00m\n",
      "\u001b[1;31mModuleNotFoundError\u001b[0m: No module named 'arun'"
     ]
    }
   ],
   "source": [
    "import arun"
   ]
  },
  {
   "cell_type": "code",
   "execution_count": 31,
   "id": "b8912524-82a0-4757-8bda-ec994348cf93",
   "metadata": {},
   "outputs": [
    {
     "name": "stdin",
     "output_type": "stream",
     "text": [
      "Enter n1: 100\n",
      "Enter n2: 10\n"
     ]
    },
    {
     "name": "stdout",
     "output_type": "stream",
     "text": [
      "10.0\n"
     ]
    }
   ],
   "source": [
    "try:\n",
    "    n1=eval(input(\"Enter n1:\"))\n",
    "    n2=eval(input(\"Enter n2:\"))\n",
    "    div=n1/n2\n",
    "    print(div)\n",
    "except Exception as e:\n",
    "    print(e)"
   ]
  },
  {
   "cell_type": "code",
   "execution_count": 33,
   "id": "b214a59c-8078-4a1b-a81f-5d1407655bd2",
   "metadata": {},
   "outputs": [
    {
     "name": "stdout",
     "output_type": "stream",
     "text": [
      "No module named 'arun'\n"
     ]
    }
   ],
   "source": [
    "try:\n",
    "    import arun\n",
    "except Exception as e:\n",
    "    print(e)"
   ]
  },
  {
   "cell_type": "code",
   "execution_count": 35,
   "id": "72215a2d-c2e9-43e7-8fb8-30cfb1009723",
   "metadata": {},
   "outputs": [
    {
     "name": "stdout",
     "output_type": "stream",
     "text": [
      "name 'num1' is not defined\n"
     ]
    }
   ],
   "source": [
    "try:\n",
    "    num=100\n",
    "    print(num1)\n",
    "except Exception as e:\n",
    "    print(e)"
   ]
  },
  {
   "cell_type": "code",
   "execution_count": 37,
   "id": "066808d8-456a-4d4e-9d29-af9fd0eba39e",
   "metadata": {},
   "outputs": [
    {
     "name": "stdout",
     "output_type": "stream",
     "text": [
      "module 'random' has no attribute 'arun'\n"
     ]
    }
   ],
   "source": [
    "try:\n",
    "    import random\n",
    "    random.arun()\n",
    "except Exception as e:\n",
    "    print(e)"
   ]
  },
  {
   "cell_type": "code",
   "execution_count": 41,
   "id": "1146766f-9158-441c-95a2-af5fadb5e2d1",
   "metadata": {},
   "outputs": [
    {
     "name": "stdout",
     "output_type": "stream",
     "text": [
      "Random.randint() missing 2 required positional arguments: 'a' and 'b'\n"
     ]
    }
   ],
   "source": [
    "try:\n",
    "    import random\n",
    "    random.randint()\n",
    "except Exception as e:\n",
    "    print(e)"
   ]
  },
  {
   "cell_type": "code",
   "execution_count": 43,
   "id": "ec5dd179-e5d1-44f7-8e05-74dca1663f65",
   "metadata": {},
   "outputs": [
    {
     "name": "stdout",
     "output_type": "stream",
     "text": [
      "Random.randint() missing 2 required positional arguments: 'a' and 'b'\n"
     ]
    }
   ],
   "source": [
    "try:\n",
    "    import random\n",
    "    random.randint()\n",
    "except Exception as e:\n",
    "    print(e)"
   ]
  },
  {
   "cell_type": "code",
   "execution_count": 49,
   "id": "02f8c239-3ecd-41dc-b82e-b84bca8d406d",
   "metadata": {},
   "outputs": [
    {
     "name": "stdout",
     "output_type": "stream",
     "text": [
      "Odd:\n"
     ]
    }
   ],
   "source": [
    "a=3\n",
    "if a%2 == 0:\n",
    "    print(\"Even\")\n",
    "else:\n",
    "    print(\"Odd:\")"
   ]
  },
  {
   "cell_type": "code",
   "execution_count": 57,
   "id": "14144728-358c-44c6-8076-947207651a35",
   "metadata": {},
   "outputs": [
    {
     "name": "stdin",
     "output_type": "stream",
     "text": [
      "Enter number:  100\n"
     ]
    },
    {
     "name": "stdout",
     "output_type": "stream",
     "text": [
      "name 'num3' is not defined\n"
     ]
    }
   ],
   "source": [
    "try:\n",
    "    num1=eval(input(\"Enter number:\"))\n",
    "    if num1 % 2 == 0:\n",
    "        print(f\"{num3} is even numder\")\n",
    "    else:\n",
    "        print(f\"{num1} is odd numder\")\n",
    "except Exception as e:\n",
    "    print(e)"
   ]
  },
  {
   "cell_type": "code",
   "execution_count": 59,
   "id": "ba9f3f7f-f130-4e2b-bf10-fed5c142d072",
   "metadata": {},
   "outputs": [
    {
     "data": {
      "text/plain": [
       "0"
      ]
     },
     "execution_count": 59,
     "metadata": {},
     "output_type": "execute_result"
    }
   ],
   "source": [
    "3//4"
   ]
  },
  {
   "cell_type": "code",
   "execution_count": 61,
   "id": "320b9618-b548-49e2-97bd-58ed79bd4d10",
   "metadata": {},
   "outputs": [
    {
     "data": {
      "text/plain": [
       "0.75"
      ]
     },
     "execution_count": 61,
     "metadata": {},
     "output_type": "execute_result"
    }
   ],
   "source": [
    "3/4"
   ]
  },
  {
   "cell_type": "code",
   "execution_count": 65,
   "id": "4b3cafd4-b597-4728-9846-99094ae481f6",
   "metadata": {},
   "outputs": [
    {
     "data": {
      "text/plain": [
       "16"
      ]
     },
     "execution_count": 65,
     "metadata": {},
     "output_type": "execute_result"
    }
   ],
   "source": [
    "def sqrt(a):\n",
    "    return(a*a)\n",
    "sqrt(4)"
   ]
  },
  {
   "cell_type": "code",
   "execution_count": 67,
   "id": "59dad702-bb8d-42ac-a953-740450a35b28",
   "metadata": {},
   "outputs": [],
   "source": [
    "import pandas as pd"
   ]
  },
  {
   "cell_type": "code",
   "execution_count": null,
   "id": "a7a474d4-66df-4bd0-a17d-fe8dfc775b1d",
   "metadata": {},
   "outputs": [],
   "source": []
  }
 ],
 "metadata": {
  "kernelspec": {
   "display_name": "Python [conda env:base] *",
   "language": "python",
   "name": "conda-base-py"
  },
  "language_info": {
   "codemirror_mode": {
    "name": "ipython",
    "version": 3
   },
   "file_extension": ".py",
   "mimetype": "text/x-python",
   "name": "python",
   "nbconvert_exporter": "python",
   "pygments_lexer": "ipython3",
   "version": "3.12.7"
  }
 },
 "nbformat": 4,
 "nbformat_minor": 5
}
