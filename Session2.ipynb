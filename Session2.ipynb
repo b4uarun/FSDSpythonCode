{
 "cells": [
  {
   "cell_type": "code",
   "execution_count": 5,
   "id": "d091d3d6-3972-438f-8bad-aca800038c75",
   "metadata": {},
   "outputs": [
    {
     "data": {
      "text/plain": [
       "'C:\\\\Users\\\\naidu\\\\Documents\\\\NIT_DS\\\\Python_Session'"
      ]
     },
     "execution_count": 5,
     "metadata": {},
     "output_type": "execute_result"
    }
   ],
   "source": [
    "import os\n",
    "os.getcwd()\n",
    "# to get current working directory "
   ]
  },
  {
   "cell_type": "code",
   "execution_count": null,
   "id": "2a40f88a-5cff-4d20-a7de-817e55fe5ea4",
   "metadata": {},
   "outputs": [],
   "source": [
    "num=100"
   ]
  },
  {
   "cell_type": "code",
   "execution_count": 7,
   "id": "894fbfbf-0df8-498f-be73-55b1a1fa5427",
   "metadata": {},
   "outputs": [
    {
     "ename": "NameError",
     "evalue": "name 'num' is not defined",
     "output_type": "error",
     "traceback": [
      "\u001b[1;31m---------------------------------------------------------------------------\u001b[0m",
      "\u001b[1;31mNameError\u001b[0m                                 Traceback (most recent call last)",
      "Cell \u001b[1;32mIn[7], line 1\u001b[0m\n\u001b[1;32m----> 1\u001b[0m num\n",
      "\u001b[1;31mNameError\u001b[0m: name 'num' is not defined"
     ]
    }
   ],
   "source": [
    "num"
   ]
  },
  {
   "cell_type": "code",
   "execution_count": 9,
   "id": "0e52453a-e3c2-4b6e-a105-d64fe90ff7d1",
   "metadata": {},
   "outputs": [],
   "source": [
    "num=200"
   ]
  },
  {
   "cell_type": "code",
   "execution_count": 11,
   "id": "01dd1482-fde9-49dc-9200-afac5480eb8d",
   "metadata": {},
   "outputs": [
    {
     "data": {
      "text/plain": [
       "200"
      ]
     },
     "execution_count": 11,
     "metadata": {},
     "output_type": "execute_result"
    }
   ],
   "source": [
    "num"
   ]
  },
  {
   "cell_type": "code",
   "execution_count": 13,
   "id": "006f05ea-874e-4df3-ae21-e972a16d690a",
   "metadata": {},
   "outputs": [
    {
     "ename": "SyntaxError",
     "evalue": "invalid syntax (1238153306.py, line 1)",
     "output_type": "error",
     "traceback": [
      "\u001b[1;36m  Cell \u001b[1;32mIn[13], line 1\u001b[1;36m\u001b[0m\n\u001b[1;33m    hello i am learning python\u001b[0m\n\u001b[1;37m          ^\u001b[0m\n\u001b[1;31mSyntaxError\u001b[0m\u001b[1;31m:\u001b[0m invalid syntax\n"
     ]
    }
   ],
   "source": [
    "hello i am learning python\n",
    "Suare bracket is there: yes\n",
    "Code mode is there : yes\n",
    "if these two are there then it is writing code only\n",
    "if you right english, the i wil through error "
   ]
  },
  {
   "cell_type": "markdown",
   "id": "d203b471-38a8-4761-8e41-5fa1061d1a5a",
   "metadata": {},
   "source": [
    "Go to top code mode and click drop dowm and select mard down option then we cant see Square mark:"
   ]
  },
  {
   "cell_type": "markdown",
   "id": "e65ef3b5-3433-4165-a558-00cfafbc339a",
   "metadata": {},
   "source": [
    "# Python"
   ]
  },
  {
   "cell_type": "markdown",
   "id": "0f3c3ceb-d94d-4b30-bf7f-aa4df30a0452",
   "metadata": {},
   "source": [
    "# esc+m will change code to mark down"
   ]
  },
  {
   "cell_type": "code",
   "execution_count": 21,
   "id": "7f92a608-dadd-43a0-9bed-b58b8678a47c",
   "metadata": {},
   "outputs": [],
   "source": [
    "# esc + y will change mark down mode to code mode"
   ]
  },
  {
   "cell_type": "markdown",
   "id": "1d563e94-3713-492d-a12b-612d9fb3eb29",
   "metadata": {},
   "source": [
    "# Python \n",
    "- esc+m will change code to mark down\n",
    "- esc + y will change mark down mode to code mode\n",
    "- \"-\" with space will give bullet points"
   ]
  },
  {
   "cell_type": "markdown",
   "id": "5a5b5b4a-1ac7-4763-9ad0-36ee709ab288",
   "metadata": {},
   "source": [
    "# python\n",
    "## python\n",
    "### python\n",
    "#### python"
   ]
  },
  {
   "cell_type": "markdown",
   "id": "9471820d-9cd8-4de3-b0f0-4d6eec1821d8",
   "metadata": {},
   "source": [
    "<img id=\"dimg_w3ZzZ7bbE6jR1e8PpMefqAg_353\" src=\"https://encrypted-tbn0.gstatic.com/images?q=tbn:ANd9GcRa1tvhLP-wL_2G14zWiCEuu9zf1Q9HbYGq_g&amp;s\" class=\"YQ4gaf\" height=\"183\" style=\"object-position:16% 0%\" width=\"275\" alt=\"Your Coding Journey Starts with Python ...\" data-csiid=\"w3ZzZ7bbE6jR1e8PpMefqAg_109\" data-atf=\"4\" data-ilt=\"1735620312345\" data-deferred=\"3\">"
   ]
  },
  {
   "cell_type": "code",
   "execution_count": null,
   "id": "b0fbea85-3050-46d0-9b7d-34ab083e839b",
   "metadata": {},
   "outputs": [],
   "source": []
  }
 ],
 "metadata": {
  "kernelspec": {
   "display_name": "Python [conda env:base] *",
   "language": "python",
   "name": "conda-base-py"
  },
  "language_info": {
   "codemirror_mode": {
    "name": "ipython",
    "version": 3
   },
   "file_extension": ".py",
   "mimetype": "text/x-python",
   "name": "python",
   "nbconvert_exporter": "python",
   "pygments_lexer": "ipython3",
   "version": "3.12.7"
  }
 },
 "nbformat": 4,
 "nbformat_minor": 5
}
