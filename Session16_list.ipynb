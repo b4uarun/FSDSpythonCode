{
 "cells": [
  {
   "cell_type": "markdown",
   "id": "150e7b79-2c54-48ed-8520-cd7148c289ed",
   "metadata": {},
   "source": [
    "**list**"
   ]
  },
  {
   "cell_type": "markdown",
   "id": "29276b30-d775-4df3-9102-c455c9fcdd58",
   "metadata": {},
   "source": [
    "- strings element in quotes, list elements in []"
   ]
  },
  {
   "cell_type": "code",
   "execution_count": 3,
   "id": "dd20f316-d228-4247-b9f2-3a0aa1649c73",
   "metadata": {},
   "outputs": [
    {
     "name": "stdout",
     "output_type": "stream",
     "text": [
      "[1, 2, 3, 45]\n"
     ]
    }
   ],
   "source": [
    "list1=[1,2,3,45]\n",
    "print(list1)"
   ]
  },
  {
   "cell_type": "code",
   "execution_count": 7,
   "id": "8b6fdfe3-e6ca-482a-b8d6-800abf5040fd",
   "metadata": {},
   "outputs": [
    {
     "data": {
      "text/plain": [
       "list"
      ]
     },
     "execution_count": 7,
     "metadata": {},
     "output_type": "execute_result"
    }
   ],
   "source": [
    "type(list1)"
   ]
  },
  {
   "cell_type": "code",
   "execution_count": 11,
   "id": "94df8500-73ce-4831-a0dc-2e7de820f9e2",
   "metadata": {},
   "outputs": [
    {
     "name": "stdout",
     "output_type": "stream",
     "text": [
      "['a', 'b', 'c']\n"
     ]
    }
   ],
   "source": [
    "list2=['a','b','c']\n",
    "print(list2)"
   ]
  },
  {
   "cell_type": "code",
   "execution_count": 13,
   "id": "9896a911-5197-4bc9-b29a-78ba59453fc0",
   "metadata": {},
   "outputs": [
    {
     "name": "stdout",
     "output_type": "stream",
     "text": [
      "[1, 2, 3, 45, 'a', 'b', 'c']\n"
     ]
    }
   ],
   "source": [
    "list3=list1+list2\n",
    "print(list3)"
   ]
  },
  {
   "cell_type": "code",
   "execution_count": 17,
   "id": "0142c53c-f5f1-4c32-ad4f-fbfacee15372",
   "metadata": {},
   "outputs": [
    {
     "name": "stdout",
     "output_type": "stream",
     "text": [
      "[[1, 2, 3, 45], ['a', 'b', 'c'], [1, 2, 3, 45, 'a', 'b', 'c']]\n"
     ]
    }
   ],
   "source": [
    "list4=[list1,list2,list3]\n",
    "print(list4)"
   ]
  },
  {
   "cell_type": "code",
   "execution_count": 19,
   "id": "84a453a4-1943-469e-a8bf-a2e8a6e2905f",
   "metadata": {},
   "outputs": [
    {
     "name": "stdout",
     "output_type": "stream",
     "text": [
      "[[1, 2, 3, 45], ['a', 'b', 'c'], [1, 2, 3, 45, 'a', 'b', 'c'], 'python', 'my name is arun']\n"
     ]
    }
   ],
   "source": [
    "str1='python'\n",
    "str2='my name is arun'\n",
    "list5=[list1,list2,list3,str1,str2]\n",
    "print(list5)"
   ]
  },
  {
   "cell_type": "code",
   "execution_count": 21,
   "id": "34948261-2862-4fbf-843e-67578bcfcba1",
   "metadata": {},
   "outputs": [
    {
     "name": "stdout",
     "output_type": "stream",
     "text": [
      "[10, 10, 10]\n"
     ]
    }
   ],
   "source": [
    "list6=[10,10,10]\n",
    "print(list6)"
   ]
  },
  {
   "cell_type": "code",
   "execution_count": 23,
   "id": "aa9d65b5-6b45-4e11-a901-3b3d9406cf50",
   "metadata": {},
   "outputs": [
    {
     "name": "stdout",
     "output_type": "stream",
     "text": [
      "['{\"dataframes\": [], \"user\": \"naidu\"}']\n"
     ]
    }
   ],
   "source": [
    "list7=[_]\n",
    "print(list7)"
   ]
  },
  {
   "cell_type": "code",
   "execution_count": 25,
   "id": "6e8d28bb-888a-4651-b53d-66af0195d523",
   "metadata": {},
   "outputs": [
    {
     "data": {
      "text/plain": [
       "['__add__',\n",
       " '__class__',\n",
       " '__class_getitem__',\n",
       " '__contains__',\n",
       " '__delattr__',\n",
       " '__delitem__',\n",
       " '__dir__',\n",
       " '__doc__',\n",
       " '__eq__',\n",
       " '__format__',\n",
       " '__ge__',\n",
       " '__getattribute__',\n",
       " '__getitem__',\n",
       " '__getstate__',\n",
       " '__gt__',\n",
       " '__hash__',\n",
       " '__iadd__',\n",
       " '__imul__',\n",
       " '__init__',\n",
       " '__init_subclass__',\n",
       " '__iter__',\n",
       " '__le__',\n",
       " '__len__',\n",
       " '__lt__',\n",
       " '__mul__',\n",
       " '__ne__',\n",
       " '__new__',\n",
       " '__reduce__',\n",
       " '__reduce_ex__',\n",
       " '__repr__',\n",
       " '__reversed__',\n",
       " '__rmul__',\n",
       " '__setattr__',\n",
       " '__setitem__',\n",
       " '__sizeof__',\n",
       " '__str__',\n",
       " '__subclasshook__',\n",
       " 'append',\n",
       " 'clear',\n",
       " 'copy',\n",
       " 'count',\n",
       " 'extend',\n",
       " 'index',\n",
       " 'insert',\n",
       " 'pop',\n",
       " 'remove',\n",
       " 'reverse',\n",
       " 'sort']"
      ]
     },
     "execution_count": 25,
     "metadata": {},
     "output_type": "execute_result"
    }
   ],
   "source": [
    "dir(list1)"
   ]
  },
  {
   "cell_type": "code",
   "execution_count": 29,
   "id": "bc4dc1d3-b85b-4222-98a9-83430d325153",
   "metadata": {},
   "outputs": [
    {
     "name": "stdout",
     "output_type": "stream",
     "text": [
      "[10, 20, 2, 5, 75, ['Apple', 'apple', 'Cherry', 'banana']]\n",
      "['Apple', 'apple', 'Cherry', 'banana']\n",
      "None\n"
     ]
    }
   ],
   "source": [
    "list1=[10,20,2,5,75]\n",
    "list2=['Apple', 'apple', 'Cherry', 'banana']\n",
    "list3=list1.append(list2)\n",
    "print(list1)\n",
    "print(list2)\n",
    "print(list3)"
   ]
  },
  {
   "cell_type": "code",
   "execution_count": 53,
   "id": "19245ae2-a78f-44c8-8a4a-2e1dc2aa65e3",
   "metadata": {},
   "outputs": [
    {
     "name": "stdout",
     "output_type": "stream",
     "text": [
      "[10, 20, 2, 5, 75]\n"
     ]
    }
   ],
   "source": [
    "list1=[10,20,2,5,75]\n",
    "print(list1)"
   ]
  },
  {
   "cell_type": "code",
   "execution_count": 55,
   "id": "b44a5a6f-31d5-46e5-b204-a1647d909a3b",
   "metadata": {},
   "outputs": [
    {
     "name": "stdout",
     "output_type": "stream",
     "text": [
      "['Apple', 'apple', 'Cherry', 'banana']\n"
     ]
    }
   ],
   "source": [
    "list2=['Apple', 'apple', 'Cherry', 'banana']\n",
    "print(list2)"
   ]
  },
  {
   "cell_type": "code",
   "execution_count": 57,
   "id": "5466c790-1832-4215-8464-f21866fbc9c0",
   "metadata": {},
   "outputs": [
    {
     "data": {
      "text/plain": [
       "[10, 20, 2, 5, 75, 85]"
      ]
     },
     "execution_count": 57,
     "metadata": {},
     "output_type": "execute_result"
    }
   ],
   "source": [
    "list1.append(85)\n",
    "list1"
   ]
  },
  {
   "cell_type": "code",
   "execution_count": 59,
   "id": "401995a7-fbff-4bfb-8e59-86c9bf0d20ca",
   "metadata": {},
   "outputs": [],
   "source": [
    "list4=list1.clear()\n",
    "list4"
   ]
  },
  {
   "cell_type": "code",
   "execution_count": 61,
   "id": "5f747ec3-b2cc-42fa-9120-1df21e74af16",
   "metadata": {},
   "outputs": [
    {
     "data": {
      "text/plain": [
       "[]"
      ]
     },
     "execution_count": 61,
     "metadata": {},
     "output_type": "execute_result"
    }
   ],
   "source": [
    "list1"
   ]
  },
  {
   "cell_type": "code",
   "execution_count": 63,
   "id": "88c6415b-ef50-435f-8aa2-31df4321fd90",
   "metadata": {},
   "outputs": [],
   "source": [
    "list1=[10,20,2,5,75]\n",
    "list1.extend(list2)"
   ]
  },
  {
   "cell_type": "code",
   "execution_count": 65,
   "id": "eed4997a-7745-46b3-8717-21ddc3df8ae3",
   "metadata": {},
   "outputs": [
    {
     "data": {
      "text/plain": [
       "[10, 20, 2, 5, 75, 'Apple', 'apple', 'Cherry', 'banana']"
      ]
     },
     "execution_count": 65,
     "metadata": {},
     "output_type": "execute_result"
    }
   ],
   "source": [
    "list1"
   ]
  },
  {
   "cell_type": "code",
   "execution_count": 69,
   "id": "5e5d67e1-43e0-4d27-beb4-dee8960bd74b",
   "metadata": {},
   "outputs": [
    {
     "ename": "TypeError",
     "evalue": "unsupported operand type(s) for +: 'int' and 'str'",
     "output_type": "error",
     "traceback": [
      "\u001b[1;31m---------------------------------------------------------------------------\u001b[0m",
      "\u001b[1;31mTypeError\u001b[0m                                 Traceback (most recent call last)",
      "Cell \u001b[1;32mIn[69], line 1\u001b[0m\n\u001b[1;32m----> 1\u001b[0m \u001b[38;5;28msum\u001b[39m(list2)\n",
      "\u001b[1;31mTypeError\u001b[0m: unsupported operand type(s) for +: 'int' and 'str'"
     ]
    }
   ],
   "source": [
    "sum(list2)"
   ]
  },
  {
   "cell_type": "code",
   "execution_count": 71,
   "id": "d9933624-64e6-46ef-9174-0b4298250ded",
   "metadata": {},
   "outputs": [
    {
     "ename": "TypeError",
     "evalue": "unsupported operand type(s) for +: 'int' and 'str'",
     "output_type": "error",
     "traceback": [
      "\u001b[1;31m---------------------------------------------------------------------------\u001b[0m",
      "\u001b[1;31mTypeError\u001b[0m                                 Traceback (most recent call last)",
      "Cell \u001b[1;32mIn[71], line 1\u001b[0m\n\u001b[1;32m----> 1\u001b[0m \u001b[38;5;28msum\u001b[39m(list1)\n",
      "\u001b[1;31mTypeError\u001b[0m: unsupported operand type(s) for +: 'int' and 'str'"
     ]
    }
   ],
   "source": [
    "sum(list1)"
   ]
  },
  {
   "cell_type": "code",
   "execution_count": 73,
   "id": "f9ed7dc0-adfe-4c76-8c4c-c5e3bdc5cdb4",
   "metadata": {},
   "outputs": [
    {
     "name": "stdout",
     "output_type": "stream",
     "text": [
      "[10, 20, 2, 5, 75]\n"
     ]
    }
   ],
   "source": [
    "list1=[10,20,2,5,75]\n",
    "print(list1)"
   ]
  },
  {
   "cell_type": "code",
   "execution_count": 75,
   "id": "87b01d72-c5a5-45de-96f4-d6e92a047e54",
   "metadata": {},
   "outputs": [
    {
     "name": "stdout",
     "output_type": "stream",
     "text": [
      "['Apple', 'apple', 'Cherry', 'banana']\n"
     ]
    }
   ],
   "source": [
    "list2=['Apple', 'apple', 'Cherry', 'banana']\n",
    "print(list2)"
   ]
  },
  {
   "cell_type": "markdown",
   "id": "a4d13f23-6456-4672-9e5d-c820a8476a16",
   "metadata": {},
   "source": [
    "**Concatination**\n",
    "    "
   ]
  },
  {
   "cell_type": "code",
   "execution_count": 78,
   "id": "6714ce3d-586c-4d3c-a3d1-9a6bbbd877e4",
   "metadata": {},
   "outputs": [
    {
     "data": {
      "text/plain": [
       "[10, 20, 2, 5, 75, 'Apple', 'apple', 'Cherry', 'banana']"
      ]
     },
     "execution_count": 78,
     "metadata": {},
     "output_type": "execute_result"
    }
   ],
   "source": [
    "list1+list2"
   ]
  },
  {
   "cell_type": "code",
   "execution_count": 80,
   "id": "e499a46a-92ea-4495-a047-9871193e8816",
   "metadata": {},
   "outputs": [
    {
     "ename": "TypeError",
     "evalue": "unsupported operand type(s) for -: 'list' and 'list'",
     "output_type": "error",
     "traceback": [
      "\u001b[1;31m---------------------------------------------------------------------------\u001b[0m",
      "\u001b[1;31mTypeError\u001b[0m                                 Traceback (most recent call last)",
      "Cell \u001b[1;32mIn[80], line 1\u001b[0m\n\u001b[1;32m----> 1\u001b[0m list1\u001b[38;5;241m-\u001b[39mlist2\n",
      "\u001b[1;31mTypeError\u001b[0m: unsupported operand type(s) for -: 'list' and 'list'"
     ]
    }
   ],
   "source": [
    "list1-list2"
   ]
  },
  {
   "cell_type": "code",
   "execution_count": 82,
   "id": "b3b969a8-ae4f-4b8c-ac08-320d4b766b36",
   "metadata": {},
   "outputs": [
    {
     "ename": "TypeError",
     "evalue": "unsupported operand type(s) for /: 'list' and 'list'",
     "output_type": "error",
     "traceback": [
      "\u001b[1;31m---------------------------------------------------------------------------\u001b[0m",
      "\u001b[1;31mTypeError\u001b[0m                                 Traceback (most recent call last)",
      "Cell \u001b[1;32mIn[82], line 1\u001b[0m\n\u001b[1;32m----> 1\u001b[0m list1\u001b[38;5;241m/\u001b[39mlist2\n",
      "\u001b[1;31mTypeError\u001b[0m: unsupported operand type(s) for /: 'list' and 'list'"
     ]
    }
   ],
   "source": [
    "list1/list2"
   ]
  },
  {
   "cell_type": "code",
   "execution_count": 84,
   "id": "fed03d9b-3d4b-4929-adbb-041c3cb3bb0e",
   "metadata": {},
   "outputs": [
    {
     "data": {
      "text/plain": [
       "[10, 20, 2, 5, 75, 10, 20, 2, 5, 75]"
      ]
     },
     "execution_count": 84,
     "metadata": {},
     "output_type": "execute_result"
    }
   ],
   "source": [
    "list1*2"
   ]
  },
  {
   "cell_type": "code",
   "execution_count": 86,
   "id": "778d4f87-687c-4a8f-a17e-c61f44df2ff4",
   "metadata": {},
   "outputs": [
    {
     "ename": "TypeError",
     "evalue": "can't multiply sequence by non-int of type 'list'",
     "output_type": "error",
     "traceback": [
      "\u001b[1;31m---------------------------------------------------------------------------\u001b[0m",
      "\u001b[1;31mTypeError\u001b[0m                                 Traceback (most recent call last)",
      "Cell \u001b[1;32mIn[86], line 1\u001b[0m\n\u001b[1;32m----> 1\u001b[0m list1\u001b[38;5;241m*\u001b[39mlist2\n",
      "\u001b[1;31mTypeError\u001b[0m: can't multiply sequence by non-int of type 'list'"
     ]
    }
   ],
   "source": [
    "list1*list2"
   ]
  },
  {
   "cell_type": "markdown",
   "id": "df128347-36b8-4158-bda5-f7f73cbf7671",
   "metadata": {},
   "source": [
    "**INDEX**"
   ]
  },
  {
   "cell_type": "code",
   "execution_count": 89,
   "id": "c6e7e6c1-ed39-44c6-ada1-73f8ce45f850",
   "metadata": {},
   "outputs": [],
   "source": [
    "list1=[10,20,30,'A', 'B', 'C']"
   ]
  },
  {
   "cell_type": "code",
   "execution_count": null,
   "id": "a8a7987c-96e1-4232-a349-fe29c8603ef8",
   "metadata": {},
   "outputs": [],
   "source": [
    "#-6\n",
    "#10,20,30,'A', 'B', 'C'\n",
    "#0,1  ,2 , 3 , 4  ,  5"
   ]
  },
  {
   "cell_type": "code",
   "execution_count": 107,
   "id": "8934aa30-f28e-41c0-a145-8c749c5fa27a",
   "metadata": {},
   "outputs": [
    {
     "name": "stdout",
     "output_type": "stream",
     "text": [
      "Positive  index of 10 is 0 and negetive index is -6\n",
      "Positive  index of 20 is 1 and negetive index is -5\n",
      "Positive  index of 30 is 2 and negetive index is -4\n",
      "Positive  index of A is 3 and negetive index is -3\n",
      "Positive  index of B is 4 and negetive index is -2\n",
      "Positive  index of C is 5 and negetive index is -1\n"
     ]
    }
   ],
   "source": [
    "for i in range(len(list1)):\n",
    "    print(f\"Positive  index of {list1[i]} is {i} and negetive index is {i-len(list1)}\" )"
   ]
  },
  {
   "cell_type": "code",
   "execution_count": 115,
   "id": "e82e1125-cb23-44ed-bbbc-dbdd984b4d8c",
   "metadata": {},
   "outputs": [
    {
     "data": {
      "text/plain": [
       "[10]"
      ]
     },
     "execution_count": 115,
     "metadata": {},
     "output_type": "execute_result"
    }
   ],
   "source": [
    "list1=[[10]]\n",
    "list[0]"
   ]
  },
  {
   "cell_type": "code",
   "execution_count": 117,
   "id": "39e785ce-93fd-4366-9958-5f05f5b6baa5",
   "metadata": {},
   "outputs": [
    {
     "data": {
      "text/plain": [
       "10"
      ]
     },
     "execution_count": 117,
     "metadata": {},
     "output_type": "execute_result"
    }
   ],
   "source": [
    "list1[0][0]"
   ]
  },
  {
   "cell_type": "code",
   "execution_count": 119,
   "id": "209509df-7d73-4543-8b03-a12b63334152",
   "metadata": {},
   "outputs": [
    {
     "data": {
      "text/plain": [
       "1"
      ]
     },
     "execution_count": 119,
     "metadata": {},
     "output_type": "execute_result"
    }
   ],
   "source": [
    "len(list1)"
   ]
  },
  {
   "cell_type": "code",
   "execution_count": 121,
   "id": "24da42b0-53c7-453b-90e2-c14a08b06c5f",
   "metadata": {},
   "outputs": [
    {
     "data": {
      "text/plain": [
       "'C'"
      ]
     },
     "execution_count": 121,
     "metadata": {},
     "output_type": "execute_result"
    }
   ],
   "source": [
    "list1=[10,20,30,['A', 'B', 'C']]\n",
    "list1[3][2]"
   ]
  },
  {
   "cell_type": "code",
   "execution_count": 123,
   "id": "0adf4459-a0a1-4e82-b602-1a55ead135d1",
   "metadata": {},
   "outputs": [
    {
     "data": {
      "text/plain": [
       "'Cherry'"
      ]
     },
     "execution_count": 123,
     "metadata": {},
     "output_type": "execute_result"
    }
   ],
   "source": [
    "list1=['A',['Apple','B',['Banana','C',['Cherry','D',['Dragon fruite']]]]]\n",
    "list1[1][2][2][0]"
   ]
  },
  {
   "cell_type": "code",
   "execution_count": 127,
   "id": "1961e281-74b1-49fe-b071-0d211adb420a",
   "metadata": {},
   "outputs": [
    {
     "data": {
      "text/plain": [
       "['Bat']"
      ]
     },
     "execution_count": 127,
     "metadata": {},
     "output_type": "execute_result"
    }
   ],
   "source": [
    "list1=['Apple',['Kashmir',['India',['Criket',['Bat']]]]]\n",
    "\n",
    "list1[1][1][1][1]"
   ]
  },
  {
   "cell_type": "code",
   "execution_count": 1,
   "id": "bafc6963-a62f-4808-8d5f-c7669fcbd03d",
   "metadata": {},
   "outputs": [
    {
     "name": "stdout",
     "output_type": "stream",
     "text": [
      "10\n",
      "75\n",
      "[75]\n",
      "[10, 20, 2, 5]\n",
      "20\n",
      "20\n",
      "[75, 20]\n",
      "[10, 2, 5]\n",
      "5\n",
      "10\n",
      "[75, 20, 10]\n",
      "[2, 5]\n",
      "[75, 20, 10]\n"
     ]
    }
   ],
   "source": [
    "list1=[10,20,2,5,75]\n",
    "listtemp1=list1\n",
    "listsort=[]\n",
    "for i in list1:\n",
    "    print(i)\n",
    "    listsort=listsort+[max(listtemp1)]\n",
    "    print(max(listtemp1))\n",
    "    print(listsort)\n",
    "    listtemp1.remove(max(listtemp1))\n",
    "    print(listtemp1)\n",
    "print(listsort)"
   ]
  },
  {
   "cell_type": "markdown",
   "id": "82e5026a-b7b4-45d9-90fc-9a9a59ce314e",
   "metadata": {},
   "source": [
    "**in vs Range operator**"
   ]
  },
  {
   "cell_type": "markdown",
   "id": "3f077c53-51c1-4fae-ab92-879a62fe5174",
   "metadata": {},
   "source": [
    "- index go for range\n",
    "- elements then go with in"
   ]
  },
  {
   "cell_type": "markdown",
   "id": "4f2356f1-0c8d-4817-bfdb-4a79cd2f1e00",
   "metadata": {},
   "source": [
    "**mutable vs immutable**"
   ]
  },
  {
   "cell_type": "code",
   "execution_count": 4,
   "id": "cf14082f-75e2-41a3-829b-9d7bca98693e",
   "metadata": {
    "scrolled": true
   },
   "outputs": [
    {
     "data": {
      "text/plain": [
       "[200, 20, 2, 5, 75]"
      ]
     },
     "execution_count": 4,
     "metadata": {},
     "output_type": "execute_result"
    }
   ],
   "source": [
    "list1=[10,20,2,5,75]\n",
    "list1[0]=200\n",
    "list1"
   ]
  },
  {
   "cell_type": "markdown",
   "id": "0df03374-b24c-43b2-81ea-a3564e1207fd",
   "metadata": {},
   "source": [
    "- List are mutable"
   ]
  },
  {
   "cell_type": "markdown",
   "id": "ec0416ab-c8b8-47f7-8f36-46a3c015b3e3",
   "metadata": {},
   "source": [
    "**slice**"
   ]
  },
  {
   "cell_type": "code",
   "execution_count": 21,
   "id": "05ac0af3-5ca7-4001-9dee-3ddccfac1e45",
   "metadata": {},
   "outputs": [
    {
     "data": {
      "text/plain": [
       "[]"
      ]
     },
     "execution_count": 21,
     "metadata": {},
     "output_type": "execute_result"
    }
   ],
   "source": [
    "l1=[10,20,30,40,50,'a','b','c','d', 'e', 'apple','banana']\n",
    "l1[:] # all elements\n",
    "l1[::] # all elements\n",
    "l1[::-1] # reverse order all elements\n",
    "l1[2:10:2] # start=2 stop=10-1 step =2 [30, 50, 'b', 'd']\n",
    "l1[2:10:-2] # no o/p\n",
    "l1[2:-10:-2] # no o/p\n",
    "l1[-2:10:-2] # no o/p"
   ]
  },
  {
   "cell_type": "markdown",
   "id": "904e4695-2797-416e-818e-f45aca469e5e",
   "metadata": {},
   "source": [
    "**methods**"
   ]
  },
  {
   "cell_type": "code",
   "execution_count": 26,
   "id": "bb3553a7-83a7-4e52-bea2-d0364a483f77",
   "metadata": {},
   "outputs": [
    {
     "data": {
      "text/plain": [
       "['__add__',\n",
       " '__class__',\n",
       " '__class_getitem__',\n",
       " '__contains__',\n",
       " '__delattr__',\n",
       " '__delitem__',\n",
       " '__dir__',\n",
       " '__doc__',\n",
       " '__eq__',\n",
       " '__format__',\n",
       " '__ge__',\n",
       " '__getattribute__',\n",
       " '__getitem__',\n",
       " '__getstate__',\n",
       " '__gt__',\n",
       " '__hash__',\n",
       " '__iadd__',\n",
       " '__imul__',\n",
       " '__init__',\n",
       " '__init_subclass__',\n",
       " '__iter__',\n",
       " '__le__',\n",
       " '__len__',\n",
       " '__lt__',\n",
       " '__mul__',\n",
       " '__ne__',\n",
       " '__new__',\n",
       " '__reduce__',\n",
       " '__reduce_ex__',\n",
       " '__repr__',\n",
       " '__reversed__',\n",
       " '__rmul__',\n",
       " '__setattr__',\n",
       " '__setitem__',\n",
       " '__sizeof__',\n",
       " '__str__',\n",
       " '__subclasshook__',\n",
       " 'append',\n",
       " 'clear',\n",
       " 'copy',\n",
       " 'count',\n",
       " 'extend',\n",
       " 'index',\n",
       " 'insert',\n",
       " 'pop',\n",
       " 'remove',\n",
       " 'reverse',\n",
       " 'sort']"
      ]
     },
     "execution_count": 26,
     "metadata": {},
     "output_type": "execute_result"
    }
   ],
   "source": [
    "dir([])"
   ]
  },
  {
   "cell_type": "code",
   "execution_count": 36,
   "id": "671eb650-3a53-497a-a2b9-21abf852c3d6",
   "metadata": {},
   "outputs": [
    {
     "name": "stdout",
     "output_type": "stream",
     "text": [
      "[10, 20, 30, 40, 50, 10, 'a', 'b', 'c', 'd', 'e', 'apple', 'banana']\n",
      "2\n",
      "[]\n"
     ]
    }
   ],
   "source": [
    "l1=[10,20,30,40,50, 10,'a','b','c','d', 'e', 'apple','banana']\n",
    "l2=l1.copy()\n",
    "print(l2)\n",
    "print(l1.count(10))\n",
    "l2.clear()\n",
    "print(l2)"
   ]
  },
  {
   "cell_type": "markdown",
   "id": "d0f36318-3b0c-4c53-8353-86261b6863e6",
   "metadata": {},
   "source": [
    "**append**"
   ]
  },
  {
   "cell_type": "code",
   "execution_count": 39,
   "id": "1fb91538-0e96-4004-9340-ebe400136555",
   "metadata": {},
   "outputs": [],
   "source": [
    "l1=[10,20,30,40,50]\n",
    "l1.append('apple')"
   ]
  },
  {
   "cell_type": "code",
   "execution_count": 41,
   "id": "41e6bd5c-b80a-457d-8e6a-cb4380f721ce",
   "metadata": {},
   "outputs": [
    {
     "data": {
      "text/plain": [
       "[10, 20, 30, 40, 50, 'apple']"
      ]
     },
     "execution_count": 41,
     "metadata": {},
     "output_type": "execute_result"
    }
   ],
   "source": [
    "l1"
   ]
  },
  {
   "cell_type": "code",
   "execution_count": 46,
   "id": "5d0e5072-e57a-481d-884b-f450e818f71e",
   "metadata": {},
   "outputs": [
    {
     "ename": "TypeError",
     "evalue": "list.append() takes exactly one argument (2 given)",
     "output_type": "error",
     "traceback": [
      "\u001b[1;31m---------------------------------------------------------------------------\u001b[0m",
      "\u001b[1;31mTypeError\u001b[0m                                 Traceback (most recent call last)",
      "Cell \u001b[1;32mIn[46], line 2\u001b[0m\n\u001b[0;32m      1\u001b[0m l1\u001b[38;5;241m=\u001b[39m[\u001b[38;5;241m10\u001b[39m,\u001b[38;5;241m20\u001b[39m,\u001b[38;5;241m30\u001b[39m,\u001b[38;5;241m40\u001b[39m,\u001b[38;5;241m50\u001b[39m]\n\u001b[1;32m----> 2\u001b[0m l1\u001b[38;5;241m.\u001b[39mappend(\u001b[38;5;124m'\u001b[39m\u001b[38;5;124mbanana\u001b[39m\u001b[38;5;124m'\u001b[39m, \u001b[38;5;124m'\u001b[39m\u001b[38;5;124morange\u001b[39m\u001b[38;5;124m'\u001b[39m)\n\u001b[0;32m      3\u001b[0m l1\n",
      "\u001b[1;31mTypeError\u001b[0m: list.append() takes exactly one argument (2 given)"
     ]
    }
   ],
   "source": [
    "l1=[10,20,30,40,50]\n",
    "l1.append('banana', 'orange')\n",
    "l1"
   ]
  },
  {
   "cell_type": "code",
   "execution_count": 43,
   "id": "4eaf6a5c-8f05-4f18-9511-b36579ed1f8d",
   "metadata": {},
   "outputs": [
    {
     "data": {
      "text/plain": [
       "[10, 20, 30, 40, 50, 'apple', ['banana', 'orange']]"
      ]
     },
     "execution_count": 43,
     "metadata": {},
     "output_type": "execute_result"
    }
   ],
   "source": [
    "l1.append(['banana', 'orange'])\n",
    "l1"
   ]
  },
  {
   "cell_type": "markdown",
   "id": "ce3a7d53-467e-4a86-863b-3959b4f1d189",
   "metadata": {},
   "source": [
    "- Always recall if you see any any multiple values then keep those values in a list"
   ]
  },
  {
   "cell_type": "markdown",
   "id": "8f035be9-544b-407b-99e6-07395d6549d1",
   "metadata": {},
   "source": [
    "- append method is used to store the output"
   ]
  },
  {
   "cell_type": "markdown",
   "id": "53e0725c-1843-45f6-9b3c-90ffe2244476",
   "metadata": {},
   "source": [
    "- for example , i want to append a numbers from 1 to 5"
   ]
  },
  {
   "cell_type": "code",
   "execution_count": 54,
   "id": "991bbfa7-54ce-40f2-83fe-371e4599f467",
   "metadata": {},
   "outputs": [
    {
     "name": "stdout",
     "output_type": "stream",
     "text": [
      "[1, 2, 3, 4, 5]\n"
     ]
    }
   ],
   "source": [
    "l1=[]\n",
    "for i in range(1,6):\n",
    "    l1.append(i)\n",
    "print(l1) "
   ]
  },
  {
   "cell_type": "code",
   "execution_count": 56,
   "id": "acd9f908-2a5c-4eda-82dd-f86dadbef3b5",
   "metadata": {},
   "outputs": [
    {
     "name": "stdin",
     "output_type": "stream",
     "text": [
      "Enter number: 20\n",
      "Enter number: 30\n",
      "Enter number: 40\n",
      "Enter number: 50\n",
      "Enter number: 60\n"
     ]
    },
    {
     "name": "stdout",
     "output_type": "stream",
     "text": [
      "Squares of given numbers: [400, 900, 1600, 2500, 3600]\n"
     ]
    }
   ],
   "source": [
    "\n",
    "l1=[]\n",
    "for i in range(1,6):\n",
    "    num=eval(input(\"Enter number:\"))\n",
    "    l1.append(num*num)\n",
    "print(\"Squares of given numbers:\",l1) "
   ]
  },
  {
   "cell_type": "code",
   "execution_count": 76,
   "id": "1658341f-14ea-4cd0-a711-b58b51e0cbb9",
   "metadata": {},
   "outputs": [
    {
     "name": "stdout",
     "output_type": "stream",
     "text": [
      "Squares of given numbers: ['77 = 5929', '16 = 256']\n"
     ]
    },
    {
     "data": {
      "text/plain": [
       "'77 = 5929'"
      ]
     },
     "execution_count": 76,
     "metadata": {},
     "output_type": "execute_result"
    }
   ],
   "source": [
    "import random\n",
    "l1=[]\n",
    "for i in range(1,3):\n",
    "    num=random.randint(1,100)\n",
    "    l1.append(f\"{num} = {num*num}\")\n",
    "print(\"Squares of given numbers:\",l1) \n",
    "l1[0]"
   ]
  },
  {
   "cell_type": "code",
   "execution_count": 62,
   "id": "b0dbf608-f8e4-4246-adda-d91b42aeb54b",
   "metadata": {},
   "outputs": [
    {
     "name": "stdout",
     "output_type": "stream",
     "text": [
      "[10, 12] [47, 53, 27]\n"
     ]
    }
   ],
   "source": [
    "l=[10,47,53,12,27]\n",
    "le=[]\n",
    "lo=[]\n",
    "for i in range(len(l)):\n",
    "    if l[i]%2 == 0:\n",
    "        le.append(l[i])\n",
    "    else:\n",
    "        lo.append(l[i])\n",
    "\n",
    "print(le,lo)"
   ]
  },
  {
   "cell_type": "code",
   "execution_count": 66,
   "id": "a11b7e53-a6d2-46c1-a111-2c9f0976b7f5",
   "metadata": {},
   "outputs": [
    {
     "name": "stdout",
     "output_type": "stream",
     "text": [
      "['Hyd', 'Ban', 'Pun', 'Mum']\n"
     ]
    }
   ],
   "source": [
    "l=['hyd','ban','pun','mum']\n",
    "lu=[]\n",
    "for i in range(len(l)):\n",
    "    lu.append(l[i].title())\n",
    "print(lu)"
   ]
  },
  {
   "cell_type": "code",
   "execution_count": 68,
   "id": "9d7cd873-e021-48bb-bee1-f116c9e4cf81",
   "metadata": {},
   "outputs": [
    {
     "name": "stdout",
     "output_type": "stream",
     "text": [
      "['HYD', 'BAN', 'PUN', 'MUM']\n"
     ]
    }
   ],
   "source": [
    "l=['hyd','ban','pun','mum']\n",
    "lu=[]\n",
    "for i in range(len(l)):\n",
    "    lu.append(l[i].upper())\n",
    "print(lu)"
   ]
  },
  {
   "cell_type": "code",
   "execution_count": 70,
   "id": "6c8ee613-a38c-491e-9867-f3c65d0d45ca",
   "metadata": {},
   "outputs": [
    {
     "name": "stdout",
     "output_type": "stream",
     "text": [
      "['ban#galore', 'mum#bai']\n"
     ]
    }
   ],
   "source": [
    "l=['hyd','ban#galore','pun','mum#bai']\n",
    "ls=[]\n",
    "for i in range(len(l)):\n",
    "    if '#' in l[i]:\n",
    "        ls.append(l[i])\n",
    "print(ls)"
   ]
  },
  {
   "cell_type": "code",
   "execution_count": 80,
   "id": "50c7acf3-01a9-44a1-a21b-937925e8b44b",
   "metadata": {},
   "outputs": [
    {
     "name": "stdout",
     "output_type": "stream",
     "text": [
      "['hyd', 'pun']\n"
     ]
    },
    {
     "data": {
      "text/plain": [
       "{'ban#galore', 'hyd', 'mum#bai', 'pun'}"
      ]
     },
     "execution_count": 80,
     "metadata": {},
     "output_type": "execute_result"
    }
   ],
   "source": [
    "l=['hyd','ban#galore','pun','mum#bai']\n",
    "ls=[]\n",
    "lhash=[]\n",
    "for i in range(len(l)):\n",
    "    if '#' in l[i]:\n",
    "        lhash.append(l[i])\n",
    "    else:\n",
    "        ls.append(l[i])\n",
    "print(ls)\n",
    "set(l)"
   ]
  },
  {
   "cell_type": "code",
   "execution_count": 64,
   "id": "3d02d526-cb4d-49f0-b4c1-fe016003c618",
   "metadata": {},
   "outputs": [
    {
     "data": {
      "text/plain": [
       "['__add__',\n",
       " '__class__',\n",
       " '__contains__',\n",
       " '__delattr__',\n",
       " '__dir__',\n",
       " '__doc__',\n",
       " '__eq__',\n",
       " '__format__',\n",
       " '__ge__',\n",
       " '__getattribute__',\n",
       " '__getitem__',\n",
       " '__getnewargs__',\n",
       " '__getstate__',\n",
       " '__gt__',\n",
       " '__hash__',\n",
       " '__init__',\n",
       " '__init_subclass__',\n",
       " '__iter__',\n",
       " '__le__',\n",
       " '__len__',\n",
       " '__lt__',\n",
       " '__mod__',\n",
       " '__mul__',\n",
       " '__ne__',\n",
       " '__new__',\n",
       " '__reduce__',\n",
       " '__reduce_ex__',\n",
       " '__repr__',\n",
       " '__rmod__',\n",
       " '__rmul__',\n",
       " '__setattr__',\n",
       " '__sizeof__',\n",
       " '__str__',\n",
       " '__subclasshook__',\n",
       " 'capitalize',\n",
       " 'casefold',\n",
       " 'center',\n",
       " 'count',\n",
       " 'encode',\n",
       " 'endswith',\n",
       " 'expandtabs',\n",
       " 'find',\n",
       " 'format',\n",
       " 'format_map',\n",
       " 'index',\n",
       " 'isalnum',\n",
       " 'isalpha',\n",
       " 'isascii',\n",
       " 'isdecimal',\n",
       " 'isdigit',\n",
       " 'isidentifier',\n",
       " 'islower',\n",
       " 'isnumeric',\n",
       " 'isprintable',\n",
       " 'isspace',\n",
       " 'istitle',\n",
       " 'isupper',\n",
       " 'join',\n",
       " 'ljust',\n",
       " 'lower',\n",
       " 'lstrip',\n",
       " 'maketrans',\n",
       " 'partition',\n",
       " 'removeprefix',\n",
       " 'removesuffix',\n",
       " 'replace',\n",
       " 'rfind',\n",
       " 'rindex',\n",
       " 'rjust',\n",
       " 'rpartition',\n",
       " 'rsplit',\n",
       " 'rstrip',\n",
       " 'split',\n",
       " 'splitlines',\n",
       " 'startswith',\n",
       " 'strip',\n",
       " 'swapcase',\n",
       " 'title',\n",
       " 'translate',\n",
       " 'upper',\n",
       " 'zfill']"
      ]
     },
     "execution_count": 64,
     "metadata": {},
     "output_type": "execute_result"
    }
   ],
   "source": [
    "dir('')"
   ]
  },
  {
   "cell_type": "code",
   "execution_count": 1,
   "id": "163a9ce3-1217-4685-b27a-eabf3b0520c3",
   "metadata": {},
   "outputs": [
    {
     "data": {
      "text/plain": [
       "5"
      ]
     },
     "execution_count": 1,
     "metadata": {},
     "output_type": "execute_result"
    }
   ],
   "source": [
    "str1='asdRt@Cfrd'\n",
    "str1.find('@')"
   ]
  },
  {
   "cell_type": "code",
   "execution_count": 3,
   "id": "e7f3a593-b113-4228-a49d-7665e90435f5",
   "metadata": {},
   "outputs": [
    {
     "data": {
      "text/plain": [
       "['__add__',\n",
       " '__class__',\n",
       " '__class_getitem__',\n",
       " '__contains__',\n",
       " '__delattr__',\n",
       " '__delitem__',\n",
       " '__dir__',\n",
       " '__doc__',\n",
       " '__eq__',\n",
       " '__format__',\n",
       " '__ge__',\n",
       " '__getattribute__',\n",
       " '__getitem__',\n",
       " '__getstate__',\n",
       " '__gt__',\n",
       " '__hash__',\n",
       " '__iadd__',\n",
       " '__imul__',\n",
       " '__init__',\n",
       " '__init_subclass__',\n",
       " '__iter__',\n",
       " '__le__',\n",
       " '__len__',\n",
       " '__lt__',\n",
       " '__mul__',\n",
       " '__ne__',\n",
       " '__new__',\n",
       " '__reduce__',\n",
       " '__reduce_ex__',\n",
       " '__repr__',\n",
       " '__reversed__',\n",
       " '__rmul__',\n",
       " '__setattr__',\n",
       " '__setitem__',\n",
       " '__sizeof__',\n",
       " '__str__',\n",
       " '__subclasshook__',\n",
       " 'append',\n",
       " 'clear',\n",
       " 'copy',\n",
       " 'count',\n",
       " 'extend',\n",
       " 'index',\n",
       " 'insert',\n",
       " 'pop',\n",
       " 'remove',\n",
       " 'reverse',\n",
       " 'sort']"
      ]
     },
     "execution_count": 3,
     "metadata": {},
     "output_type": "execute_result"
    }
   ],
   "source": [
    "dir([])"
   ]
  },
  {
   "cell_type": "markdown",
   "id": "a8dc7bf8-bb09-48de-ada7-4ca56f59153c",
   "metadata": {},
   "source": [
    "**extend**"
   ]
  },
  {
   "cell_type": "code",
   "execution_count": 10,
   "id": "32155ac9-b851-48ad-b1b1-56acecc32172",
   "metadata": {},
   "outputs": [
    {
     "name": "stdout",
     "output_type": "stream",
     "text": [
      "[1, 2, 3, 4, 5, 'A', 'B', 'C', 'D']\n"
     ]
    }
   ],
   "source": [
    "l1=[1,2,3,4,5]\n",
    "l2=['A','B','C','D']\n",
    "l1.extend(l2)\n",
    "print(l1)"
   ]
  },
  {
   "cell_type": "code",
   "execution_count": 12,
   "id": "13861287-e9d7-46d5-9217-43c3133bb435",
   "metadata": {},
   "outputs": [
    {
     "name": "stdout",
     "output_type": "stream",
     "text": [
      "['A', 'B', 'C', 'D', 1, 2, 3, 4, 5]\n"
     ]
    }
   ],
   "source": [
    "l1=[1,2,3,4,5]\n",
    "l2=['A','B','C','D']\n",
    "l2.extend(l1)\n",
    "print(l2)"
   ]
  },
  {
   "cell_type": "code",
   "execution_count": 14,
   "id": "e90d650a-c0e2-409c-83d7-9a402439d47b",
   "metadata": {},
   "outputs": [
    {
     "name": "stdout",
     "output_type": "stream",
     "text": [
      "['A', 'B', 'C', 'D', [1, 2, 3, 4, 5]]\n"
     ]
    }
   ],
   "source": [
    "l1=[1,2,3,4,5]\n",
    "l2=['A','B','C','D']\n",
    "l2.append(l1)\n",
    "print(l2)"
   ]
  },
  {
   "cell_type": "code",
   "execution_count": 16,
   "id": "efdbd04f-f4fd-4572-a9ef-9d1e679429f3",
   "metadata": {},
   "outputs": [
    {
     "name": "stdout",
     "output_type": "stream",
     "text": [
      "['A', 'B', 'C', 'D', [1, 2, 3, 4, 5]]\n"
     ]
    }
   ],
   "source": [
    "l1=[1,2,3,4,5]\n",
    "l2=['A','B','C','D']\n",
    "l2.append(l1)\n",
    "print(l2)"
   ]
  },
  {
   "cell_type": "markdown",
   "id": "fae0da2c-9381-47ba-9c52-7c38261c4b02",
   "metadata": {},
   "source": [
    "**index**"
   ]
  },
  {
   "cell_type": "code",
   "execution_count": 23,
   "id": "61e4227e-5109-4bda-a0cb-160dc07658c2",
   "metadata": {},
   "outputs": [
    {
     "data": {
      "text/plain": [
       "2"
      ]
     },
     "execution_count": 23,
     "metadata": {},
     "output_type": "execute_result"
    }
   ],
   "source": [
    "l1=[1,2,3,4,5]\n",
    "l1.index(3)"
   ]
  },
  {
   "cell_type": "markdown",
   "id": "39775048-73b5-43b1-880d-f4601248979d",
   "metadata": {},
   "source": [
    "**insert**"
   ]
  },
  {
   "cell_type": "code",
   "execution_count": 25,
   "id": "ec12bd46-8722-4e0b-81c7-97366e4b8abc",
   "metadata": {},
   "outputs": [
    {
     "name": "stdout",
     "output_type": "stream",
     "text": [
      "['A', 'Arun', 'B', 'C', 'D']\n"
     ]
    }
   ],
   "source": [
    "l2=['A','B','C','D']\n",
    "l2.insert(1,'Arun')\n",
    "print(l2)"
   ]
  },
  {
   "cell_type": "code",
   "execution_count": 27,
   "id": "f2e16994-f310-4a52-8c3a-71b6ed3073c2",
   "metadata": {},
   "outputs": [
    {
     "ename": "TypeError",
     "evalue": "insert expected 2 arguments, got 1",
     "output_type": "error",
     "traceback": [
      "\u001b[1;31m---------------------------------------------------------------------------\u001b[0m",
      "\u001b[1;31mTypeError\u001b[0m                                 Traceback (most recent call last)",
      "Cell \u001b[1;32mIn[27], line 1\u001b[0m\n\u001b[1;32m----> 1\u001b[0m l2\u001b[38;5;241m.\u001b[39minsert(\u001b[38;5;124m'\u001b[39m\u001b[38;5;124mArun\u001b[39m\u001b[38;5;124m'\u001b[39m)\n\u001b[0;32m      2\u001b[0m \u001b[38;5;28mprint\u001b[39m(l2)\n",
      "\u001b[1;31mTypeError\u001b[0m: insert expected 2 arguments, got 1"
     ]
    }
   ],
   "source": [
    "l2.insert('Arun')\n",
    "print(l2)"
   ]
  },
  {
   "cell_type": "code",
   "execution_count": 29,
   "id": "48b41a70-8dc0-4eae-91a9-a6e9a8c2bf52",
   "metadata": {},
   "outputs": [
    {
     "name": "stdout",
     "output_type": "stream",
     "text": [
      "['A', 'Arun', 'B', 'C', 'D', [1, 2, 3, 4, 5]]\n"
     ]
    }
   ],
   "source": [
    "l1=[1,2,3,4,5]\n",
    "l2=['A','B','C','D']\n",
    "l2.insert(99,l1)\n",
    "print(l2)"
   ]
  },
  {
   "cell_type": "markdown",
   "id": "7f8d8b0f-b969-43f7-8237-53e1f87b2452",
   "metadata": {},
   "source": [
    "**pop**"
   ]
  },
  {
   "cell_type": "code",
   "execution_count": 32,
   "id": "627e22b3-c157-4c9e-98a0-ffd3a71ac040",
   "metadata": {},
   "outputs": [
    {
     "name": "stdout",
     "output_type": "stream",
     "text": [
      "['A', 'B', 'C']\n"
     ]
    }
   ],
   "source": [
    "l1=[1,2,3,4,5]\n",
    "l2=['A','B','C','D']\n",
    "l2.pop()\n",
    "print(l2)"
   ]
  },
  {
   "cell_type": "code",
   "execution_count": 38,
   "id": "b7c33a84-5393-40fe-803a-9a0542a036de",
   "metadata": {},
   "outputs": [
    {
     "name": "stdout",
     "output_type": "stream",
     "text": [
      "B\n",
      "['A', 'C', 'D']\n"
     ]
    }
   ],
   "source": [
    "l2=['A','B','C','D']\n",
    "print(l2.pop(1))\n",
    "print(l2)"
   ]
  },
  {
   "cell_type": "markdown",
   "id": "bfcdd1b1-ddff-4451-8c27-aec4cf796321",
   "metadata": {},
   "source": [
    "**remove**"
   ]
  },
  {
   "cell_type": "code",
   "execution_count": 41,
   "id": "db7df9be-7fb6-4aa1-94ce-b6fe6f69c63e",
   "metadata": {},
   "outputs": [
    {
     "name": "stdout",
     "output_type": "stream",
     "text": [
      "['A', 'C', 'D']\n"
     ]
    }
   ],
   "source": [
    "l2=['A','B','C','D']\n",
    "l2.remove('B')\n",
    "print(l2)"
   ]
  },
  {
   "cell_type": "markdown",
   "id": "3b3a3ee2-3644-4328-aff5-09bd170c41f1",
   "metadata": {},
   "source": [
    "**reverse**"
   ]
  },
  {
   "cell_type": "code",
   "execution_count": 45,
   "id": "df7a025f-b8d1-4605-b806-5798ad7a02dd",
   "metadata": {},
   "outputs": [
    {
     "name": "stdout",
     "output_type": "stream",
     "text": [
      "['D', 'C', 'B', 'A']\n"
     ]
    }
   ],
   "source": [
    "l2=['A','B','C','D']\n",
    "l2.reverse()\n",
    "print(l2)"
   ]
  },
  {
   "cell_type": "markdown",
   "id": "097f0c53-531d-447e-b75a-e8d5d23c6f4e",
   "metadata": {},
   "source": [
    "**sort**"
   ]
  },
  {
   "cell_type": "code",
   "execution_count": 51,
   "id": "234752a4-c11c-437b-98f2-6fcf4754c22f",
   "metadata": {},
   "outputs": [
    {
     "name": "stdout",
     "output_type": "stream",
     "text": [
      "[1, 4, 400, 2003]\n"
     ]
    }
   ],
   "source": [
    "l1=[1,2003,4,400]\n",
    "l2=['A','B','C','D']\n",
    "l1.sort()\n",
    "print(l1)"
   ]
  },
  {
   "cell_type": "markdown",
   "id": "987b07ca-6fa7-411d-a424-855638507324",
   "metadata": {},
   "source": [
    "- If you want to remove any element\n",
    "- pop: based on index\n",
    "- remove: based on element\n",
    "- del: inbuilt function removes based on index"
   ]
  },
  {
   "cell_type": "code",
   "execution_count": 55,
   "id": "42a455fa-69d6-4156-8e7a-c7b09f918a31",
   "metadata": {},
   "outputs": [
    {
     "ename": "NameError",
     "evalue": "name 'l1' is not defined",
     "output_type": "error",
     "traceback": [
      "\u001b[1;31m---------------------------------------------------------------------------\u001b[0m",
      "\u001b[1;31mNameError\u001b[0m                                 Traceback (most recent call last)",
      "Cell \u001b[1;32mIn[55], line 3\u001b[0m\n\u001b[0;32m      1\u001b[0m l1\u001b[38;5;241m=\u001b[39m[\u001b[38;5;241m1\u001b[39m,\u001b[38;5;241m2003\u001b[39m,\u001b[38;5;241m4\u001b[39m,\u001b[38;5;241m400\u001b[39m]\n\u001b[0;32m      2\u001b[0m \u001b[38;5;28;01mdel\u001b[39;00m(l1)\n\u001b[1;32m----> 3\u001b[0m \u001b[38;5;28mprint\u001b[39m(l1)\n",
      "\u001b[1;31mNameError\u001b[0m: name 'l1' is not defined"
     ]
    }
   ],
   "source": [
    "l1=[1,2003,4,400]\n",
    "del(l1)\n",
    "print(l1)"
   ]
  },
  {
   "cell_type": "code",
   "execution_count": 57,
   "id": "8858ab2c-61b7-4914-91c2-23e9e241dc11",
   "metadata": {},
   "outputs": [
    {
     "name": "stdout",
     "output_type": "stream",
     "text": [
      "[1, 4, 400]\n"
     ]
    }
   ],
   "source": [
    "l1=[1,2003,4,400]\n",
    "del(l1[1])\n",
    "print(l1)"
   ]
  },
  {
   "cell_type": "code",
   "execution_count": 77,
   "id": "6d1f3a41-883b-46c3-a843-391d85915b76",
   "metadata": {},
   "outputs": [
    {
     "name": "stdout",
     "output_type": "stream",
     "text": [
      "<list_reverseiterator object at 0x000002CD0A22D0F0>\n"
     ]
    }
   ],
   "source": [
    "l2=['A','B','C','D']\n",
    "l3=reversed(l2)\n",
    "print(l3)"
   ]
  },
  {
   "cell_type": "markdown",
   "id": "09d0d4f6-ec9f-4d1f-9cf5-68108a9954c8",
   "metadata": {},
   "source": [
    "**IN PLACE**M\n",
    "- When we perform some operation , it will override "
   ]
  },
  {
   "cell_type": "markdown",
   "id": "c384ad39-b328-4dae-8a0f-096de6410e7d",
   "metadata": {},
   "source": [
    "- inbuilt functions can use for any data type\n",
    "- but methods aer wrt to datatypes"
   ]
  },
  {
   "cell_type": "code",
   "execution_count": null,
   "id": "b8bf62c2-082a-4695-9f06-065d92a8e370",
   "metadata": {},
   "outputs": [],
   "source": []
  }
 ],
 "metadata": {
  "kernelspec": {
   "display_name": "Python [conda env:base] *",
   "language": "python",
   "name": "conda-base-py"
  },
  "language_info": {
   "codemirror_mode": {
    "name": "ipython",
    "version": 3
   },
   "file_extension": ".py",
   "mimetype": "text/x-python",
   "name": "python",
   "nbconvert_exporter": "python",
   "pygments_lexer": "ipython3",
   "version": "3.12.7"
  }
 },
 "nbformat": 4,
 "nbformat_minor": 5
}
